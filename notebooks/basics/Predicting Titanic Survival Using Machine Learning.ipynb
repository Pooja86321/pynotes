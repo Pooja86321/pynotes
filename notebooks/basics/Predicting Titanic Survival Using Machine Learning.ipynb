{
 "cells": [
  {
   "cell_type": "code",
   "execution_count": null,
   "id": "1b632709-8de3-4587-867e-d3a87733d73a",
   "metadata": {},
   "outputs": [],
   "source": [
    "import pandas as pd\n",
    "import seaborn as sns\n",
    "import matplotlib.pyplot as plt\n",
    "from sklearn.model_selection import train_test_split\n",
    "from sklearn.ensemble import RandomForestClassifier\n",
    "from sklearn.metrics import classification_report, accuracy_score\n",
    "from sklearn.preprocessing import LabelEncoder"
   ]
  },
  {
   "cell_type": "code",
   "execution_count": null,
   "id": "e53ee0c0-90bd-4402-a358-18173ae045a9",
   "metadata": {},
   "outputs": [],
   "source": [
    "df = sns.load_dataset('titanic')\n",
    "print(\"Dataset Loaded. Shape:\", df.shape)"
   ]
  },
  {
   "cell_type": "code",
   "execution_count": null,
   "id": "43270928-1f19-4c72-8949-1b95e95c0de7",
   "metadata": {},
   "outputs": [],
   "source": [
    "print(\"\\nData Info:\")\n",
    "print(df.info())"
   ]
  },
  {
   "cell_type": "code",
   "execution_count": null,
   "id": "862c85bc-9197-4584-a32d-b8bf010d2823",
   "metadata": {},
   "outputs": [],
   "source": [
    "print(\"\\nMissing Values:\")\n",
    "print(df.isnull().sum())"
   ]
  },
  {
   "cell_type": "code",
   "execution_count": null,
   "id": "ca9c6127-7615-4b5d-bf1a-8bd3ebb29459",
   "metadata": {},
   "outputs": [],
   "source": [
    "df['age'].fillna(df['age'].median(), inplace=True)\n",
    "df['embarked'].fillna(df['embarked'].mode()[0], inplace=True)\n",
    "df.drop(columns=['deck'], inplace=True)"
   ]
  },
  {
   "cell_type": "code",
   "execution_count": null,
   "id": "c3281fd5-5e6d-40bd-b90a-84a834e6216f",
   "metadata": {},
   "outputs": [],
   "source": [
    "df.drop(columns=['who', 'adult_male', 'alive', 'class'], inplace=True)"
   ]
  },
  {
   "cell_type": "code",
   "execution_count": null,
   "id": "dfec9be4-c92e-45ae-94df-19f82d056a8a",
   "metadata": {},
   "outputs": [],
   "source": [
    "label_encoders = {}\n",
    "categorical_cols = ['sex', 'embarked', 'embark_town', 'alone']"
   ]
  },
  {
   "cell_type": "code",
   "execution_count": null,
   "id": "26e8055f-dfb5-48e6-9016-04059b7516aa",
   "metadata": {},
   "outputs": [],
   "source": [
    "for col in categorical_cols:\n",
    "    le = LabelEncoder()\n",
    "    df[col] = le.fit_transform(df[col])\n",
    "    label_encoders[col] = le"
   ]
  },
  {
   "cell_type": "code",
   "execution_count": null,
   "id": "3f77655b-ae89-4764-85ff-c2f91dc073df",
   "metadata": {},
   "outputs": [],
   "source": [
    "sns.countplot(data=df, x='sex', hue='survived')\n",
    "plt.title(\"Survival by Gender\")\n",
    "plt.show()"
   ]
  },
  {
   "cell_type": "code",
   "execution_count": null,
   "id": "a4d12183-5882-4ae3-b2b4-caa88260e386",
   "metadata": {},
   "outputs": [],
   "source": [
    "sns.countplot(data=df, x='pclass', hue='survived')\n",
    "plt.title(\"Survival by Class\")\n",
    "plt.show()"
   ]
  },
  {
   "cell_type": "code",
   "execution_count": null,
   "id": "3ea4b036-ad51-41d7-8578-ca88fea19c1b",
   "metadata": {},
   "outputs": [],
   "source": [
    "sns.histplot(data=df, x='age', kde=True, hue='survived', bins=30)\n",
    "plt.title(\"Age Distribution by Survival\")\n",
    "plt.show()"
   ]
  },
  {
   "cell_type": "code",
   "execution_count": null,
   "id": "5cce6eec-df12-4078-a249-3425a2b4c6b7",
   "metadata": {},
   "outputs": [],
   "source": [
    "plt.figure(figsize=(10, 6))\n",
    "sns.heatmap(df.corr(numeric_only=True), annot=True, cmap='coolwarm')\n",
    "plt.title(\"Feature Correlation\")\n",
    "plt.show()"
   ]
  },
  {
   "cell_type": "code",
   "execution_count": null,
   "id": "9f447a52-8d8c-412b-82a2-6f43af7caf3e",
   "metadata": {},
   "outputs": [],
   "source": [
    "X = df.drop(columns=['survived'])\n",
    "y = df['survived']"
   ]
  },
  {
   "cell_type": "code",
   "execution_count": null,
   "id": "7ea1710c-97ab-425e-8b89-520fcf8a17be",
   "metadata": {},
   "outputs": [],
   "source": [
    "X_train, X_test, y_train, y_test = train_test_split(X, y, test_size=0.2, random_state=42)"
   ]
  },
  {
   "cell_type": "code",
   "execution_count": null,
   "id": "d0312433-aa84-4317-8688-2754049c8799",
   "metadata": {},
   "outputs": [],
   "source": [
    "model = RandomForestClassifier(n_estimators=100, random_state=42)\n",
    "model.fit(X_train, y_train)"
   ]
  },
  {
   "cell_type": "code",
   "execution_count": null,
   "id": "de432b2e-492f-47d5-a04f-4631475da559",
   "metadata": {},
   "outputs": [],
   "source": [
    "y_pred = model.predict(X_test)\n",
    "acc = accuracy_score(y_test, y_pred)"
   ]
  },
  {
   "cell_type": "code",
   "execution_count": null,
   "id": "95bf891e-7b63-4799-8e35-740953f11348",
   "metadata": {},
   "outputs": [],
   "source": [
    "print(\"\\nModel Accuracy:\", acc)\n",
    "print(\"\\nClassification Report:\")\n",
    "print(classification_report(y_test, y_pred))"
   ]
  },
  {
   "cell_type": "code",
   "execution_count": null,
   "id": "0ae47342-8b72-47c3-b250-1d5d3dc35a4a",
   "metadata": {},
   "outputs": [],
   "source": [
    "importances = pd.Series(model.feature_importances_, index=X.columns)\n",
    "importances.sort_values().plot(kind='barh', title='Feature Importance')\n",
    "plt.xlabel(\"Importance Score\")\n",
    "plt.show()"
   ]
  },
  {
   "cell_type": "code",
   "execution_count": null,
   "id": "8ea07eff-0ccb-4f3f-8667-81dfdf29cee3",
   "metadata": {},
   "outputs": [],
   "source": [
    "print(\"Conclusion:\")\n",
    "print(\"- Model accuracy is around {:.2f}%.\".format(acc * 100))\n",
    "print(\"- 'Sex', 'Fare', and 'Pclass' were key predictors.\")\n",
    "print(\"- Better results could be achieved with hyperparameter tuning.\")"
   ]
  },
  {
   "cell_type": "code",
   "execution_count": null,
   "id": "6d2c2853-a9d3-4126-9c12-c7b001cfc038",
   "metadata": {},
   "outputs": [],
   "source": []
  },
  {
   "cell_type": "code",
   "execution_count": null,
   "id": "5a6c7469-1472-4af0-9af9-6fa35b54e728",
   "metadata": {},
   "outputs": [],
   "source": []
  },
  {
   "cell_type": "code",
   "execution_count": null,
   "id": "66e44744-790f-4e80-8ddf-592fff8e4216",
   "metadata": {},
   "outputs": [],
   "source": []
  },
  {
   "cell_type": "code",
   "execution_count": null,
   "id": "42091d3f-6fea-4ac5-980f-a8b7cad954d4",
   "metadata": {},
   "outputs": [],
   "source": []
  }
 ],
 "metadata": {
  "kernelspec": {
   "display_name": "Python 3 (ipykernel)",
   "language": "python",
   "name": "python3"
  },
  "language_info": {
   "codemirror_mode": {
    "name": "ipython",
    "version": 3
   },
   "file_extension": ".py",
   "mimetype": "text/x-python",
   "name": "python",
   "nbconvert_exporter": "python",
   "pygments_lexer": "ipython3",
   "version": "3.11.13"
  }
 },
 "nbformat": 4,
 "nbformat_minor": 5
}

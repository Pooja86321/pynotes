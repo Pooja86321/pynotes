{
 "cells": [
  {
   "cell_type": "code",
   "execution_count": null,
   "id": "7540e529-7d02-4ef8-9658-e5314a825807",
   "metadata": {},
   "outputs": [],
   "source": [
    "print(\"hello world!\")"
   ]
  },
  {
   "cell_type": "code",
   "execution_count": null,
   "id": "7eb0243e-7fe0-4259-9e45-4ec9f3d5a98c",
   "metadata": {},
   "outputs": [],
   "source": [
    "my code"
   ]
  }
 ],
 "metadata": {
  "kernelspec": {
   "display_name": "Python 3 (ipykernel)",
   "language": "python",
   "name": "python3"
  },
  "language_info": {
   "codemirror_mode": {
    "name": "ipython",
    "version": 3
   },
   "file_extension": ".py",
   "mimetype": "text/x-python",
   "name": "python",
   "nbconvert_exporter": "python",
   "pygments_lexer": "ipython3",
   "version": "3.11.13"
  }
 },
 "nbformat": 4,
 "nbformat_minor": 5
}

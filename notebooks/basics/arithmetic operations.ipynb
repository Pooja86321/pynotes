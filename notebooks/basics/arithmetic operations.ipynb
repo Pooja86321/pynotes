{
 "cells": [
  {
   "cell_type": "code",
   "execution_count": null,
   "id": "ba8485bc-0f81-46a1-8d24-80cf66f0d66f",
   "metadata": {},
   "outputs": [],
   "source": [
    "print(1 + 2)"
   ]
  },
  {
   "cell_type": "code",
   "execution_count": null,
   "id": "15ce9767-e490-4e70-8d9a-784eeceb4e48",
   "metadata": {},
   "outputs": [],
   "source": [
    "print(3 * 4)"
   ]
  },
  {
   "cell_type": "code",
   "execution_count": null,
   "id": "325856ee-7bc5-4e79-980f-3fa82a77f8fc",
   "metadata": {},
   "outputs": [],
   "source": [
    "print(10 / 2)"
   ]
  },
  {
   "cell_type": "code",
   "execution_count": null,
   "id": "7704ea88-8648-482a-9659-7c766a167e10",
   "metadata": {},
   "outputs": [],
   "source": [
    "print(9 // 4)"
   ]
  },
  {
   "cell_type": "code",
   "execution_count": null,
   "id": "4e4dc348-84a6-4fa9-9a75-ccea2ea251bb",
   "metadata": {},
   "outputs": [],
   "source": [
    "print(10 % 3)"
   ]
  },
  {
   "cell_type": "code",
   "execution_count": null,
   "id": "35a043c9-d922-4d8d-9076-63c618b41df0",
   "metadata": {},
   "outputs": [],
   "source": [
    "print(2 ** 3)"
   ]
  },
  {
   "cell_type": "code",
   "execution_count": null,
   "id": "c92ad1d9-33c3-4b3b-b1a6-8231c93c59dc",
   "metadata": {},
   "outputs": [],
   "source": [
    "print(4 + 5)"
   ]
  },
  {
   "cell_type": "code",
   "execution_count": null,
   "id": "09c81c26-0204-4778-9e9d-6df7bad69387",
   "metadata": {},
   "outputs": [],
   "source": [
    "print(6 - 7)"
   ]
  },
  {
   "cell_type": "code",
   "execution_count": null,
   "id": "807dd4b6-f926-4c8c-a333-1e23bc439f49",
   "metadata": {},
   "outputs": [],
   "source": [
    "print(8 * 2)"
   ]
  },
  {
   "cell_type": "code",
   "execution_count": null,
   "id": "78a69129-988b-4726-a136-665fae46f98e",
   "metadata": {},
   "outputs": [],
   "source": [
    "print(20 / 5)"
   ]
  },
  {
   "cell_type": "code",
   "execution_count": null,
   "id": "0745e84c-0748-4cf0-8a8b-5a72672f7773",
   "metadata": {},
   "outputs": [],
   "source": [
    "print(11 // 3)"
   ]
  },
  {
   "cell_type": "code",
   "execution_count": null,
   "id": "444733d9-dcb1-488e-b815-af4138c81e5e",
   "metadata": {},
   "outputs": [],
   "source": [
    "print(14 % 5)"
   ]
  },
  {
   "cell_type": "code",
   "execution_count": null,
   "id": "f51be5e4-1c49-4fbc-b42e-4e2519382387",
   "metadata": {},
   "outputs": [],
   "source": [
    "print(3 ** 4)"
   ]
  },
  {
   "cell_type": "code",
   "execution_count": null,
   "id": "52d79205-9268-49c1-80f8-ed9f36aa6b14",
   "metadata": {},
   "outputs": [],
   "source": [
    "print(7 + 8)"
   ]
  },
  {
   "cell_type": "code",
   "execution_count": null,
   "id": "24ff26f7-896b-459e-b9da-36cca7d7404c",
   "metadata": {},
   "outputs": [],
   "source": [
    "print(9 - 4)"
   ]
  },
  {
   "cell_type": "code",
   "execution_count": null,
   "id": "989da624-1ecf-48de-8b0a-c650e69567e5",
   "metadata": {},
   "outputs": [],
   "source": [
    "print(5 * 5)"
   ]
  },
  {
   "cell_type": "code",
   "execution_count": null,
   "id": "7c6482bb-ea8c-47b0-8d3a-4dee991cf59e",
   "metadata": {},
   "outputs": [],
   "source": [
    "print(15 / 3)"
   ]
  },
  {
   "cell_type": "code",
   "execution_count": null,
   "id": "e7478527-33e4-4f11-b228-8411125099a0",
   "metadata": {},
   "outputs": [],
   "source": [
    "print(17 // 6)"
   ]
  },
  {
   "cell_type": "code",
   "execution_count": null,
   "id": "bc9f2ea7-1d44-4d62-a670-6d7c4ebe88eb",
   "metadata": {},
   "outputs": [],
   "source": [
    "print(18 % 4)"
   ]
  },
  {
   "cell_type": "code",
   "execution_count": null,
   "id": "6fe97f29-69a1-4f74-978f-3c0b90fc074c",
   "metadata": {},
   "outputs": [],
   "source": [
    "print(4 ** 2)"
   ]
  },
  {
   "cell_type": "code",
   "execution_count": null,
   "id": "2b78df4d-cb9c-4fb4-bce3-ee965b499195",
   "metadata": {},
   "outputs": [],
   "source": [
    "print(10 + 11)"
   ]
  },
  {
   "cell_type": "code",
   "execution_count": null,
   "id": "9e18cff2-5c99-4ef4-bfd3-2c24962e3cf8",
   "metadata": {},
   "outputs": [],
   "source": [
    "print(12 - 6)"
   ]
  },
  {
   "cell_type": "code",
   "execution_count": null,
   "id": "8bf2b9d4-28f7-48ac-9b84-53c407f5431c",
   "metadata": {},
   "outputs": [],
   "source": [
    "print(7 * 7)"
   ]
  },
  {
   "cell_type": "code",
   "execution_count": null,
   "id": "ba605911-5385-4091-a5dd-4e24ae1a9735",
   "metadata": {},
   "outputs": [],
   "source": [
    "print(24 / 4)"
   ]
  },
  {
   "cell_type": "code",
   "execution_count": null,
   "id": "3cada0f0-5687-4a58-8dc2-aa430f70a492",
   "metadata": {},
   "outputs": [],
   "source": [
    "print(19 // 5)"
   ]
  },
  {
   "cell_type": "code",
   "execution_count": null,
   "id": "bc682a22-cb19-43f0-8532-645a25ebe4f5",
   "metadata": {},
   "outputs": [],
   "source": [
    "print(20 % 6)"
   ]
  },
  {
   "cell_type": "code",
   "execution_count": null,
   "id": "04538543-70ff-44e2-bb7b-a7bace6657aa",
   "metadata": {},
   "outputs": [],
   "source": [
    "print(5 ** 3)"
   ]
  },
  {
   "cell_type": "code",
   "execution_count": null,
   "id": "98cf9c79-97db-4d5f-8fc3-842099498a96",
   "metadata": {},
   "outputs": [],
   "source": [
    "print(13 + 14)"
   ]
  },
  {
   "cell_type": "code",
   "execution_count": null,
   "id": "9a0df3fd-61e9-4def-874e-690a10da9b7f",
   "metadata": {},
   "outputs": [],
   "source": [
    "print(15 - 7)"
   ]
  },
  {
   "cell_type": "code",
   "execution_count": null,
   "id": "ae09e988-2bff-47c1-9688-c53c96fadca9",
   "metadata": {},
   "outputs": [],
   "source": [
    "print(8 * 3)"
   ]
  },
  {
   "cell_type": "code",
   "execution_count": null,
   "id": "f92c8733-0c14-4fee-a0ca-8ac40220e010",
   "metadata": {},
   "outputs": [],
   "source": [
    "print(26 % 4)"
   ]
  },
  {
   "cell_type": "code",
   "execution_count": null,
   "id": "550e0d66-b864-47d4-8915-821b3067010f",
   "metadata": {},
   "outputs": [],
   "source": [
    "print(25 // 5)"
   ]
  },
  {
   "cell_type": "code",
   "execution_count": null,
   "id": "17bfb03e-b20c-4585-b665-2d9cd98393eb",
   "metadata": {},
   "outputs": [],
   "source": [
    "print(27 / 9)"
   ]
  },
  {
   "cell_type": "code",
   "execution_count": null,
   "id": "326144c9-2d56-401a-9638-23e77568ad13",
   "metadata": {},
   "outputs": [],
   "source": [
    "print(9 * 3)"
   ]
  },
  {
   "cell_type": "code",
   "execution_count": null,
   "id": "7dce90b1-f7f4-4078-901c-85dc8ce0d3c6",
   "metadata": {},
   "outputs": [],
   "source": [
    "print(18 - 9)"
   ]
  },
  {
   "cell_type": "code",
   "execution_count": null,
   "id": "46a935e1-e030-4631-a6ab-c15bf921c741",
   "metadata": {},
   "outputs": [],
   "source": [
    "print(16 + 17)"
   ]
  },
  {
   "cell_type": "code",
   "execution_count": null,
   "id": "b8caa7a7-29a4-4574-b124-4bf2f94955bb",
   "metadata": {},
   "outputs": [],
   "source": [
    "print(6 ** 2)"
   ]
  },
  {
   "cell_type": "code",
   "execution_count": null,
   "id": "0aebe385-6003-46d9-bb72-6d0507d3be28",
   "metadata": {},
   "outputs": [],
   "source": [
    "print(23 % 7)"
   ]
  },
  {
   "cell_type": "code",
   "execution_count": null,
   "id": "4cca6bf6-1b7e-45c7-bd2d-e7d29293bf8d",
   "metadata": {},
   "outputs": [],
   "source": [
    "print(22 // 4)"
   ]
  },
  {
   "cell_type": "code",
   "execution_count": null,
   "id": "dd16eb82-09cc-448d-9d0a-4a0f71466c98",
   "metadata": {},
   "outputs": [],
   "source": [
    "print(30 / 6)"
   ]
  },
  {
   "cell_type": "code",
   "execution_count": null,
   "id": "9b72113c-6617-4d76-8a33-9db00d29b415",
   "metadata": {},
   "outputs": [],
   "source": [
    "print(2 - 3)"
   ]
  },
  {
   "cell_type": "code",
   "execution_count": null,
   "id": "37ceda20-8815-41da-84bd-ef01b8d12833",
   "metadata": {},
   "outputs": [],
   "source": [
    "print(22 + 23)"
   ]
  },
  {
   "cell_type": "code",
   "execution_count": null,
   "id": "f76c4303-6eb7-42dd-bdf8-f10c05b316d7",
   "metadata": {},
   "outputs": [],
   "source": [
    "print(8 ** 2)"
   ]
  },
  {
   "cell_type": "code",
   "execution_count": null,
   "id": "1db4e730-5bf3-4e4d-944c-a0d50419afe6",
   "metadata": {},
   "outputs": [],
   "source": [
    "print(29 % 5)"
   ]
  },
  {
   "cell_type": "code",
   "execution_count": null,
   "id": "356c393f-9edd-4c57-b305-e836f44aba08",
   "metadata": {},
   "outputs": [],
   "source": [
    "print(28 // 6)"
   ]
  },
  {
   "cell_type": "code",
   "execution_count": null,
   "id": "78e5a611-cf14-4adb-9874-472036899e81",
   "metadata": {},
   "outputs": [],
   "source": [
    "print(40 / 5)"
   ]
  },
  {
   "cell_type": "code",
   "execution_count": null,
   "id": "5318259a-84b6-40eb-b725-a4d3ea547287",
   "metadata": {},
   "outputs": [],
   "source": [
    "print(10 * 4)"
   ]
  },
  {
   "cell_type": "code",
   "execution_count": null,
   "id": "9fef4578-133c-414b-88c6-cd0e5614d927",
   "metadata": {},
   "outputs": [],
   "source": [
    "print(21 - 10)"
   ]
  },
  {
   "cell_type": "code",
   "execution_count": null,
   "id": "2bd2d992-1b2f-422d-903e-dfd6439000aa",
   "metadata": {},
   "outputs": [],
   "source": [
    "print(19 + 20)"
   ]
  },
  {
   "cell_type": "code",
   "execution_count": null,
   "id": "69998adc-c334-4152-9a70-594c66cef3da",
   "metadata": {},
   "outputs": [],
   "source": [
    "print(7 ** 2)"
   ]
  },
  {
   "cell_type": "code",
   "execution_count": null,
   "id": "c24e9b47-08b2-4e1e-b5be-eaae44363470",
   "metadata": {},
   "outputs": [],
   "source": [
    "print(1 + 2)"
   ]
  },
  {
   "cell_type": "code",
   "execution_count": null,
   "id": "0e7d1773-f503-40d3-bf29-c8fabc9750e7",
   "metadata": {},
   "outputs": [],
   "source": [
    "print(10 - 3)"
   ]
  },
  {
   "cell_type": "code",
   "execution_count": null,
   "id": "e02fe943-ffb7-45c7-8cd7-2988cb00efd7",
   "metadata": {},
   "outputs": [],
   "source": [
    "print(4 * 5)"
   ]
  },
  {
   "cell_type": "code",
   "execution_count": null,
   "id": "e705a402-f333-4f47-afe5-0a0b6599c4f8",
   "metadata": {},
   "outputs": [],
   "source": [
    "print(20 / 4)"
   ]
  },
  {
   "cell_type": "code",
   "execution_count": null,
   "id": "dec00054-9186-4bb6-b429-275effb661c8",
   "metadata": {},
   "outputs": [],
   "source": [
    "print(15 // 2)"
   ]
  },
  {
   "cell_type": "code",
   "execution_count": null,
   "id": "4bf903a5-3909-47dd-af62-7d6b0c991200",
   "metadata": {},
   "outputs": [],
   "source": [
    "print(17 % 3)"
   ]
  },
  {
   "cell_type": "code",
   "execution_count": null,
   "id": "573615c9-3918-4e4f-8ccb-2310acf3aff9",
   "metadata": {},
   "outputs": [],
   "source": [
    "print(3 + 7)"
   ]
  },
  {
   "cell_type": "code",
   "execution_count": null,
   "id": "3bd68fbc-06b8-4aa8-9e93-cf32116aaa21",
   "metadata": {},
   "outputs": [],
   "source": [
    "print(12 - 5)"
   ]
  },
  {
   "cell_type": "code",
   "execution_count": null,
   "id": "1e7d5533-9ba3-42b6-9dec-b359e73214a3",
   "metadata": {},
   "outputs": [],
   "source": [
    "print(6 * 6)"
   ]
  },
  {
   "cell_type": "code",
   "execution_count": null,
   "id": "16b3c460-9632-4ca8-987b-e01fcd861ab2",
   "metadata": {},
   "outputs": [],
   "source": [
    "print(49 / 7)"
   ]
  },
  {
   "cell_type": "code",
   "execution_count": null,
   "id": "78fd84c0-c1fa-4af9-a6bb-d9dfaf848188",
   "metadata": {},
   "outputs": [],
   "source": [
    "print(33 // 8)"
   ]
  },
  {
   "cell_type": "code",
   "execution_count": null,
   "id": "af85998e-f4a0-4d44-9b67-7003d4cb7523",
   "metadata": {},
   "outputs": [],
   "source": [
    "print(29 % 6)"
   ]
  },
  {
   "cell_type": "code",
   "execution_count": null,
   "id": "f3c0a624-20e2-42ef-999a-a83d4b0fa686",
   "metadata": {},
   "outputs": [],
   "source": [
    "print(5 ** 3)"
   ]
  },
  {
   "cell_type": "code",
   "execution_count": null,
   "id": "f9baa274-12e1-4ce4-a044-4f9f6f623dcc",
   "metadata": {},
   "outputs": [],
   "source": [
    "print(7 + 9)"
   ]
  },
  {
   "cell_type": "code",
   "execution_count": null,
   "id": "1b4a9f83-9d8a-4709-924c-bab6bd95cc36",
   "metadata": {},
   "outputs": [],
   "source": [
    "print(18 - 7)"
   ]
  },
  {
   "cell_type": "code",
   "execution_count": null,
   "id": "5d552c58-f998-4cca-a23c-44327ab71beb",
   "metadata": {},
   "outputs": [],
   "source": [
    "print(8 * 9)"
   ]
  },
  {
   "cell_type": "code",
   "execution_count": null,
   "id": "79258b5b-fa54-4556-abfd-a16f3633c9a2",
   "metadata": {},
   "outputs": [],
   "source": [
    "print(81 / 9)"
   ]
  },
  {
   "cell_type": "code",
   "execution_count": null,
   "id": "3b372671-9cbd-4ccf-b7d4-6928b7cff801",
   "metadata": {},
   "outputs": [],
   "source": [
    "print(23 // 5)"
   ]
  },
  {
   "cell_type": "code",
   "execution_count": null,
   "id": "c4559a17-2916-42a5-b036-fc2113b69540",
   "metadata": {},
   "outputs": [],
   "source": [
    "print(24 % 7)"
   ]
  },
  {
   "cell_type": "code",
   "execution_count": null,
   "id": "4107d278-adcd-4975-9854-572024dd09dc",
   "metadata": {},
   "outputs": [],
   "source": [
    "print(6 ** 2)"
   ]
  },
  {
   "cell_type": "code",
   "execution_count": null,
   "id": "7d73771d-62a6-4d0b-9e01-720e52d80ac5",
   "metadata": {},
   "outputs": [],
   "source": [
    "print(14 + 13)"
   ]
  },
  {
   "cell_type": "code",
   "execution_count": null,
   "id": "971da507-85fb-4fbe-94ff-8b20ca3c6575",
   "metadata": {},
   "outputs": [],
   "source": [
    "print(22 - 11)"
   ]
  },
  {
   "cell_type": "code",
   "execution_count": null,
   "id": "f247a67d-ac27-41cd-9a3b-5ded701f5a78",
   "metadata": {},
   "outputs": [],
   "source": [
    "print(7 * 8)"
   ]
  },
  {
   "cell_type": "code",
   "execution_count": null,
   "id": "5f660c05-857e-429a-b214-f6d3c6301fa6",
   "metadata": {},
   "outputs": [],
   "source": [
    "print(36 / 6)"
   ]
  },
  {
   "cell_type": "code",
   "execution_count": null,
   "id": "19aeaeb4-0a6d-4b9e-aa57-c059f32eff49",
   "metadata": {},
   "outputs": [],
   "source": [
    "print(27 // 4)"
   ]
  },
  {
   "cell_type": "code",
   "execution_count": null,
   "id": "b034fd20-db5f-4595-ac54-cc60defa8c13",
   "metadata": {},
   "outputs": [],
   "source": [
    "print(28 % 9)"
   ]
  },
  {
   "cell_type": "code",
   "execution_count": null,
   "id": "c697a6ed-da87-41af-a108-d8b19026379f",
   "metadata": {},
   "outputs": [],
   "source": [
    "print(3 ** 5)"
   ]
  },
  {
   "cell_type": "code",
   "execution_count": null,
   "id": "6b666a49-3cec-428f-8442-0bcd867cf206",
   "metadata": {},
   "outputs": [],
   "source": [
    "print(11 + 10)"
   ]
  },
  {
   "cell_type": "code",
   "execution_count": null,
   "id": "d08f9fc3-653f-4d9b-8077-0ace9f485ae6",
   "metadata": {},
   "outputs": [],
   "source": [
    "print(20 - 15)"
   ]
  },
  {
   "cell_type": "code",
   "execution_count": null,
   "id": "33716f2f-9970-4d77-a368-cbc8eac14e9b",
   "metadata": {},
   "outputs": [],
   "source": [
    "print(5 * 12)"
   ]
  },
  {
   "cell_type": "code",
   "execution_count": null,
   "id": "cada48d7-1fae-45dd-98cc-a13abd7a7d14",
   "metadata": {},
   "outputs": [],
   "source": [
    "print(60 / 10)"
   ]
  },
  {
   "cell_type": "code",
   "execution_count": null,
   "id": "3222edd0-f412-4260-827e-6ea43e463627",
   "metadata": {},
   "outputs": [],
   "source": [
    "print(50 // 7)"
   ]
  },
  {
   "cell_type": "code",
   "execution_count": null,
   "id": "3b4879b6-aec5-40b9-8784-1b806b668c16",
   "metadata": {},
   "outputs": [],
   "source": [
    "print(14 + 16)"
   ]
  },
  {
   "cell_type": "code",
   "execution_count": null,
   "id": "0b8c1d5f-3020-4dcf-b4d9-f53c8da1c63c",
   "metadata": {},
   "outputs": [],
   "source": [
    "print(5 ** 4)"
   ]
  },
  {
   "cell_type": "code",
   "execution_count": null,
   "id": "bc24ff03-64a6-41a0-9aae-22b21f917300",
   "metadata": {},
   "outputs": [],
   "source": [
    "print(96 % 7)"
   ]
  },
  {
   "cell_type": "code",
   "execution_count": null,
   "id": "306934b0-bf71-4649-bb4f-fe49da6ce780",
   "metadata": {},
   "outputs": [],
   "source": [
    "print(95 // 6)"
   ]
  },
  {
   "cell_type": "code",
   "execution_count": null,
   "id": "fb7a4b32-54e1-4ab0-a384-2bfbd30f5743",
   "metadata": {},
   "outputs": [],
   "source": [
    "print(100 / 20)"
   ]
  },
  {
   "cell_type": "code",
   "execution_count": null,
   "id": "be2acf94-37c4-4e9d-af3a-fd31c37bc8bb",
   "metadata": {},
   "outputs": [],
   "source": [
    "print(10 * 10)"
   ]
  },
  {
   "cell_type": "code",
   "execution_count": null,
   "id": "5c52fcda-e75a-49f3-87d5-407793b6e4c1",
   "metadata": {},
   "outputs": [],
   "source": [
    "print(23 - 5)"
   ]
  },
  {
   "cell_type": "code",
   "execution_count": null,
   "id": "18a5ac9d-836a-4bd8-8248-61a985d06327",
   "metadata": {},
   "outputs": [],
   "source": [
    "print(12 + 14)"
   ]
  },
  {
   "cell_type": "code",
   "execution_count": null,
   "id": "74d211f0-2152-49b1-9452-96ddb1e357c0",
   "metadata": {},
   "outputs": [],
   "source": [
    "print(7 ** 3)"
   ]
  },
  {
   "cell_type": "code",
   "execution_count": null,
   "id": "af1d011f-27d1-4b06-9d6a-60aca30b2c5b",
   "metadata": {},
   "outputs": [],
   "source": [
    "print(44 % 10)"
   ]
  },
  {
   "cell_type": "code",
   "execution_count": null,
   "id": "4f4bc791-1ea7-45c8-b235-1f084e603948",
   "metadata": {},
   "outputs": [],
   "source": [
    "print(39 // 8)"
   ]
  },
  {
   "cell_type": "code",
   "execution_count": null,
   "id": "c0e3b618-d637-4ab4-b4a1-9abe75fd893f",
   "metadata": {},
   "outputs": [],
   "source": [
    "print(72 / 9)"
   ]
  },
  {
   "cell_type": "code",
   "execution_count": null,
   "id": "c39f91cc-ed89-4972-8ca8-3c1559be575f",
   "metadata": {},
   "outputs": [],
   "source": [
    "print(9 * 7)"
   ]
  },
  {
   "cell_type": "code",
   "execution_count": null,
   "id": "c206c8fb-3a3d-4b2b-8b4a-4e4ea57eec0e",
   "metadata": {},
   "outputs": [],
   "source": [
    "print(29 - 19)"
   ]
  },
  {
   "cell_type": "code",
   "execution_count": null,
   "id": "527b3241-1ab7-4e81-84c2-93064983ef64",
   "metadata": {},
   "outputs": [],
   "source": [
    "print(19 + 18)"
   ]
  },
  {
   "cell_type": "code",
   "execution_count": null,
   "id": "31ebbc59-4700-494c-815b-1b96f608369f",
   "metadata": {},
   "outputs": [],
   "source": [
    "print(4 ** 4)"
   ]
  },
  {
   "cell_type": "code",
   "execution_count": null,
   "id": "0d9f51f1-cdc6-4550-8737-50927caca42e",
   "metadata": {},
   "outputs": [],
   "source": [
    "print(52 % 8)"
   ]
  },
  {
   "cell_type": "code",
   "execution_count": null,
   "id": "f80c2868-0732-4936-901e-bde3ca37f791",
   "metadata": {},
   "outputs": [],
   "source": [
    "print((5 + 3) * 2)"
   ]
  },
  {
   "cell_type": "code",
   "execution_count": null,
   "id": "6162302b-1149-4bd8-880d-ebf9ab30d331",
   "metadata": {},
   "outputs": [],
   "source": [
    "print(10 / (2 + 3))"
   ]
  },
  {
   "cell_type": "code",
   "execution_count": null,
   "id": "acc62a3e-f7df-442a-95ed-1ed0ae968a04",
   "metadata": {},
   "outputs": [],
   "source": [
    "print((8 - 3) ** 2)"
   ]
  },
  {
   "cell_type": "code",
   "execution_count": null,
   "id": "2d228537-0d3d-4b16-bad0-9bf991d6579a",
   "metadata": {},
   "outputs": [],
   "source": [
    "print(18 // (2 * 3))"
   ]
  },
  {
   "cell_type": "code",
   "execution_count": null,
   "id": "b3c440b8-eff9-49a0-8eed-8407a36f025e",
   "metadata": {},
   "outputs": [],
   "source": [
    "print((7 % 4) + 10)"
   ]
  },
  {
   "cell_type": "code",
   "execution_count": null,
   "id": "5307e964-869f-408e-9595-dd68a8fd3954",
   "metadata": {},
   "outputs": [],
   "source": [
    "print((2 ** 3) * (4 + 1))"
   ]
  },
  {
   "cell_type": "code",
   "execution_count": null,
   "id": "577b4b68-25e9-4986-8d7b-fc7b923096c5",
   "metadata": {},
   "outputs": [],
   "source": [
    "print((15 - 5) / 2.5)"
   ]
  },
  {
   "cell_type": "code",
   "execution_count": null,
   "id": "dd6d6c45-4142-4534-9ed9-e2863664b821",
   "metadata": {},
   "outputs": [],
   "source": [
    "print((9 + 6) // 3)"
   ]
  },
  {
   "cell_type": "code",
   "execution_count": null,
   "id": "be34693d-36e5-41b8-bf9e-c7494dcecbfe",
   "metadata": {},
   "outputs": [],
   "source": [
    "print(25 % (4 + 1))"
   ]
  },
  {
   "cell_type": "code",
   "execution_count": null,
   "id": "40e39270-93d6-4848-9cb6-af248b75f55d",
   "metadata": {},
   "outputs": [],
   "source": [
    "print((3 ** 4) - 10)"
   ]
  },
  {
   "cell_type": "code",
   "execution_count": null,
   "id": "8a970ba2-1cb4-43fd-9ecc-f115a7d1f8b1",
   "metadata": {},
   "outputs": [],
   "source": [
    "print(12 + 7 * 2 - 5)"
   ]
  },
  {
   "cell_type": "code",
   "execution_count": null,
   "id": "1fd83db7-648c-4ff1-a182-4056c0539c34",
   "metadata": {},
   "outputs": [],
   "source": [
    "print((20 / 4) + (3 * 2))"
   ]
  },
  {
   "cell_type": "code",
   "execution_count": null,
   "id": "65c3c107-f091-4fbc-90c8-12a438d3bf1b",
   "metadata": {},
   "outputs": [],
   "source": [
    "print(30 // (2 + 3))"
   ]
  },
  {
   "cell_type": "code",
   "execution_count": null,
   "id": "66f79987-1c55-4b47-bbc6-643f61e842a3",
   "metadata": {},
   "outputs": [],
   "source": [
    "print((18 % 7) ** 2)"
   ]
  },
  {
   "cell_type": "code",
   "execution_count": null,
   "id": "ba0e51ff-8a50-40a3-ac97-996d4c856917",
   "metadata": {},
   "outputs": [],
   "source": [
    "print(5 + (3 * (2 + 8)))"
   ]
  },
  {
   "cell_type": "code",
   "execution_count": null,
   "id": "28600b43-dc8c-4495-9d4a-7903a1b495b5",
   "metadata": {},
   "outputs": [],
   "source": [
    "print((4 ** 3) // (5 + 3))"
   ]
  },
  {
   "cell_type": "code",
   "execution_count": null,
   "id": "b1e61b7e-3ad3-43d9-9c87-3d852ffbb436",
   "metadata": {},
   "outputs": [],
   "source": [
    "print((45 / 9) + (2 ** 4))"
   ]
  },
  {
   "cell_type": "code",
   "execution_count": null,
   "id": "b1a19e20-a690-459f-944f-20913249d885",
   "metadata": {},
   "outputs": [],
   "source": [
    "print((36 - 4) % 7)"
   ]
  },
  {
   "cell_type": "code",
   "execution_count": null,
   "id": "16c65460-7116-45dd-ab21-81de31c326db",
   "metadata": {},
   "outputs": [],
   "source": [
    "print(2 ** (3 + 2))"
   ]
  },
  {
   "cell_type": "code",
   "execution_count": null,
   "id": "df9fc0b8-0eda-40e2-8e7a-c619f31bc84f",
   "metadata": {},
   "outputs": [],
   "source": [
    "print((10 + 5) * (8 - 3))"
   ]
  },
  {
   "cell_type": "code",
   "execution_count": null,
   "id": "cec15aca-8e68-4101-ae59-ceef00c56b80",
   "metadata": {},
   "outputs": [],
   "source": [
    "print((100 // 5) - (3 ** 2))"
   ]
  },
  {
   "cell_type": "code",
   "execution_count": null,
   "id": "8be79c8c-50cd-4091-8b5a-8ba3484c579d",
   "metadata": {},
   "outputs": [],
   "source": [
    "print((50 % 9) + (6 * 7))"
   ]
  },
  {
   "cell_type": "code",
   "execution_count": null,
   "id": "a4ce9e83-b13b-404c-b46b-8029988d5562",
   "metadata": {},
   "outputs": [],
   "source": [
    "print(3 * (4 + 5) ** 2)"
   ]
  },
  {
   "cell_type": "code",
   "execution_count": null,
   "id": "039acf08-5fc9-40f9-b01d-faf333946c92",
   "metadata": {},
   "outputs": [],
   "source": [
    "print((64 / 8) + (12 // 4))"
   ]
  },
  {
   "cell_type": "code",
   "execution_count": null,
   "id": "c24035d3-e198-421c-b56c-6583d4690090",
   "metadata": {},
   "outputs": [],
   "source": [
    "print((90 % 16) - (2 ** 3))"
   ]
  },
  {
   "cell_type": "code",
   "execution_count": null,
   "id": "b694fa37-2ff2-49b4-9734-3e29739fc0c2",
   "metadata": {},
   "outputs": [],
   "source": [
    "print(7 + (9 * (5 - 2)))"
   ]
  },
  {
   "cell_type": "code",
   "execution_count": null,
   "id": "6c923d8a-0511-45f6-9f74-ab78c71fa80d",
   "metadata": {},
   "outputs": [],
   "source": [
    "print((3 ** 3) * (8 // 2))"
   ]
  },
  {
   "cell_type": "code",
   "execution_count": null,
   "id": "e6492242-6874-4887-a9df-f7c98a87e28d",
   "metadata": {},
   "outputs": [],
   "source": [
    "print((42 / 7) + (15 % 4))"
   ]
  },
  {
   "cell_type": "code",
   "execution_count": null,
   "id": "6ad71b10-7c08-4898-b1bd-8c2b5dbf9d36",
   "metadata": {},
   "outputs": [],
   "source": [
    "print((60 // 6) - (3 + 4))"
   ]
  },
  {
   "cell_type": "code",
   "execution_count": null,
   "id": "d3e54688-f690-4f90-9e26-8b9db64440c6",
   "metadata": {},
   "outputs": [],
   "source": [
    "print((90 // 10) - (4 ** 1))"
   ]
  },
  {
   "cell_type": "code",
   "execution_count": null,
   "id": "d331158f-61c1-4e15-9e2c-14adb39b877c",
   "metadata": {},
   "outputs": [],
   "source": [
    "print((6 + 7) * (3 ** 2))"
   ]
  },
  {
   "cell_type": "code",
   "execution_count": null,
   "id": "b2f803fb-8445-46fd-92df-8c1b3bd4bf16",
   "metadata": {},
   "outputs": [],
   "source": [
    "print((50 / 5) + (12 % 7))"
   ]
  },
  {
   "cell_type": "code",
   "execution_count": null,
   "id": "4c6e0184-0f8f-4e50-ad32-31952820e3b1",
   "metadata": {},
   "outputs": [],
   "source": [
    "print((3 ** 4) // (10 - 6))"
   ]
  },
  {
   "cell_type": "code",
   "execution_count": null,
   "id": "d30176b9-76b5-4e9c-a50a-a14d7d435932",
   "metadata": {},
   "outputs": [],
   "source": [
    "print((14 % 4) * (5 + 2))"
   ]
  },
  {
   "cell_type": "code",
   "execution_count": null,
   "id": "28514e5a-2c24-44d6-a867-553698ea9cf6",
   "metadata": {},
   "outputs": [],
   "source": [
    "print((81 / 9) + (2 ** 6))"
   ]
  },
  {
   "cell_type": "code",
   "execution_count": null,
   "id": "703e7012-a42f-4316-a2d5-b638bb08c642",
   "metadata": {},
   "outputs": [],
   "source": [
    "print((7 * 8) - (30 // 5))"
   ]
  },
  {
   "cell_type": "code",
   "execution_count": null,
   "id": "ce904e8d-d742-4664-aa77-799d0ad06d16",
   "metadata": {},
   "outputs": [],
   "source": [
    "print((20 ** 0.5) * (4 + 1))"
   ]
  },
  {
   "cell_type": "code",
   "execution_count": null,
   "id": "e2ea1aed-4948-4ab4-ab83-5fea64cbab9b",
   "metadata": {},
   "outputs": [],
   "source": [
    "print((64 % 15) + (3 ** 3))"
   ]
  },
  {
   "cell_type": "code",
   "execution_count": null,
   "id": "bbf03410-f75c-41b2-ab51-b58623a4df4e",
   "metadata": {},
   "outputs": [],
   "source": [
    "print((9 + 6) * (8 // 4))"
   ]
  },
  {
   "cell_type": "code",
   "execution_count": null,
   "id": "e24858ac-d4bd-46f3-af1d-e47519a05d0a",
   "metadata": {},
   "outputs": [],
   "source": [
    "print((55 / 5) - (7 * 2))"
   ]
  },
  {
   "cell_type": "code",
   "execution_count": null,
   "id": "edac7d2b-b55a-4fc5-a00a-138f8f0b8552",
   "metadata": {},
   "outputs": [],
   "source": [
    "print((3 ** 2) + (18 // 3))"
   ]
  },
  {
   "cell_type": "code",
   "execution_count": null,
   "id": "1fbe0ad9-2b80-40f2-9538-d659b3f8064a",
   "metadata": {},
   "outputs": [],
   "source": [
    "print((27 % 5) * (4 + 1))"
   ]
  },
  {
   "cell_type": "code",
   "execution_count": null,
   "id": "422eb204-711d-4558-9b74-575460751c36",
   "metadata": {},
   "outputs": [],
   "source": [
    "print((100 // 9) + (2 ** 5))"
   ]
  },
  {
   "cell_type": "code",
   "execution_count": null,
   "id": "fdeefb16-1ead-4190-acf3-7a741ed68597",
   "metadata": {},
   "outputs": [],
   "source": [
    "print((48 / 6) - (10 % 3))"
   ]
  },
  {
   "cell_type": "code",
   "execution_count": null,
   "id": "a4800b17-3771-48fb-a1ac-499bba71db63",
   "metadata": {},
   "outputs": [],
   "source": [
    "print(6 * (2 + 3) ** 2)"
   ]
  },
  {
   "cell_type": "code",
   "execution_count": null,
   "id": "9f25ce3c-7add-4e7f-bc8b-037983bacbb4",
   "metadata": {},
   "outputs": [],
   "source": [
    "print((50 % 8) + (4 ** 2))"
   ]
  },
  {
   "cell_type": "code",
   "execution_count": null,
   "id": "79a8bc13-244e-414a-beb4-b2b30666aaa7",
   "metadata": {},
   "outputs": [],
   "source": [
    "print((7 ** 2) // (3 + 4))"
   ]
  },
  {
   "cell_type": "code",
   "execution_count": null,
   "id": "6708986b-6986-41f8-a5e7-a286ed5d4c94",
   "metadata": {},
   "outputs": [],
   "source": [
    "print((28 / 4) + (3 * 5))"
   ]
  },
  {
   "cell_type": "code",
   "execution_count": null,
   "id": "6e65e971-bb65-4301-8240-057f1003e38a",
   "metadata": {},
   "outputs": [],
   "source": [
    "print((5 + 2) * (6 - 1))"
   ]
  },
  {
   "cell_type": "code",
   "execution_count": null,
   "id": "f49aa372-ac58-4565-81a7-b95b1e8d421b",
   "metadata": {},
   "outputs": [],
   "source": [
    "print((11 ** 2) % 10)"
   ]
  },
  {
   "cell_type": "code",
   "execution_count": null,
   "id": "8ee0b97b-7dd5-4af2-ad0a-1486d5a68813",
   "metadata": {},
   "outputs": [],
   "source": [
    "print((5 * (7 + 3)) - 12)"
   ]
  },
  {
   "cell_type": "code",
   "execution_count": null,
   "id": "f7dc67eb-6001-4380-98f3-f3c689d33d08",
   "metadata": {},
   "outputs": [],
   "source": [
    "print((3 + 5) * (2 ** 3))"
   ]
  },
  {
   "cell_type": "code",
   "execution_count": null,
   "id": "f639076d-ff65-496d-a2dc-3dcdcea99c46",
   "metadata": {},
   "outputs": [],
   "source": [
    "print((18 / 2) + (9 % 4))"
   ]
  },
  {
   "cell_type": "code",
   "execution_count": null,
   "id": "e6a18d2b-a45b-43a8-89e1-138387ab3166",
   "metadata": {},
   "outputs": [],
   "source": [
    "print((4 ** 2) * (3 + 1))"
   ]
  },
  {
   "cell_type": "code",
   "execution_count": null,
   "id": "e461d105-2abc-4877-8f01-f4b799273f60",
   "metadata": {},
   "outputs": [],
   "source": [
    "print((36 // 6) - (7 + 2))"
   ]
  },
  {
   "cell_type": "code",
   "execution_count": null,
   "id": "fe117e0f-996b-416a-9249-e69aa8f59c2d",
   "metadata": {},
   "outputs": [],
   "source": [
    "print((25 % 6) + (8 ** 1))"
   ]
  },
  {
   "cell_type": "code",
   "execution_count": null,
   "id": "d13a59cb-665d-4a26-a399-65e1da84b719",
   "metadata": {},
   "outputs": [],
   "source": [
    "print((56 / 7) - (4 * 2))"
   ]
  },
  {
   "cell_type": "code",
   "execution_count": null,
   "id": "cb57b3b4-3c3b-409a-8275-1fdec4a33b78",
   "metadata": {},
   "outputs": [],
   "source": [
    "print((14 % 5) + (6 ** 2))"
   ]
  },
  {
   "cell_type": "code",
   "execution_count": null,
   "id": "badb96c4-66b5-4898-a54e-803d85fd25d4",
   "metadata": {},
   "outputs": [],
   "source": [
    "print((24 // 4) * (5 - 1))"
   ]
  },
  {
   "cell_type": "code",
   "execution_count": null,
   "id": "5e95d602-9318-4676-a13d-2a5e1ed39f8a",
   "metadata": {},
   "outputs": [],
   "source": [
    "print((8 + 3) ** 2)"
   ]
  },
  {
   "cell_type": "code",
   "execution_count": null,
   "id": "0d6ba060-6dda-431c-bc13-ae2d01c4a184",
   "metadata": {},
   "outputs": [],
   "source": [
    "print((48 / 8) + (9 % 5))"
   ]
  },
  {
   "cell_type": "code",
   "execution_count": null,
   "id": "b924edfc-ef40-4789-a115-e12033fd752d",
   "metadata": {},
   "outputs": [],
   "source": [
    "print((48 // 12) + (6 * 3))"
   ]
  },
  {
   "cell_type": "code",
   "execution_count": null,
   "id": "90dd015e-42bc-4838-99c9-7fd8b1a67ed4",
   "metadata": {},
   "outputs": [],
   "source": [
    "print((20 - 4) * (3 + 2))"
   ]
  },
  {
   "cell_type": "code",
   "execution_count": null,
   "id": "8dcd1646-70b5-416f-b983-3884f6811c9a",
   "metadata": {},
   "outputs": [],
   "source": [
    "print((15 % 4) + (7 ** 1))"
   ]
  },
  {
   "cell_type": "code",
   "execution_count": null,
   "id": "e72cdf38-1d41-46ba-85a6-4f64a728e8c6",
   "metadata": {},
   "outputs": [],
   "source": [
    "print((10 ** 2) // (6 + 4))"
   ]
  },
  {
   "cell_type": "code",
   "execution_count": null,
   "id": "4b62137d-b55a-4b20-9e88-0279a67e0da6",
   "metadata": {},
   "outputs": [],
   "source": [
    "print((9 + 12) / (3 * 7))"
   ]
  },
  {
   "cell_type": "code",
   "execution_count": null,
   "id": "f26ed3d5-70dc-4b29-9dd0-16b8ce9190bb",
   "metadata": {},
   "outputs": [],
   "source": [
    "print((33 % 7) * (4 + 3))"
   ]
  },
  {
   "cell_type": "code",
   "execution_count": null,
   "id": "452134ba-e13f-448a-8793-7dc0ad0d0f88",
   "metadata": {},
   "outputs": [],
   "source": [
    "print((5 ** 3) - (2 ** 4))"
   ]
  },
  {
   "cell_type": "code",
   "execution_count": null,
   "id": "080d8ac0-30b5-4978-8d59-e15a1c5f15a9",
   "metadata": {},
   "outputs": [],
   "source": [
    "print((27 % 10) + (11 - 3))"
   ]
  },
  {
   "cell_type": "code",
   "execution_count": null,
   "id": "66956679-51a3-4669-b12c-6e91f8d9182e",
   "metadata": {},
   "outputs": [],
   "source": [
    "print((2 ** 5) - (15 // 3))"
   ]
  },
  {
   "cell_type": "code",
   "execution_count": null,
   "id": "46a67615-3ffd-4d52-9511-0f0ff749e0e7",
   "metadata": {},
   "outputs": [],
   "source": [
    "print((30 / 5) + (7 * 4))"
   ]
  },
  {
   "cell_type": "code",
   "execution_count": null,
   "id": "3467f0a7-2e78-4749-916b-4683f382185e",
   "metadata": {},
   "outputs": [],
   "source": [
    "print((21 % 6) * (8 - 5))"
   ]
  },
  {
   "cell_type": "code",
   "execution_count": null,
   "id": "c1ebabdb-fa41-4f59-8127-5ff57ccbba48",
   "metadata": {},
   "outputs": [],
   "source": [
    "print((5 ** 2) + (3 ** 3))"
   ]
  },
  {
   "cell_type": "code",
   "execution_count": null,
   "id": "52f84df6-eab0-4465-b9d9-431e3325f3f3",
   "metadata": {},
   "outputs": [],
   "source": [
    "print((40 // 5) - (6 + 2))"
   ]
  },
  {
   "cell_type": "code",
   "execution_count": null,
   "id": "f0949e73-b2e7-442d-90a9-2d0b97ce6c05",
   "metadata": {},
   "outputs": [],
   "source": [
    "print((18 % 5) + (10 ** 1))"
   ]
  },
  {
   "cell_type": "code",
   "execution_count": null,
   "id": "300e65f8-6b5e-4ca0-a82c-b08b91ec6b81",
   "metadata": {},
   "outputs": [],
   "source": [
    "print((6 ** 2) + (8 // 2))"
   ]
  },
  {
   "cell_type": "code",
   "execution_count": null,
   "id": "2915dc3b-736c-4bd8-bc5b-b76bbd1b8af2",
   "metadata": {},
   "outputs": [],
   "source": [
    "print((7 + 8) * (5 - 2))"
   ]
  },
  {
   "cell_type": "code",
   "execution_count": null,
   "id": "2ccf67a0-ff59-4dda-8c84-a3573f53e96c",
   "metadata": {},
   "outputs": [],
   "source": [
    "print((9 ** 2) / (3 * 3))"
   ]
  },
  {
   "cell_type": "code",
   "execution_count": null,
   "id": "11db56d3-c654-4df5-9866-d6df0288ceb4",
   "metadata": {},
   "outputs": [],
   "source": [
    "print((24 % 7) + (4 ** 2))"
   ]
  },
  {
   "cell_type": "code",
   "execution_count": null,
   "id": "3ffb7529-79c5-43d9-a4e2-f66b4623c644",
   "metadata": {},
   "outputs": [],
   "source": [
    "print((5 ** 3) - (3 * 7))"
   ]
  },
  {
   "cell_type": "code",
   "execution_count": null,
   "id": "11452f62-d591-4401-8524-c02ab745df2b",
   "metadata": {},
   "outputs": [],
   "source": [
    "print((60 // 10) + (2 ** 4))"
   ]
  },
  {
   "cell_type": "code",
   "execution_count": null,
   "id": "aee702d4-5f80-4bd1-a486-5a2c5a491600",
   "metadata": {},
   "outputs": [],
   "source": [
    "print((19 % 6) * (7 + 1))"
   ]
  },
  {
   "cell_type": "code",
   "execution_count": null,
   "id": "c06d2d2e-3fdb-45ef-b14f-cecc06a402ac",
   "metadata": {},
   "outputs": [],
   "source": [
    "print((45 / 9) - (3 ** 2))"
   ]
  },
  {
   "cell_type": "code",
   "execution_count": null,
   "id": "71e89ec9-076a-43ef-a1d9-096e21871837",
   "metadata": {},
   "outputs": [],
   "source": [
    "print((13 % 5) + (9 * 2))"
   ]
  },
  {
   "cell_type": "code",
   "execution_count": null,
   "id": "5bb076f6-6da4-4df2-bb29-2ae9904cb47d",
   "metadata": {},
   "outputs": [],
   "source": [
    "print((4 ** 3) - (20 // 4))"
   ]
  },
  {
   "cell_type": "code",
   "execution_count": null,
   "id": "9524f865-9b65-494d-be82-0884d9a0b6dd",
   "metadata": {},
   "outputs": [],
   "source": [
    "print((18 % 7) + (7 ** 2))"
   ]
  },
  {
   "cell_type": "code",
   "execution_count": null,
   "id": "4012e38d-bf09-416a-94db-556271d11eab",
   "metadata": {},
   "outputs": [],
   "source": [
    "print((32 // 8) * (5 + 3))"
   ]
  },
  {
   "cell_type": "code",
   "execution_count": null,
   "id": "8bce5cf6-cda1-41eb-85a5-a89fa2143165",
   "metadata": {},
   "outputs": [],
   "source": [
    "print((10 ** 2) - (6 * 11))"
   ]
  },
  {
   "cell_type": "code",
   "execution_count": null,
   "id": "dcbb0635-3f06-4691-81c9-b8b780799937",
   "metadata": {},
   "outputs": [],
   "source": [
    "print((25 / 5) + (8 ** 1))"
   ]
  },
  {
   "cell_type": "code",
   "execution_count": null,
   "id": "124c59bf-3774-4732-9839-d86d136615ba",
   "metadata": {},
   "outputs": [],
   "source": [
    "print((9 + 16) * (4 // 2))"
   ]
  },
  {
   "cell_type": "code",
   "execution_count": null,
   "id": "a10e9028-52d4-4293-8f13-ed248e99ea38",
   "metadata": {},
   "outputs": [],
   "source": [
    "print((14 % 3) + (5 ** 3))"
   ]
  },
  {
   "cell_type": "code",
   "execution_count": null,
   "id": "70d60bd0-e684-4824-8215-f5d4ad784d32",
   "metadata": {},
   "outputs": [],
   "source": [
    "print((3 ** 4) - (45 // 5))"
   ]
  },
  {
   "cell_type": "code",
   "execution_count": null,
   "id": "fbcef4c3-e2e4-4ab2-9343-9f0257725916",
   "metadata": {},
   "outputs": [],
   "source": [
    "print((60 // 6) * (7 - 3))"
   ]
  },
  {
   "cell_type": "code",
   "execution_count": null,
   "id": "827b5620-9a20-4d4c-ae94-199a71aa4d79",
   "metadata": {},
   "outputs": [],
   "source": [
    "print((27 % 8) + (11 * 2))"
   ]
  },
  {
   "cell_type": "code",
   "execution_count": null,
   "id": "7a935a72-73a2-4375-8b03-8ad805042f8a",
   "metadata": {},
   "outputs": [],
   "source": [
    "print((2 ** 6) - (50 // 10))"
   ]
  },
  {
   "cell_type": "code",
   "execution_count": null,
   "id": "3f4d77c5-523e-4bef-b7ec-85c6dfb38ec8",
   "metadata": {},
   "outputs": [],
   "source": [
    "print((40 // 4) - (3 ** 3))"
   ]
  },
  {
   "cell_type": "code",
   "execution_count": null,
   "id": "c655a838-7f1f-42c4-bd02-3d015e71c7f7",
   "metadata": {},
   "outputs": [],
   "source": [
    "print((5 ** 2) + (13 // 3))"
   ]
  },
  {
   "cell_type": "code",
   "execution_count": null,
   "id": "7801f372-0dc4-4db8-8099-f99af97b63b5",
   "metadata": {},
   "outputs": [],
   "source": [
    "print((18 % 5) * (6 + 1))"
   ]
  },
  {
   "cell_type": "code",
   "execution_count": null,
   "id": "fcdc9c24-a954-4954-a15c-81a629524f7f",
   "metadata": {},
   "outputs": [],
   "source": [
    "print((35 / 7) + (4 ** 3))"
   ]
  },
  {
   "cell_type": "code",
   "execution_count": null,
   "id": "566a9c44-3912-4ce5-ad59-6388573d6b82",
   "metadata": {},
   "outputs": [],
   "source": [
    "print((7 * 9) + (15 // 3))\n"
   ]
  },
  {
   "cell_type": "code",
   "execution_count": null,
   "id": "698f60cb-0f40-45b3-bf4b-52a44fcf442b",
   "metadata": {},
   "outputs": [],
   "source": [
    "print((14 % 6) * (8 + 2))\n"
   ]
  },
  {
   "cell_type": "code",
   "execution_count": null,
   "id": "11bcb48f-afe8-437b-962b-6bd6c52b6c50",
   "metadata": {},
   "outputs": [],
   "source": [
    "print((100 / 4) - (6 ** 2))\n"
   ]
  },
  {
   "cell_type": "code",
   "execution_count": null,
   "id": "38e4b248-07c2-42b7-bee6-35193faa26dc",
   "metadata": {},
   "outputs": [],
   "source": [
    "print((9 ** 3) // (3 ** 2))\n"
   ]
  },
  {
   "cell_type": "code",
   "execution_count": null,
   "id": "cbb6e4d1-9c5d-421c-95da-62d903875f36",
   "metadata": {},
   "outputs": [],
   "source": [
    "print((45 - 12) + (7 * 3))\n"
   ]
  },
  {
   "cell_type": "code",
   "execution_count": null,
   "id": "97674f7f-91d3-413b-abb0-97b72dd5c6b8",
   "metadata": {},
   "outputs": [],
   "source": [
    "print((64 // 8) ** 2)\n"
   ]
  },
  {
   "cell_type": "code",
   "execution_count": null,
   "id": "8da08e43-30de-47b0-aaa2-1e62ac34f13e",
   "metadata": {},
   "outputs": [],
   "source": [
    "print((27 % 5) + (18 / 3))\n"
   ]
  },
  {
   "cell_type": "code",
   "execution_count": null,
   "id": "0766c465-24c0-4a56-9e4f-ec43e345c592",
   "metadata": {},
   "outputs": [],
   "source": [
    "print((6 ** 2) - (4 * 5))\n"
   ]
  },
  {
   "cell_type": "code",
   "execution_count": null,
   "id": "9b916248-d6f7-4973-b9ca-33bd8625791f",
   "metadata": {},
   "outputs": [],
   "source": [
    "print((36 // 6) + (8 * 3))\n"
   ]
  },
  {
   "cell_type": "code",
   "execution_count": null,
   "id": "6dbf408a-9384-4400-ad13-cc41a27c3b41",
   "metadata": {},
   "outputs": [],
   "source": [
    "print((13 + 7) * (9 - 4))\n"
   ]
  },
  {
   "cell_type": "code",
   "execution_count": null,
   "id": "6467e3d9-a549-42cd-bb68-6c1e37bf215e",
   "metadata": {},
   "outputs": [],
   "source": [
    "print((24 % 7) * (6 + 5))\n"
   ]
  },
  {
   "cell_type": "code",
   "execution_count": null,
   "id": "50bc50fb-cbc5-4c8d-af89-81982d31d953",
   "metadata": {},
   "outputs": [],
   "source": [
    "print((81 / 9) + (10 ** 1))\n"
   ]
  },
  {
   "cell_type": "code",
   "execution_count": null,
   "id": "4784fae9-76f3-4b27-b1ca-50dabc2b9947",
   "metadata": {},
   "outputs": [],
   "source": [
    "print((5 ** 4) - (20 // 5))\n"
   ]
  },
  {
   "cell_type": "code",
   "execution_count": null,
   "id": "d9a57131-5713-4bf9-a32b-dd3714348f97",
   "metadata": {},
   "outputs": [],
   "source": [
    "print((15 % 4) + (11 ** 1))\n"
   ]
  },
  {
   "cell_type": "code",
   "execution_count": null,
   "id": "683b9e92-fd7f-4921-a818-9818584a29df",
   "metadata": {},
   "outputs": [],
   "source": [
    "print((49 ** 0.5) + (3 * 2))\n"
   ]
  },
  {
   "cell_type": "code",
   "execution_count": null,
   "id": "5063c0d0-9a86-4e94-aa3a-2cdedf498062",
   "metadata": {},
   "outputs": [],
   "source": [
    "print((16 / 2) ** 3)\n"
   ]
  },
  {
   "cell_type": "code",
   "execution_count": null,
   "id": "14ebea95-8a2c-42f2-ad57-160e04c70b75",
   "metadata": {},
   "outputs": [],
   "source": [
    "print((7 ** 3) + (18 // 6))\n"
   ]
  },
  {
   "cell_type": "code",
   "execution_count": null,
   "id": "5feeb9ee-5d53-4cb7-a43f-f8c74b4fa591",
   "metadata": {},
   "outputs": [],
   "source": [
    "print((50 % 8) - (7 + 1))\n"
   ]
  },
  {
   "cell_type": "code",
   "execution_count": null,
   "id": "31e6f6f6-21f7-47ff-a6e7-9cfec0fe8108",
   "metadata": {},
   "outputs": [],
   "source": [
    "print((22 - 5) * (3 + 2))\n"
   ]
  },
  {
   "cell_type": "code",
   "execution_count": null,
   "id": "ac6c4251-5405-4aaf-804e-c52c1f98a64c",
   "metadata": {},
   "outputs": [],
   "source": [
    "print((9 % 4) + (6 ** 2))\n"
   ]
  },
  {
   "cell_type": "code",
   "execution_count": null,
   "id": "0022c6aa-75a4-403e-a558-c97e08865bc2",
   "metadata": {},
   "outputs": [],
   "source": [
    "print((14 ** 2) // (7 * 3))\n"
   ]
  },
  {
   "cell_type": "code",
   "execution_count": null,
   "id": "812cbd76-0260-4735-b44c-3cc646f04dcd",
   "metadata": {},
   "outputs": [],
   "source": [
    "print((27 % 9) * (4 + 6))\n"
   ]
  },
  {
   "cell_type": "code",
   "execution_count": null,
   "id": "7cd3386e-0020-4e16-b503-1a32bbf5a5fb",
   "metadata": {},
   "outputs": [],
   "source": [
    "print((45 // 9) + (12 * 2))\n"
   ]
  },
  {
   "cell_type": "code",
   "execution_count": null,
   "id": "4783e86b-7517-4763-a90e-8bd402b278de",
   "metadata": {},
   "outputs": [],
   "source": [
    "print((30 + 15) - (25 // 5))\n"
   ]
  },
  {
   "cell_type": "code",
   "execution_count": null,
   "id": "75596a6a-eeba-4e11-9d22-1f51fc8a614d",
   "metadata": {},
   "outputs": [],
   "source": [
    "print((3 ** 5) - (100 // 10))\n"
   ]
  },
  {
   "cell_type": "code",
   "execution_count": null,
   "id": "29180cc6-af65-46ec-8a9b-457734224bee",
   "metadata": {},
   "outputs": [],
   "source": [
    "\n",
    "print((8 ** 2) / (4 * 2))\n"
   ]
  },
  {
   "cell_type": "code",
   "execution_count": null,
   "id": "618c51aa-987e-455a-8941-9310774ce8ec",
   "metadata": {},
   "outputs": [],
   "source": [
    "print((18 % 5) + (9 ** 1))\n"
   ]
  },
  {
   "cell_type": "code",
   "execution_count": null,
   "id": "95e29e63-2e2b-42c9-80d2-25c956597dc2",
   "metadata": {},
   "outputs": [],
   "source": [
    "print((35 % 10) + (7 ** 2))\n"
   ]
  },
  {
   "cell_type": "code",
   "execution_count": null,
   "id": "608554bf-3a48-43ae-8144-79734f1e9f05",
   "metadata": {},
   "outputs": [],
   "source": [
    "print((60 // 12) + (7 * 4))\n"
   ]
  },
  {
   "cell_type": "code",
   "execution_count": null,
   "id": "a465143e-b975-4212-ade4-9948205bfc17",
   "metadata": {},
   "outputs": [],
   "source": [
    "print((29 % 6) * (8 + 2))\n"
   ]
  },
  {
   "cell_type": "code",
   "execution_count": null,
   "id": "21e01b94-3177-4ee1-997f-4f2c3c635675",
   "metadata": {},
   "outputs": [],
   "source": [
    "print((6 ** 3) + (5 // 2))\n"
   ]
  },
  {
   "cell_type": "code",
   "execution_count": null,
   "id": "05c2cb56-b16a-4f7a-9ba4-c19001c03e92",
   "metadata": {},
   "outputs": [],
   "source": [
    "print((40 / 5) - (3 ** 2))\n"
   ]
  },
  {
   "cell_type": "code",
   "execution_count": null,
   "id": "7150eb27-0fd1-4924-8682-0f00be170136",
   "metadata": {},
   "outputs": [],
   "source": [
    "print((17 % 8) + (10 * 3))\n"
   ]
  },
  {
   "cell_type": "code",
   "execution_count": null,
   "id": "471bf141-7d0e-4af7-b4cc-43045034b334",
   "metadata": {},
   "outputs": [],
   "source": [
    "print((7 ** 2) - (24 // 6))\n"
   ]
  },
  {
   "cell_type": "code",
   "execution_count": null,
   "id": "8e97cb2c-3ceb-4463-b0c0-b6ec34679d8a",
   "metadata": {},
   "outputs": [],
   "source": [
    "print((20 % 7) + (9 ** 2))\n"
   ]
  },
  {
   "cell_type": "code",
   "execution_count": null,
   "id": "3ad69464-d98c-44ee-9db4-cd2aa26cc35a",
   "metadata": {},
   "outputs": [],
   "source": [
    "print((13 ** 2) - (60 // 10))\n"
   ]
  },
  {
   "cell_type": "code",
   "execution_count": null,
   "id": "52307065-8009-41b0-8645-13dc9a8f40d9",
   "metadata": {},
   "outputs": [],
   "source": [
    "print((30 / 6) + (12 ** 1))\n"
   ]
  },
  {
   "cell_type": "code",
   "execution_count": null,
   "id": "a658ade8-f198-47f8-8802-5df5aaae3524",
   "metadata": {},
   "outputs": [],
   "source": [
    "print((56 // 7) * (3 + 4))\n"
   ]
  },
  {
   "cell_type": "code",
   "execution_count": null,
   "id": "7f68f703-567b-4cf3-8c3b-f6e224942987",
   "metadata": {},
   "outputs": [],
   "source": [
    "print((8 + 17) * (5 // 2))\n"
   ]
  },
  {
   "cell_type": "code",
   "execution_count": null,
   "id": "29cd6624-9425-4184-949d-251fd491bec5",
   "metadata": {},
   "outputs": [],
   "source": [
    "print((4 ** 4) - (90 // 9))\n"
   ]
  },
  {
   "cell_type": "code",
   "execution_count": null,
   "id": "74a7dd64-c1a2-46b5-864c-6e290c1cb1d3",
   "metadata": {},
   "outputs": [],
   "source": [
    "print((15 % 6) + (6 ** 3))\n"
   ]
  },
  {
   "cell_type": "code",
   "execution_count": null,
   "id": "5351b1ca-ad17-4e7f-a68e-46e2e06e70b7",
   "metadata": {},
   "outputs": [],
   "source": [
    "print((70 // 7) * (9 - 5))\n"
   ]
  },
  {
   "cell_type": "code",
   "execution_count": null,
   "id": "5377f7ad-850b-4422-8831-930467947f74",
   "metadata": {},
   "outputs": [],
   "source": [
    "print((3 ** 6) - (150 // 15))\n"
   ]
  },
  {
   "cell_type": "code",
   "execution_count": null,
   "id": "bbffe27a-1ee6-42f2-b7e0-029db9de40c9",
   "metadata": {},
   "outputs": [],
   "source": [
    "print((7 ** 3) + (14 // 7))"
   ]
  },
  {
   "cell_type": "code",
   "execution_count": null,
   "id": "342b836b-9b00-4419-b003-3bb87c23b9de",
   "metadata": {},
   "outputs": [],
   "source": [
    "print((25 % 8) * (7 + 3))\n"
   ]
  },
  {
   "cell_type": "code",
   "execution_count": null,
   "id": "4c8bd8ce-f01b-4c93-b202-802cfa9801ea",
   "metadata": {},
   "outputs": [],
   "source": [
    "print((55 / 5) + (6 ** 2))\n"
   ]
  },
  {
   "cell_type": "code",
   "execution_count": null,
   "id": "d62d42d0-245f-4591-a34d-b12c748c7858",
   "metadata": {},
   "outputs": [],
   "source": [
    "print((28 % 9) + (13 * 2))\n"
   ]
  },
  {
   "cell_type": "code",
   "execution_count": null,
   "id": "b30776c8-c5c4-4e50-bc03-bd75eabbd0cb",
   "metadata": {},
   "outputs": [],
   "source": [
    "print((45 // 15) - (4 ** 2))"
   ]
  }
 ],
 "metadata": {
  "kernelspec": {
   "display_name": "Python 3 (ipykernel)",
   "language": "python",
   "name": "python3"
  },
  "language_info": {
   "codemirror_mode": {
    "name": "ipython",
    "version": 3
   },
   "file_extension": ".py",
   "mimetype": "text/x-python",
   "name": "python",
   "nbconvert_exporter": "python",
   "pygments_lexer": "ipython3",
   "version": "3.11.13"
  }
 },
 "nbformat": 4,
 "nbformat_minor": 5
}

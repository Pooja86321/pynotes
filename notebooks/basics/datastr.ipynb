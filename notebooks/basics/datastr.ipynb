{
 "cells": [
  {
   "cell_type": "code",
   "execution_count": null,
   "id": "7540e529-7d02-4ef8-9658-e5314a825807",
   "metadata": {},
   "outputs": [],
   "source": [
    "# Stack using List\n",
    "stack = []"
   ]
  },
  {
   "cell_type": "code",
   "execution_count": null,
   "id": "7eb0243e-7fe0-4259-9e45-4ec9f3d5a98c",
   "metadata": {},
   "outputs": [],
   "source": [
    "# Pushing elements\n",
    "stack.append(10)\n",
    "stack.append(20)\n",
    "stack.append(30)\n",
    "print(\"Stack after pushes:\", stack)"
   ]
  },
  {
   "cell_type": "code",
   "execution_count": null,
   "id": "1b45ea61-b314-4ecd-9752-24e29a89dbcf",
   "metadata": {},
   "outputs": [],
   "source": [
    "# Popping elements\n",
    "stack.pop()\n",
    "print(\"Stack after pop:\", stack)"
   ]
  },
  {
   "cell_type": "code",
   "execution_count": null,
   "id": "590593fb-ff64-41ae-b81c-8bf2abea0070",
   "metadata": {},
   "outputs": [],
   "source": [
    "# Peek\n",
    "if stack:\n",
    "    print(\"Top element:\", stack[-1])"
   ]
  },
  {
   "cell_type": "code",
   "execution_count": null,
   "id": "925672d0-9ac5-4da5-a6c6-59d29bc2f4b0",
   "metadata": {},
   "outputs": [],
   "source": [
    "# IsEmpty\n",
    "print(\"Is stack empty?\", len(stack) == 0)"
   ]
  },
  {
   "cell_type": "code",
   "execution_count": null,
   "id": "57f6e6ac-3601-4b77-aeb1-bdcee51dd5a0",
   "metadata": {},
   "outputs": [],
   "source": [
    "# Stack Length\n",
    "print(\"Stack size:\", len(stack))"
   ]
  },
  {
   "cell_type": "code",
   "execution_count": null,
   "id": "68e4637d-1d32-47c4-b0ab-30efa99426a8",
   "metadata": {},
   "outputs": [],
   "source": [
    "# Stack function\n",
    "def print_stack(s):\n",
    "    for i in reversed(s):\n",
    "        print(i)\n",
    "print_stack(stack)"
   ]
  },
  {
   "cell_type": "code",
   "execution_count": null,
   "id": "7433ed33-f49c-4df7-bd84-41ed9928bbfe",
   "metadata": {},
   "outputs": [],
   "source": [
    "# Push more elements\n",
    "stack.append(40)\n",
    "stack.append(50)\n",
    "print_stack(stack)"
   ]
  },
  {
   "cell_type": "code",
   "execution_count": null,
   "id": "d093ccc0-80ab-46e8-90b6-e570667e527d",
   "metadata": {},
   "outputs": [],
   "source": [
    "# Pop all elements\n",
    "while stack:\n",
    "    stack.pop()\n",
    "print(\"Stack cleared:\", stack)"
   ]
  },
  {
   "cell_type": "code",
   "execution_count": null,
   "id": "b4dd55fd-ce1b-4a79-b3b6-a41b7b5f2665",
   "metadata": {},
   "outputs": [],
   "source": [
    "# Queue using List\n",
    "queue = []"
   ]
  },
  {
   "cell_type": "code",
   "execution_count": null,
   "id": "b5700a97-c76f-42a7-af5c-901a71fc1672",
   "metadata": {},
   "outputs": [],
   "source": [
    "# Enqueue\n",
    "queue.append(1)\n",
    "queue.append(2)\n",
    "queue.append(3)\n",
    "print(\"Queue:\", queue)"
   ]
  },
  {
   "cell_type": "code",
   "execution_count": null,
   "id": "bba583f1-a8d8-4368-b24a-1e28db554fda",
   "metadata": {},
   "outputs": [],
   "source": [
    "# Dequeue\n",
    "queue.pop(0)\n",
    "print(\"After Dequeue:\", queue)"
   ]
  },
  {
   "cell_type": "code",
   "execution_count": null,
   "id": "caccdcf3-24e3-4990-a462-24628568ce80",
   "metadata": {},
   "outputs": [],
   "source": [
    "# Is queue empty?\n",
    "print(\"Empty?\", len(queue) == 0)"
   ]
  },
  {
   "cell_type": "code",
   "execution_count": null,
   "id": "f3ee0ce6-4880-467b-a914-325da8552d1a",
   "metadata": {},
   "outputs": [],
   "source": [
    "# Peek front\n",
    "if queue:\n",
    "    print(\"Front:\", queue[0])"
   ]
  },
  {
   "cell_type": "code",
   "execution_count": null,
   "id": "8b992e90-743b-4b7e-8382-24bf62b45afb",
   "metadata": {},
   "outputs": [],
   "source": [
    "# Queue Length\n",
    "print(\"Queue size:\", len(queue))"
   ]
  },
  {
   "cell_type": "code",
   "execution_count": null,
   "id": "b08d3d91-a037-4e75-a9b7-4eef4911b336",
   "metadata": {},
   "outputs": [],
   "source": [
    "# Using deque for efficient queue\n",
    "from collections import deque\n",
    "dq = deque()\n"
   ]
  },
  {
   "cell_type": "code",
   "execution_count": null,
   "id": "b62669b8-4239-4dec-9cb7-18f45badcb4a",
   "metadata": {},
   "outputs": [],
   "source": [
    "dq.append(10)\n",
    "dq.append(20)\n",
    "dq.append(30)\n",
    "print(\"Deque:\", dq)"
   ]
  },
  {
   "cell_type": "code",
   "execution_count": null,
   "id": "e8100e59-58b0-4797-ad86-9ef3219f4971",
   "metadata": {},
   "outputs": [],
   "source": [
    "Deque: deque([10, 20, 30])"
   ]
  },
  {
   "cell_type": "code",
   "execution_count": null,
   "id": "d8a198f7-09ef-48f1-b6d0-415d0048fdf8",
   "metadata": {},
   "outputs": [],
   "source": [
    "dq.popleft()\n",
    "print(\"After popleft:\", dq)"
   ]
  },
  {
   "cell_type": "code",
   "execution_count": null,
   "id": "943080ae-7f1a-4e9f-ac06-ec3d97095603",
   "metadata": {},
   "outputs": [],
   "source": [
    "dq.appendleft(5)\n",
    "print(\"After appendleft:\", dq)"
   ]
  },
  {
   "cell_type": "code",
   "execution_count": null,
   "id": "c647cc6e-0e75-4e49-8e26-3a18a85637e1",
   "metadata": {},
   "outputs": [],
   "source": [
    "# Node class\n",
    "class Node:\n",
    "    def __init__(self, data):\n",
    "        self.data = data\n",
    "        self.next = None"
   ]
  },
  {
   "cell_type": "code",
   "execution_count": null,
   "id": "172588e9-f0e2-4c1e-92fd-1cdfe0a9dfb0",
   "metadata": {},
   "outputs": [],
   "source": [
    "# Linked List class\n",
    "class LinkedList:\n",
    "    def __init__(self):\n",
    "        self.head = None\n",
    "\n",
    "    def insert(self, data):\n",
    "        new_node = Node(data)\n",
    "        if not self.head:\n",
    "            self.head = new_node\n",
    "        else:\n",
    "            temp = self.head\n",
    "            while temp.next:\n",
    "                temp = temp.next\n",
    "            temp.next = new_node\n",
    "\n",
    "    def display(self):\n",
    "        temp = self.head\n",
    "        while temp:\n",
    "            print(temp.data, end=\" -> \")\n",
    "            temp = temp.next\n",
    "        print(\"None\")"
   ]
  },
  {
   "cell_type": "code",
   "execution_count": null,
   "id": "e9fe7077-f77a-4332-8d50-e63d6299b22f",
   "metadata": {},
   "outputs": [],
   "source": [
    "ll = LinkedList()\n",
    "ll.insert(1)\n",
    "ll.insert(2)\n",
    "ll.insert(3)"
   ]
  },
  {
   "cell_type": "code",
   "execution_count": null,
   "id": "c64f4c90-325f-4932-8a50-07295ba4ff6e",
   "metadata": {},
   "outputs": [],
   "source": [
    "ll.display()"
   ]
  },
  {
   "cell_type": "code",
   "execution_count": null,
   "id": "c3cfe1ce-43d8-4c3a-ad4d-252876300466",
   "metadata": {},
   "outputs": [],
   "source": [
    "1 -> 2 -> 3 -> None"
   ]
  },
  {
   "cell_type": "code",
   "execution_count": null,
   "id": "eaa839f5-7e80-432f-b254-e310c21f1d8b",
   "metadata": {},
   "outputs": [],
   "source": [
    "# Insert at beginning\n",
    "def insert_at_beginning(self, data):\n",
    "    new_node = Node(data)\n",
    "    new_node.next = self.head\n",
    "    self.head = new_node\n",
    "LinkedList.insert_at_beginning = insert_at_beginning"
   ]
  },
  {
   "cell_type": "code",
   "execution_count": null,
   "id": "2c81d14c-2443-4fe7-b497-e9ff06eb3346",
   "metadata": {},
   "outputs": [],
   "source": [
    "ll.insert_at_beginning(0)\n",
    "ll.display()"
   ]
  },
  {
   "cell_type": "code",
   "execution_count": null,
   "id": "c61f7154-ecd8-4ecd-975f-88d692ed6c8d",
   "metadata": {},
   "outputs": [],
   "source": [
    "0 -> 1 -> 2 -> 3 -> None"
   ]
  },
  {
   "cell_type": "code",
   "execution_count": null,
   "id": "d534c0dd-b1b3-4592-90d2-27b0d7612142",
   "metadata": {},
   "outputs": [],
   "source": [
    "# Delete by value\n",
    "def delete(self, key):\n",
    "    temp = self.head\n",
    "    if temp and temp.data == key:\n",
    "        self.head = temp.next\n",
    "        return\n",
    "    while temp.next:\n",
    "        if temp.next.data == key:\n",
    "            temp.next = temp.next.next\n",
    "            return\n",
    "        temp = temp.next\n",
    "LinkedList.delete = delete"
   ]
  },
  {
   "cell_type": "code",
   "execution_count": null,
   "id": "d8096a1f-329a-4dd9-882f-651d23551dc3",
   "metadata": {},
   "outputs": [],
   "source": [
    "ll.delete(2)\n",
    "ll.display()"
   ]
  },
  {
   "cell_type": "code",
   "execution_count": null,
   "id": "db633c55-c899-4ef3-9710-2a3259b6924b",
   "metadata": {},
   "outputs": [],
   "source": [
    "0 -> 1 -> 3 -> None"
   ]
  },
  {
   "cell_type": "code",
   "execution_count": null,
   "id": "fa94f3df-7065-4b1c-8604-b9984178a5a1",
   "metadata": {},
   "outputs": [],
   "source": [
    "ll.delete(0)\n",
    "ll.display()"
   ]
  },
  {
   "cell_type": "code",
   "execution_count": null,
   "id": "ae1b3e52-8444-4375-9852-4308ed510187",
   "metadata": {},
   "outputs": [],
   "source": [
    "1 -> 3 -> None"
   ]
  },
  {
   "cell_type": "code",
   "execution_count": null,
   "id": "0f4b435e-be44-440f-bf6c-4476f38e9e56",
   "metadata": {},
   "outputs": [],
   "source": [
    "ll.delete(10)  # non-existent\n",
    "ll.display()"
   ]
  },
  {
   "cell_type": "code",
   "execution_count": null,
   "id": "0acc1d75-d71a-4162-8b29-05d64deb670a",
   "metadata": {},
   "outputs": [],
   "source": [
    "1 -> 3 -> None"
   ]
  },
  {
   "cell_type": "code",
   "execution_count": null,
   "id": "9c5a2c90-a944-4056-963c-8d30a5f95038",
   "metadata": {},
   "outputs": [],
   "source": [
    "# Linear Search\n",
    "def linear_search(arr, x):\n",
    "    for i in range(len(arr)):\n",
    "        if arr[i] == x:\n",
    "            return i\n",
    "    return -1"
   ]
  },
  {
   "cell_type": "code",
   "execution_count": null,
   "id": "0bce86fe-05c6-4719-af49-626c98093546",
   "metadata": {},
   "outputs": [],
   "source": [
    "arr = [5, 2, 9, 4, 7]\n",
    "print(\"Index of 9:\", linear_search(arr, 9))"
   ]
  },
  {
   "cell_type": "code",
   "execution_count": null,
   "id": "cef2285d-eb82-4b0f-aecf-e5cdcbc13bf2",
   "metadata": {},
   "outputs": [],
   "source": [
    "print(\"Index of 3 (not found):\", linear_search(arr, 3))"
   ]
  },
  {
   "cell_type": "code",
   "execution_count": null,
   "id": "4c741703-f28b-4a35-8fe1-d7c568e4a060",
   "metadata": {},
   "outputs": [],
   "source": [
    "# Binary Search\n",
    "def binary_search(arr, x):\n",
    "    low, high = 0, len(arr) - 1\n",
    "    while low <= high:\n",
    "        mid = (low + high) // 2\n",
    "        if arr[mid] == x:\n",
    "            return mid\n",
    "        elif arr[mid] < x:\n",
    "            low = mid + 1\n",
    "        else:\n",
    "            high = mid - 1\n",
    "    return -1"
   ]
  },
  {
   "cell_type": "code",
   "execution_count": null,
   "id": "d4481aeb-de1b-4bb7-9bdb-d6d6129a1733",
   "metadata": {},
   "outputs": [],
   "source": [
    "sorted_arr = sorted(arr)\n",
    "print(\"Sorted:\", sorted_arr)"
   ]
  },
  {
   "cell_type": "code",
   "execution_count": null,
   "id": "7d41356a-c4fc-4789-9449-aaff109a42ef",
   "metadata": {},
   "outputs": [],
   "source": [
    "print(\"Binary search 4:\", binary_search(sorted_arr, 4))"
   ]
  },
  {
   "cell_type": "code",
   "execution_count": null,
   "id": "7e654b95-54b0-443e-9d7c-0d5cd15f5702",
   "metadata": {},
   "outputs": [],
   "source": [
    "print(\"Binary search 8 (not found):\", binary_search(sorted_arr, 8))"
   ]
  },
  {
   "cell_type": "code",
   "execution_count": null,
   "id": "fe996063-947f-4281-b22c-3f78a5e711ac",
   "metadata": {},
   "outputs": [],
   "source": [
    "# Edge case: empty array\n",
    "print(\"Empty array:\", binary_search([], 1))"
   ]
  },
  {
   "cell_type": "code",
   "execution_count": null,
   "id": "8e9100c8-ff8b-4d5e-a178-6fa259ba5e8f",
   "metadata": {},
   "outputs": [],
   "source": [
    "# Edge case: one element\n",
    "print(\"One element:\", binary_search([5], 5))"
   ]
  },
  {
   "cell_type": "code",
   "execution_count": null,
   "id": "02ba3ff7-79a3-4503-9cf8-fb2b0a3a8b02",
   "metadata": {},
   "outputs": [],
   "source": [
    "# Binary search for negative numbers\n",
    "neg_arr = [-9, -3, 0, 2, 4]\n",
    "print(\"Find -3:\", binary_search(neg_arr, -3))"
   ]
  },
  {
   "cell_type": "code",
   "execution_count": null,
   "id": "40c5d548-597e-4f12-ac0d-bef73c4ca6eb",
   "metadata": {},
   "outputs": [],
   "source": [
    "# Bubble Sort\n",
    "def bubble_sort(arr):\n",
    "    n = len(arr)\n",
    "    for i in range(n):\n",
    "        for j in range(n - i - 1):\n",
    "            if arr[j] > arr[j + 1]:\n",
    "                arr[j], arr[j + 1] = arr[j + 1], arr[j]"
   ]
  },
  {
   "cell_type": "code",
   "execution_count": null,
   "id": "7d605296-6ceb-46da-95b8-37d120bef68f",
   "metadata": {},
   "outputs": [],
   "source": [
    "data = [64, 34, 25, 12, 22, 11, 90]\n",
    "bubble_sort(data)\n",
    "print(\"Bubble Sorted:\", data)"
   ]
  },
  {
   "cell_type": "code",
   "execution_count": null,
   "id": "26191c98-7c10-4fc7-aacb-19af1e8d1c2b",
   "metadata": {},
   "outputs": [],
   "source": [
    "# Insertion Sort\n",
    "def insertion_sort(arr):\n",
    "    for i in range(1, len(arr)):\n",
    "        key = arr[i]\n",
    "        j = i - 1\n",
    "        while j >= 0 and key < arr[j]:\n",
    "            arr[j + 1] = arr[j]\n",
    "            j -= 1\n",
    "        arr[j + 1] = key"
   ]
  },
  {
   "cell_type": "code",
   "execution_count": null,
   "id": "003b5704-0585-4a06-95d0-ce78b282c1bc",
   "metadata": {},
   "outputs": [],
   "source": [
    "data2 = [9, 1, 6, 3, 2]\n",
    "insertion_sort(data2)\n",
    "print(\"Insertion Sorted:\", data2)"
   ]
  },
  {
   "cell_type": "code",
   "execution_count": null,
   "id": "1c7e12de-4e47-44e6-ac5d-c7c10ef0608c",
   "metadata": {},
   "outputs": [],
   "source": [
    "# Selection Sort\n",
    "def selection_sort(arr):\n",
    "    for i in range(len(arr)):\n",
    "        min_idx = i\n",
    "        for j in range(i + 1, len(arr)):\n",
    "            if arr[j] < arr[min_idx]:\n",
    "                min_idx = j\n",
    "        arr[i], arr[min_idx] = arr[min_idx], arr[i]"
   ]
  },
  {
   "cell_type": "code",
   "execution_count": null,
   "id": "a82fe986-875a-43de-8369-6235d795db45",
   "metadata": {},
   "outputs": [],
   "source": [
    "data3 = [29, 10, 14, 37, 13]\n",
    "selection_sort(data3)\n",
    "print(\"Selection Sorted:\", data3)\n"
   ]
  },
  {
   "cell_type": "code",
   "execution_count": null,
   "id": "0e0e0d3e-d7ea-4329-8838-57196cee569c",
   "metadata": {},
   "outputs": [],
   "source": [
    "# Merge Sort\n",
    "def merge_sort(arr):\n",
    "    if len(arr) > 1:\n",
    "        mid = len(arr) // 2\n",
    "        L = arr[:mid]\n",
    "        R = arr[mid:]\n",
    "        merge_sort(L)\n",
    "        merge_sort(R)\n",
    "        i = j = k = 0\n",
    "        while i < len(L) and j < len(R):\n",
    "            if L[i] < R[j]:\n",
    "                arr[k] = L[i]\n",
    "                i += 1\n",
    "            else:\n",
    "                arr[k] = R[j]\n",
    "                j += 1\n",
    "            k += 1\n",
    "        while i < len(L):\n",
    "            arr[k] = L[i]\n",
    "            i += 1\n",
    "            k += 1\n",
    "        while j < len(R):\n",
    "            arr[k] = R[j]\n",
    "            j += 1\n",
    "            k += 1"
   ]
  },
  {
   "cell_type": "code",
   "execution_count": null,
   "id": "7c5f11af-40e5-4517-8231-61d7d9516354",
   "metadata": {},
   "outputs": [],
   "source": [
    "data4 = [12, 11, 13, 5, 6, 7]\n",
    "merge_sort(data4)\n",
    "print(\"Merge Sorted:\", data4)"
   ]
  },
  {
   "cell_type": "code",
   "execution_count": null,
   "id": "9570b868-8b3e-4496-989f-c70a03b24591",
   "metadata": {},
   "outputs": [],
   "source": [
    "# Recursive Factorial\n",
    "def factorial(n):\n",
    "    if n == 0:\n",
    "        return 1\n",
    "    return n * factorial(n - 1)"
   ]
  },
  {
   "cell_type": "code",
   "execution_count": null,
   "id": "10e73280-56b2-4c07-8f48-755a74b552b4",
   "metadata": {},
   "outputs": [],
   "source": [
    "print(\"Factorial 5:\", factorial(5))"
   ]
  },
  {
   "cell_type": "code",
   "execution_count": null,
   "id": "6ebfd85a-e3a4-4536-9b32-b5e1148f1e79",
   "metadata": {},
   "outputs": [],
   "source": [
    "# Fibonacci\n",
    "def fibonacci(n):\n",
    "    if n <= 1:\n",
    "        return n\n",
    "    return fibonacci(n-1) + fibonacci(n-2)"
   ]
  },
  {
   "cell_type": "code",
   "execution_count": null,
   "id": "9249f409-9548-4d3d-9dac-ed501dcaab20",
   "metadata": {},
   "outputs": [],
   "source": [
    "print(\"Fibonacci of 6:\", fibonacci(6))"
   ]
  },
  {
   "cell_type": "code",
   "execution_count": null,
   "id": "a51e58a1-1212-4e59-bb28-607d68f48c61",
   "metadata": {},
   "outputs": [],
   "source": [
    "# Print fibonacci series\n",
    "for i in range(8):\n",
    "    print(fibonacci(i), end=\" \")"
   ]
  },
  {
   "cell_type": "code",
   "execution_count": null,
   "id": "ea163d1c-aa2a-46ba-a9c7-8a5eb1704216",
   "metadata": {},
   "outputs": [],
   "source": [
    "# Recursion with sum of array\n",
    "def sum_array(arr):\n",
    "    if not arr:\n",
    "        return 0\n",
    "    return arr[0] + sum_array(arr[1:])"
   ]
  },
  {
   "cell_type": "code",
   "execution_count": null,
   "id": "9d8e54d8-5f3e-4bd1-a0ef-62d12cf7db1c",
   "metadata": {},
   "outputs": [],
   "source": [
    "print(\"Sum:\", sum_array([1, 2, 3, 4]))\n"
   ]
  },
  {
   "cell_type": "code",
   "execution_count": null,
   "id": "0edbc59c-0525-4066-ab7b-fd41d2994e35",
   "metadata": {},
   "outputs": [],
   "source": [
    "# Tower of Hanoi\n",
    "def hanoi(n, src, temp, dest):\n",
    "    if n == 1:\n",
    "        print(f\"Move disk 1 from {src} to {dest}\")\n",
    "        return\n",
    "    hanoi(n - 1, src, dest, temp)\n",
    "    print(f\"Move disk {n} from {src} to {dest}\")\n",
    "    hanoi(n - 1, temp, src, dest)"
   ]
  },
  {
   "cell_type": "code",
   "execution_count": null,
   "id": "994fc12a-176a-4e6d-9d3c-a4a6705077e1",
   "metadata": {},
   "outputs": [],
   "source": [
    "hanoi(3, 'A', 'B', 'C')"
   ]
  },
  {
   "cell_type": "code",
   "execution_count": null,
   "id": "d46839d6-4340-4801-b6f5-c5fa4648306e",
   "metadata": {},
   "outputs": [],
   "source": [
    "# Base case edge test\n",
    "print(\"Hanoi 1 disk:\")\n",
    "hanoi(1, 'X', 'Y', 'Z')"
   ]
  },
  {
   "cell_type": "code",
   "execution_count": null,
   "id": "61769a74-80c1-4ce7-9f5f-dcc85974a5b2",
   "metadata": {},
   "outputs": [],
   "source": [
    "# Tree Node\n",
    "class TreeNode:\n",
    "    def __init__(self, val):\n",
    "        self.left = None\n",
    "        self.right = None\n",
    "        self.val = val"
   ]
  },
  {
   "cell_type": "code",
   "execution_count": null,
   "id": "e05fa23d-c673-4c97-b081-068c61eb56e6",
   "metadata": {},
   "outputs": [],
   "source": [
    "# Pre-order Traversal\n",
    "def preorder(root):\n",
    "    if root:\n",
    "        print(root.val, end=' ')\n",
    "        preorder(root.left)\n",
    "        preorder(root.right)"
   ]
  },
  {
   "cell_type": "code",
   "execution_count": null,
   "id": "c8e07a71-2ba3-4820-9306-3c37c3103dfa",
   "metadata": {},
   "outputs": [],
   "source": [
    "# Build a simple tree\n",
    "root = TreeNode(1)\n",
    "root.left = TreeNode(2)\n",
    "root.right = TreeNode(3)\n",
    "root.left.left = TreeNode(4)\n",
    "root.left.right = TreeNode(5)"
   ]
  },
  {
   "cell_type": "code",
   "execution_count": null,
   "id": "17bb0eaa-e6a8-4f65-a56d-702a19215f7a",
   "metadata": {},
   "outputs": [],
   "source": [
    "print(\"Preorder traversal:\")\n",
    "preorder(root)"
   ]
  },
  {
   "cell_type": "code",
   "execution_count": null,
   "id": "00e4a088-0aa1-4458-a53d-4dea4c701830",
   "metadata": {},
   "outputs": [],
   "source": [
    "# In-order\n",
    "def inorder(root):\n",
    "    if root:\n",
    "        inorder(root.left)\n",
    "        print(root.val, end=' ')\n",
    "        inorder(root.right)"
   ]
  },
  {
   "cell_type": "code",
   "execution_count": null,
   "id": "88cf58af-dba5-4c8b-9a61-569c7a33427b",
   "metadata": {},
   "outputs": [],
   "source": [
    "print(\"\\nInorder traversal:\")\n",
    "inorder(root)"
   ]
  },
  {
   "cell_type": "code",
   "execution_count": null,
   "id": "d2f489e6-52f9-4f1e-984d-9dc90bd8ee2f",
   "metadata": {},
   "outputs": [],
   "source": [
    "# Post-order\n",
    "def postorder(root):\n",
    "    if root:\n",
    "        postorder(root.left)\n",
    "        postorder(root.right)\n",
    "        print(root.val, end=' ')"
   ]
  },
  {
   "cell_type": "code",
   "execution_count": null,
   "id": "089f6367-acf5-4b0b-95ef-b4d6ea492733",
   "metadata": {},
   "outputs": [],
   "source": [
    "print(\"\\nPostorder traversal:\")\n",
    "postorder(root)"
   ]
  },
  {
   "cell_type": "code",
   "execution_count": null,
   "id": "0260bf36-8c10-4929-95dd-d2f4a2d65fe8",
   "metadata": {},
   "outputs": [],
   "source": [
    "# Tree Depth\n",
    "def depth(root):\n",
    "    if not root:\n",
    "        return 0\n",
    "    return 1 + max(depth(root.left), depth(root.right))\n"
   ]
  },
  {
   "cell_type": "code",
   "execution_count": null,
   "id": "38e53189-47ea-4e35-ae8e-98e1b9991fd8",
   "metadata": {},
   "outputs": [],
   "source": [
    "print(\"\\nTree Depth:\", depth(root))"
   ]
  },
  {
   "cell_type": "code",
   "execution_count": null,
   "id": "d8420905-d008-4d77-80c1-019bc359a131",
   "metadata": {},
   "outputs": [],
   "source": []
  }
 ],
 "metadata": {
  "kernelspec": {
   "display_name": "Python 3 (ipykernel)",
   "language": "python",
   "name": "python3"
  },
  "language_info": {
   "codemirror_mode": {
    "name": "ipython",
    "version": 3
   },
   "file_extension": ".py",
   "mimetype": "text/x-python",
   "name": "python",
   "nbconvert_exporter": "python",
   "pygments_lexer": "ipython3",
   "version": "3.11.13"
  }
 },
 "nbformat": 4,
 "nbformat_minor": 5
}

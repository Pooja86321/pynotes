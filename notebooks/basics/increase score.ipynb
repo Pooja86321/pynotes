{
 "cells": [
  {
   "cell_type": "code",
   "execution_count": null,
   "id": "67bf1d7c-bc06-4034-a29f-8e3bc701d498",
   "metadata": {},
   "outputs": [],
   "source": [
    "import matplotlib.pyplot as plt"
   ]
  },
  {
   "cell_type": "code",
   "execution_count": null,
   "id": "24c2019f-6982-4cb5-b187-546cf2a6d9da",
   "metadata": {},
   "outputs": [],
   "source": [
    "score = 0"
   ]
  },
  {
   "cell_type": "code",
   "execution_count": null,
   "id": "c219551f-63c1-45be-a7bf-eba5daec45f4",
   "metadata": {},
   "outputs": [],
   "source": [
    "def increase_score(current_score, increment=1):\n",
    "    return current_score + increment"
   ]
  },
  {
   "cell_type": "code",
   "execution_count": null,
   "id": "e89ea9be-0a97-4c93-abc3-d6bf8e502da9",
   "metadata": {},
   "outputs": [],
   "source": [
    "increments = [5, 10, 15, 20]  # Example increments\n",
    "scores = [score]  # List to track scores over time"
   ]
  },
  {
   "cell_type": "code",
   "execution_count": null,
   "id": "cff05433-d7d4-46ca-81e9-5a6870af8aee",
   "metadata": {},
   "outputs": [],
   "source": [
    "for inc in increments:\n",
    "    score = increase_score(score, inc)\n",
    "    scores.append(score)"
   ]
  },
  {
   "cell_type": "code",
   "execution_count": null,
   "id": "b62c11c9-4636-485d-9f86-21e535c3c70e",
   "metadata": {},
   "outputs": [],
   "source": [
    "print(f\"Final Score: {score}\")"
   ]
  },
  {
   "cell_type": "code",
   "execution_count": null,
   "id": "3efb4753-1c32-49c5-bcfd-de9213559e8e",
   "metadata": {},
   "outputs": [],
   "source": [
    "plt.plot(range(len(scores)), scores, marker='o', linestyle='-', color='b')\n",
    "plt.title(\"Score Progression\")\n",
    "plt.xlabel(\"Step\")\n",
    "plt.ylabel(\"Score\")\n",
    "plt.grid()\n",
    "plt.show()"
   ]
  },
  {
   "cell_type": "code",
   "execution_count": null,
   "id": "664305a9-3a8c-454d-ab04-f6fb1b9ec1b6",
   "metadata": {},
   "outputs": [],
   "source": []
  },
  {
   "cell_type": "code",
   "execution_count": null,
   "id": "63d23369-d8f0-48e3-a0af-36fc0c9c9362",
   "metadata": {},
   "outputs": [],
   "source": []
  }
 ],
 "metadata": {
  "kernelspec": {
   "display_name": "Python 3 (ipykernel)",
   "language": "python",
   "name": "python3"
  },
  "language_info": {
   "codemirror_mode": {
    "name": "ipython",
    "version": 3
   },
   "file_extension": ".py",
   "mimetype": "text/x-python",
   "name": "python",
   "nbconvert_exporter": "python",
   "pygments_lexer": "ipython3",
   "version": "3.11.13"
  }
 },
 "nbformat": 4,
 "nbformat_minor": 5
}

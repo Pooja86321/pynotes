{
 "cells": [
  {
   "cell_type": "code",
   "execution_count": null,
   "id": "a9116731-6565-4846-9d59-a38108234b5b",
   "metadata": {},
   "outputs": [],
   "source": [
    "a = 1\n",
    "b = a * 2\n",
    "print(f'Cell 1: {a} * 2 = {b}')"
   ]
  },
  {
   "cell_type": "code",
   "execution_count": null,
   "id": "76ab8640-06a9-43fb-abd4-08b5a8974f92",
   "metadata": {},
   "outputs": [],
   "source": [
    "a = 2\n",
    "b = a * 2\n",
    "print(f'Cell 2: {a} * 2 = {b}')"
   ]
  },
  {
   "cell_type": "code",
   "execution_count": null,
   "id": "eb39815c-4600-4ac3-8eaf-7fd0c210382b",
   "metadata": {},
   "outputs": [],
   "source": [
    "a = 3\n",
    "b = a * 2\n",
    "print(f'Cell 3: {a} * 2 = {b}')"
   ]
  },
  {
   "cell_type": "code",
   "execution_count": null,
   "id": "95366e18-a0ee-48b1-b3a9-9000bcc77c9c",
   "metadata": {},
   "outputs": [],
   "source": [
    "a = 4\n",
    "b = a * 2\n",
    "print(f'Cell 4: {a} * 2 = {b}')"
   ]
  },
  {
   "cell_type": "code",
   "execution_count": null,
   "id": "1f1b05c9-1d63-4d50-bf1c-3092cde29802",
   "metadata": {},
   "outputs": [],
   "source": [
    "a = 5\n",
    "b = a * 2\n",
    "print(f'Cell 5: {a} * 2 = {b}')"
   ]
  },
  {
   "cell_type": "code",
   "execution_count": null,
   "id": "94276042-be02-4c18-9ea6-5eedaa6a4067",
   "metadata": {},
   "outputs": [],
   "source": [
    "a = 7\n",
    "b = a * 2\n",
    "print(f'Cell 7: {a} * 2 = {b}')"
   ]
  },
  {
   "cell_type": "code",
   "execution_count": null,
   "id": "c416b55d-05f0-40c5-b489-7a0f97b136aa",
   "metadata": {},
   "outputs": [],
   "source": [
    "a = 8\n",
    "b = a * 2\n",
    "print(f'Cell 8: {a} * 2 = {b}')"
   ]
  },
  {
   "cell_type": "code",
   "execution_count": null,
   "id": "3730df52-f033-4076-904e-6208e3f8b9d7",
   "metadata": {},
   "outputs": [],
   "source": [
    "a = 9\n",
    "b = a * 2\n",
    "print(f'Cell 9: {a} * 2 = {b}')"
   ]
  },
  {
   "cell_type": "code",
   "execution_count": null,
   "id": "ff12d2c2-11f0-46e2-beb9-4f959284cdf7",
   "metadata": {},
   "outputs": [],
   "source": [
    "a = 10\n",
    "b = a * 2\n",
    "print(f'Cell 10: {a} * 2 = {b}')"
   ]
  },
  {
   "cell_type": "code",
   "execution_count": null,
   "id": "f0d6be77-47a2-4cdb-a2bd-317e6128d913",
   "metadata": {},
   "outputs": [],
   "source": [
    "a = 11\n",
    "b = a * 2\n",
    "print(f'Cell 11: {a} * 2 = {b}')"
   ]
  },
  {
   "cell_type": "code",
   "execution_count": null,
   "id": "3688cb0d-8fc7-4c30-9aac-b721cf7bec24",
   "metadata": {},
   "outputs": [],
   "source": [
    "a = 12\n",
    "b = a * 2\n",
    "print(f'Cell 12: {a} * 2 = {b}')"
   ]
  },
  {
   "cell_type": "code",
   "execution_count": null,
   "id": "a50fef5d-b7c5-4348-955f-5397e8692254",
   "metadata": {},
   "outputs": [],
   "source": [
    "a = 13\n",
    "b = a * 2\n",
    "print(f'Cell 13: {a} * 2 = {b}')"
   ]
  },
  {
   "cell_type": "code",
   "execution_count": null,
   "id": "0e3d4e5d-5414-4c3c-9cc4-1f7aa6fde8d0",
   "metadata": {},
   "outputs": [],
   "source": [
    "a = 14\n",
    "b = a * 2\n",
    "print(f'Cell 14: {a} * 2 = {b}')"
   ]
  },
  {
   "cell_type": "code",
   "execution_count": null,
   "id": "cb22645f-39d2-4aca-bbf1-8943498b4895",
   "metadata": {},
   "outputs": [],
   "source": [
    "a = 15\n",
    "b = a * 2\n",
    "print(f'Cell 15: {a} * 2 = {b}')"
   ]
  },
  {
   "cell_type": "code",
   "execution_count": null,
   "id": "8a368d4b-ed74-4f38-bbe6-4701a23a5d48",
   "metadata": {},
   "outputs": [],
   "source": [
    "a = 16\n",
    "b = a * 2\n",
    "print(f'Cell 16: {a} * 2 = {b}')"
   ]
  },
  {
   "cell_type": "code",
   "execution_count": null,
   "id": "112efa52-6490-4810-ac19-c15af135b814",
   "metadata": {},
   "outputs": [],
   "source": [
    "a = 17\n",
    "b = a * 2\n",
    "print(f'Cell 17: {a} * 2 = {b}')"
   ]
  },
  {
   "cell_type": "code",
   "execution_count": null,
   "id": "dcfcce92-2b1c-4d91-825d-5e58c3c32597",
   "metadata": {},
   "outputs": [],
   "source": [
    "a = 18\n",
    "b = a * 2\n",
    "print(f'Cell 18: {a} * 2 = {b}')"
   ]
  },
  {
   "cell_type": "code",
   "execution_count": null,
   "id": "550c560a-3e95-493d-afe9-ee16b3774c9b",
   "metadata": {},
   "outputs": [],
   "source": [
    "a = 19\n",
    "b = a * 2\n",
    "print(f'Cell 19: {a} * 2 = {b}')"
   ]
  },
  {
   "cell_type": "code",
   "execution_count": null,
   "id": "c7afd5dd-3ae6-4bee-bbd9-767232dea754",
   "metadata": {},
   "outputs": [],
   "source": [
    "a = 20\n",
    "b = a * 2\n",
    "print(f'Cell 20: {a} * 2 = {b}')"
   ]
  },
  {
   "cell_type": "code",
   "execution_count": null,
   "id": "63b6e70e-f347-43e9-afbb-f63e37d167de",
   "metadata": {},
   "outputs": [],
   "source": [
    "a = 21\n",
    "b = a * 2\n",
    "print(f'Cell 21: {a} * 2 = {b}')"
   ]
  },
  {
   "cell_type": "code",
   "execution_count": null,
   "id": "828fb6c0-6f5b-47be-8ff3-8d64c56d0184",
   "metadata": {},
   "outputs": [],
   "source": [
    "a = 22\n",
    "b = a * 2\n",
    "print(f'Cell 22: {a} * 2 = {b}')"
   ]
  },
  {
   "cell_type": "code",
   "execution_count": null,
   "id": "ea13d39e-d405-43c8-a367-1c7258df250e",
   "metadata": {},
   "outputs": [],
   "source": [
    "a = 23\n",
    "b = a * 2\n",
    "print(f'Cell 23: {a} * 2 = {b}')"
   ]
  },
  {
   "cell_type": "code",
   "execution_count": null,
   "id": "3340b390-8def-4e7a-8d13-277db25e52c1",
   "metadata": {},
   "outputs": [],
   "source": [
    "a = 24\n",
    "b = a * 2\n",
    "print(f'Cell 24: {a} * 2 = {b}')"
   ]
  },
  {
   "cell_type": "code",
   "execution_count": null,
   "id": "d01f3888-95e7-4e6c-b8c7-686632684fd8",
   "metadata": {},
   "outputs": [],
   "source": [
    "a = 25\n",
    "b = a * 2\n",
    "print(f'Cell 25: {a} * 2 = {b}')"
   ]
  },
  {
   "cell_type": "code",
   "execution_count": null,
   "id": "2d8854f2-4f8b-4be4-8875-7fee5e339815",
   "metadata": {},
   "outputs": [],
   "source": [
    "a = 26\n",
    "b = a * 2\n",
    "print(f'Cell 26: {a} * 2 = {b}')"
   ]
  },
  {
   "cell_type": "code",
   "execution_count": null,
   "id": "3c34a9fb-a88f-4d63-a38d-a83d8f9bad96",
   "metadata": {},
   "outputs": [],
   "source": [
    "a = 27\n",
    "b = a * 2\n",
    "print(f'Cell 27: {a} * 2 = {b}')"
   ]
  },
  {
   "cell_type": "code",
   "execution_count": null,
   "id": "51fe37c2-80ae-4c68-b904-7b4711b322e6",
   "metadata": {},
   "outputs": [],
   "source": [
    "a = 28\n",
    "b = a * 2\n",
    "print(f'Cell 28: {a} * 2 = {b}')"
   ]
  },
  {
   "cell_type": "code",
   "execution_count": null,
   "id": "0518e530-a8ed-405a-bc71-c3e54d679518",
   "metadata": {},
   "outputs": [],
   "source": [
    "a = 29\n",
    "b = a * 2\n",
    "print(f'Cell 29: {a} * 2 = {b}')"
   ]
  },
  {
   "cell_type": "code",
   "execution_count": null,
   "id": "9a51669c-04f9-4eaa-9cd5-ec6ad1e2b6e5",
   "metadata": {},
   "outputs": [],
   "source": [
    "a = 30\n",
    "b = a * 2\n",
    "print(f'Cell 30: {a} * 2 = {b}')"
   ]
  },
  {
   "cell_type": "code",
   "execution_count": null,
   "id": "df4e7f3f-f514-412d-9e32-3c55e44783bf",
   "metadata": {},
   "outputs": [],
   "source": [
    "a = 31\n",
    "b = a * 2\n",
    "print(f'Cell 31: {a} * 2 = {b}')"
   ]
  },
  {
   "cell_type": "code",
   "execution_count": null,
   "id": "96ec1a18-1d16-4299-9401-15977b73f55d",
   "metadata": {},
   "outputs": [],
   "source": [
    "a = 32\n",
    "b = a * 2\n",
    "print(f'Cell 32: {a} * 2 = {b}')"
   ]
  },
  {
   "cell_type": "code",
   "execution_count": null,
   "id": "6295b143-b175-4aa8-8377-c97b1dbcd69d",
   "metadata": {},
   "outputs": [],
   "source": [
    "a = 33\n",
    "b = a * 2\n",
    "print(f'Cell 33: {a} * 2 = {b}')"
   ]
  },
  {
   "cell_type": "code",
   "execution_count": null,
   "id": "892f6c50-7143-4b4f-94ef-29dbe4728909",
   "metadata": {},
   "outputs": [],
   "source": [
    "a = 34\n",
    "b = a * 2\n",
    "print(f'Cell 34: {a} * 2 = {b}')"
   ]
  },
  {
   "cell_type": "code",
   "execution_count": null,
   "id": "9c4e8a33-1266-44a9-b404-e319f9712a6a",
   "metadata": {},
   "outputs": [],
   "source": [
    "a = 35\n",
    "b = a * 2\n",
    "print(f'Cell 35: {a} * 2 = {b}')"
   ]
  },
  {
   "cell_type": "code",
   "execution_count": null,
   "id": "af3e1803-59b3-42cc-80e8-6426cd0b2b1b",
   "metadata": {},
   "outputs": [],
   "source": [
    "a = 36\n",
    "b = a * 2\n",
    "print(f'Cell 36: {a} * 2 = {b}')"
   ]
  },
  {
   "cell_type": "code",
   "execution_count": null,
   "id": "384bc071-2808-4ab0-9acb-7b0aa40da72b",
   "metadata": {},
   "outputs": [],
   "source": [
    "a = 37\n",
    "b = a * 2\n",
    "print(f'Cell 37: {a} * 2 = {b}')"
   ]
  },
  {
   "cell_type": "code",
   "execution_count": null,
   "id": "a8f0a878-4baa-4df6-bff2-64413a3196bb",
   "metadata": {},
   "outputs": [],
   "source": [
    "a = 38\n",
    "b = a * 2\n",
    "print(f'Cell 38: {a} * 2 = {b}')"
   ]
  },
  {
   "cell_type": "code",
   "execution_count": null,
   "id": "8f0672d6-3c0c-469b-93a9-05065a84b427",
   "metadata": {},
   "outputs": [],
   "source": [
    "a = 39\n",
    "b = a * 2\n",
    "print(f'Cell 39: {a} * 2 = {b}')"
   ]
  },
  {
   "cell_type": "code",
   "execution_count": null,
   "id": "2f2450da-2c4e-4ad6-8ac9-6b1fd71bba69",
   "metadata": {},
   "outputs": [],
   "source": [
    "a = 40\n",
    "b = a * 2\n",
    "print(f'Cell 40: {a} * 2 = {b}')"
   ]
  },
  {
   "cell_type": "code",
   "execution_count": null,
   "id": "cf9a7d44-5ac4-4fcc-a68f-6304e6a5c5d1",
   "metadata": {},
   "outputs": [],
   "source": [
    "a = 41\n",
    "b = a * 2\n",
    "print(f'Cell 41: {a} * 2 = {b}')"
   ]
  },
  {
   "cell_type": "code",
   "execution_count": null,
   "id": "50d78644-b534-4849-8047-28ad88a509cc",
   "metadata": {},
   "outputs": [],
   "source": [
    "a = 42\n",
    "b = a * 2\n",
    "print(f'Cell 42: {a} * 2 = {b}')"
   ]
  },
  {
   "cell_type": "code",
   "execution_count": null,
   "id": "88c65368-b316-4758-bbe4-20ea4d76e05c",
   "metadata": {},
   "outputs": [],
   "source": [
    "a = 43\n",
    "b = a * 2\n",
    "print(f'Cell 43: {a} * 2 = {b}')"
   ]
  },
  {
   "cell_type": "code",
   "execution_count": null,
   "id": "733d79f8-0901-4cbd-a406-bb5bae472df0",
   "metadata": {},
   "outputs": [],
   "source": [
    "a = 44\n",
    "b = a * 2\n",
    "print(f'Cell 44: {a} * 2 = {b}')"
   ]
  },
  {
   "cell_type": "code",
   "execution_count": null,
   "id": "1113a678-5363-480c-a21c-342e2a3ed40e",
   "metadata": {},
   "outputs": [],
   "source": [
    "a = 45\n",
    "b = a * 2\n",
    "print(f'Cell 45: {a} * 2 = {b}')"
   ]
  },
  {
   "cell_type": "code",
   "execution_count": null,
   "id": "99e5b4c5-1687-4669-82d6-acdd287c0bf9",
   "metadata": {},
   "outputs": [],
   "source": [
    "a = 46\n",
    "b = a * 2\n",
    "print(f'Cell 46: {a} * 2 = {b}')"
   ]
  },
  {
   "cell_type": "code",
   "execution_count": null,
   "id": "dc545843-727c-4bd0-8b4a-33830924ed9a",
   "metadata": {},
   "outputs": [],
   "source": [
    "a = 47\n",
    "b = a * 2\n",
    "print(f'Cell 47: {a} * 2 = {b}')"
   ]
  },
  {
   "cell_type": "code",
   "execution_count": null,
   "id": "fd6e678a-d746-402b-9c45-96d30fa6e280",
   "metadata": {},
   "outputs": [],
   "source": [
    "a = 48\n",
    "b = a * 2\n",
    "print(f'Cell 48: {a} * 2 = {b}')"
   ]
  },
  {
   "cell_type": "code",
   "execution_count": null,
   "id": "bbfac1b2-f234-4808-b59c-f546a6f37aa8",
   "metadata": {},
   "outputs": [],
   "source": [
    "a = 49\n",
    "b = a * 2\n",
    "print(f'Cell 49: {a} * 2 = {b}')"
   ]
  },
  {
   "cell_type": "code",
   "execution_count": null,
   "id": "85dc141a-eb5a-41dd-9443-558728da70a0",
   "metadata": {},
   "outputs": [],
   "source": [
    "a = 50\n",
    "b = a * 2\n",
    "print(f'Cell 50: {a} * 2 = {b}')"
   ]
  },
  {
   "cell_type": "code",
   "execution_count": null,
   "id": "6fa742de-84a0-461a-9a46-7295172311da",
   "metadata": {},
   "outputs": [],
   "source": [
    "a = 51\n",
    "b = a * 2\n",
    "print(f'Cell 51: {a} * 2 = {b}')"
   ]
  },
  {
   "cell_type": "code",
   "execution_count": null,
   "id": "39cb81d7-ecaf-418b-97a4-bc0564e5ac1c",
   "metadata": {},
   "outputs": [],
   "source": [
    "a = 52\n",
    "b = a * 2\n",
    "print(f'Cell 52: {a} * 2 = {b}')"
   ]
  },
  {
   "cell_type": "code",
   "execution_count": null,
   "id": "08536b87-8261-47b6-9d52-11f18b01e094",
   "metadata": {},
   "outputs": [],
   "source": [
    "a = 53\n",
    "b = a * 2\n",
    "print(f'Cell 53: {a} * 2 = {b}')"
   ]
  },
  {
   "cell_type": "code",
   "execution_count": null,
   "id": "43524cc5-ef3d-49e9-979c-a45e918f24de",
   "metadata": {},
   "outputs": [],
   "source": [
    "a = 54\n",
    "b = a * 2\n",
    "print(f'Cell 54: {a} * 2 = {b}')"
   ]
  },
  {
   "cell_type": "code",
   "execution_count": null,
   "id": "1b6c98b7-3506-4863-8c10-da22697f2656",
   "metadata": {},
   "outputs": [],
   "source": [
    "a = 55\n",
    "b = a * 2\n",
    "print(f'Cell 55: {a} * 2 = {b}')"
   ]
  },
  {
   "cell_type": "code",
   "execution_count": null,
   "id": "4ddee59f-90d5-40f7-a2cb-52cbc4cb1f36",
   "metadata": {},
   "outputs": [],
   "source": [
    "a = 56\n",
    "b = a * 2\n",
    "print(f'Cell 56: {a} * 2 = {b}')"
   ]
  },
  {
   "cell_type": "code",
   "execution_count": null,
   "id": "2a9cec56-1a1b-4c0d-a348-828ccd8faecb",
   "metadata": {},
   "outputs": [],
   "source": [
    "a = 57\n",
    "b = a * 2\n",
    "print(f'Cell 57: {a} * 2 = {b}')"
   ]
  },
  {
   "cell_type": "code",
   "execution_count": null,
   "id": "93469ba6-74a3-460f-9341-3b6302afbb86",
   "metadata": {},
   "outputs": [],
   "source": [
    "a = 58\n",
    "b = a * 2\n",
    "print(f'Cell 58: {a} * 2 = {b}')"
   ]
  },
  {
   "cell_type": "code",
   "execution_count": null,
   "id": "1840ef48-57ef-4cfe-b59f-2ca20ab10299",
   "metadata": {},
   "outputs": [],
   "source": [
    "a = 59\n",
    "b = a * 2\n",
    "print(f'Cell 59: {a} * 2 = {b}')"
   ]
  },
  {
   "cell_type": "code",
   "execution_count": null,
   "id": "d7c3ed2a-d1ee-4dba-bfe5-8a3898447574",
   "metadata": {},
   "outputs": [],
   "source": [
    "a = 60\n",
    "b = a * 2\n",
    "print(f'Cell 60: {a} * 2 = {b}')"
   ]
  },
  {
   "cell_type": "code",
   "execution_count": null,
   "id": "5cb3ae53-5068-4781-8d1f-cdfb4d60b144",
   "metadata": {},
   "outputs": [],
   "source": [
    "a = 61\n",
    "b = a * 2\n",
    "print(f'Cell 61: {a} * 2 = {b}')"
   ]
  },
  {
   "cell_type": "code",
   "execution_count": null,
   "id": "649e6d70-4acb-457b-ad04-f6b97a2e275e",
   "metadata": {},
   "outputs": [],
   "source": [
    "a = 62\n",
    "b = a * 2\n",
    "print(f'Cell 62: {a} * 2 = {b}')"
   ]
  },
  {
   "cell_type": "code",
   "execution_count": null,
   "id": "f5180101-f5ae-49a1-ba43-118022b97cf3",
   "metadata": {},
   "outputs": [],
   "source": [
    "a = 63\n",
    "b = a * 2\n",
    "print(f'Cell 63: {a} * 2 = {b}')"
   ]
  },
  {
   "cell_type": "code",
   "execution_count": null,
   "id": "72c2dfe3-673d-4625-97a6-f6ddba1095e5",
   "metadata": {},
   "outputs": [],
   "source": [
    "a = 64\n",
    "b = a * 2\n",
    "print(f'Cell 64: {a} * 2 = {b}')"
   ]
  },
  {
   "cell_type": "code",
   "execution_count": null,
   "id": "3749121c-3567-4dc2-b72d-fc317779ed97",
   "metadata": {},
   "outputs": [],
   "source": [
    "a = 65\n",
    "b = a * 2\n",
    "print(f'Cell 65: {a} * 2 = {b}')"
   ]
  },
  {
   "cell_type": "code",
   "execution_count": null,
   "id": "e0a60204-a840-4cb9-845d-784100abefb1",
   "metadata": {},
   "outputs": [],
   "source": [
    "a = 66\n",
    "b = a * 2\n",
    "print(f'Cell 66: {a} * 2 = {b}')"
   ]
  },
  {
   "cell_type": "code",
   "execution_count": null,
   "id": "8de32094-94d7-46d3-9d86-4d0928050a30",
   "metadata": {},
   "outputs": [],
   "source": [
    "a = 67\n",
    "b = a * 2\n",
    "print(f'Cell 67: {a} * 2 = {b}')"
   ]
  },
  {
   "cell_type": "code",
   "execution_count": null,
   "id": "0214ca25-c584-4a85-b69b-d89b55437d6d",
   "metadata": {},
   "outputs": [],
   "source": [
    "a = 68\n",
    "b = a * 2\n",
    "print(f'Cell 68: {a} * 2 = {b}')"
   ]
  },
  {
   "cell_type": "code",
   "execution_count": null,
   "id": "4208b75c-3a0b-4fe0-bd9f-f563d340a533",
   "metadata": {},
   "outputs": [],
   "source": [
    "a = 69\n",
    "b = a * 2\n",
    "print(f'Cell 69: {a} * 2 = {b}')"
   ]
  },
  {
   "cell_type": "code",
   "execution_count": null,
   "id": "1be75d03-6444-4927-b8bb-d0e9d6c65bfc",
   "metadata": {},
   "outputs": [],
   "source": [
    "a = 70\n",
    "b = a * 2\n",
    "print(f'Cell 70: {a} * 2 = {b}')"
   ]
  },
  {
   "cell_type": "code",
   "execution_count": null,
   "id": "19c8ea5f-c9b8-4b12-8356-61daedf5a872",
   "metadata": {},
   "outputs": [],
   "source": [
    "a = 71\n",
    "b = a * 2\n",
    "print(f'Cell 71: {a} * 2 = {b}')"
   ]
  },
  {
   "cell_type": "code",
   "execution_count": null,
   "id": "dcbdb733-96a5-4d66-9e3f-10a92a514617",
   "metadata": {},
   "outputs": [],
   "source": [
    "a = 72\n",
    "b = a * 2\n",
    "print(f'Cell 72: {a} * 2 = {b}')"
   ]
  },
  {
   "cell_type": "code",
   "execution_count": null,
   "id": "5aaf05b6-63fd-4719-b135-2fa550872e33",
   "metadata": {},
   "outputs": [],
   "source": [
    "a = 73\n",
    "b = a * 2\n",
    "print(f'Cell 73: {a} * 2 = {b}')"
   ]
  },
  {
   "cell_type": "code",
   "execution_count": null,
   "id": "9eca306b-9551-4eef-8235-67619af7cf02",
   "metadata": {},
   "outputs": [],
   "source": [
    "a = 74\n",
    "b = a * 2\n",
    "print(f'Cell 74: {a} * 2 = {b}')"
   ]
  },
  {
   "cell_type": "code",
   "execution_count": null,
   "id": "5de3c3a2-6b87-45bb-9682-6e7e05ceb371",
   "metadata": {},
   "outputs": [],
   "source": [
    "a = 75\n",
    "b = a * 2\n",
    "print(f'Cell 75: {a} * 2 = {b}')"
   ]
  },
  {
   "cell_type": "code",
   "execution_count": null,
   "id": "c584d77e-724d-4c9c-9e96-b5898d8a45c0",
   "metadata": {},
   "outputs": [],
   "source": [
    "a = 76\n",
    "b = a * 2\n",
    "print(f'Cell 76: {a} * 2 = {b}')"
   ]
  },
  {
   "cell_type": "code",
   "execution_count": null,
   "id": "e8b20aa4-3c81-4d10-bac0-b67183557fa5",
   "metadata": {},
   "outputs": [],
   "source": [
    "a = 77\n",
    "b = a * 2\n",
    "print(f'Cell 77: {a} * 2 = {b}')"
   ]
  },
  {
   "cell_type": "code",
   "execution_count": null,
   "id": "22d89e5c-7dca-40f2-b946-2c04d8e44daf",
   "metadata": {},
   "outputs": [],
   "source": [
    "a = 78\n",
    "b = a * 2\n",
    "print(f'Cell 78: {a} * 2 = {b}')"
   ]
  },
  {
   "cell_type": "code",
   "execution_count": null,
   "id": "e570e888-1d70-4834-876c-8ae5e277725d",
   "metadata": {},
   "outputs": [],
   "source": [
    "a = 79\n",
    "b = a * 2\n",
    "print(f'Cell 79: {a} * 2 = {b}')"
   ]
  },
  {
   "cell_type": "code",
   "execution_count": null,
   "id": "f7348c3e-9a47-4a04-a0c2-a8bbb8c79cde",
   "metadata": {},
   "outputs": [],
   "source": [
    "a = 80\n",
    "b = a * 2\n",
    "print(f'Cell 80: {a} * 2 = {b}')"
   ]
  },
  {
   "cell_type": "code",
   "execution_count": null,
   "id": "c67b4046-ee9e-45cf-9de6-ab05fb082be7",
   "metadata": {},
   "outputs": [],
   "source": [
    "a = 81\n",
    "b = a * 2\n",
    "print(f'Cell 81: {a} * 2 = {b}')"
   ]
  },
  {
   "cell_type": "code",
   "execution_count": null,
   "id": "27230fa0-bc28-4cb1-a96a-b4e6e7890ed3",
   "metadata": {},
   "outputs": [],
   "source": [
    "a = 82\n",
    "b = a * 2\n",
    "print(f'Cell 82: {a} * 2 = {b}')"
   ]
  },
  {
   "cell_type": "code",
   "execution_count": null,
   "id": "2eeb43f5-aa8d-4a0b-b9ba-6a74ac66cd32",
   "metadata": {},
   "outputs": [],
   "source": [
    "a = 83\n",
    "b = a * 2\n",
    "print(f'Cell 83: {a} * 2 = {b}')"
   ]
  },
  {
   "cell_type": "code",
   "execution_count": null,
   "id": "6cad7286-932b-4124-bf47-c4e2af343888",
   "metadata": {},
   "outputs": [],
   "source": [
    "a = 84\n",
    "b = a * 2\n",
    "print(f'Cell 84: {a} * 2 = {b}')"
   ]
  },
  {
   "cell_type": "code",
   "execution_count": null,
   "id": "52d86b05-98df-4bc1-9b2d-6854650aa577",
   "metadata": {},
   "outputs": [],
   "source": [
    "a = 85\n",
    "b = a * 2\n",
    "print(f'Cell 85: {a} * 2 = {b}')"
   ]
  },
  {
   "cell_type": "code",
   "execution_count": null,
   "id": "69d149a0-51d8-4d52-9853-14a29d265070",
   "metadata": {},
   "outputs": [],
   "source": [
    "a = 86\n",
    "b = a * 2\n",
    "print(f'Cell 86: {a} * 2 = {b}')"
   ]
  },
  {
   "cell_type": "code",
   "execution_count": null,
   "id": "ec527870-3508-494b-ad44-e3e37aa7d19c",
   "metadata": {},
   "outputs": [],
   "source": [
    "a = 87\n",
    "b = a * 2\n",
    "print(f'Cell 87: {a} * 2 = {b}')"
   ]
  },
  {
   "cell_type": "code",
   "execution_count": null,
   "id": "6bfc1037-177e-4de8-9251-e472d65fef69",
   "metadata": {},
   "outputs": [],
   "source": [
    "a = 88\n",
    "b = a * 2\n",
    "print(f'Cell 88: {a} * 2 = {b}')"
   ]
  },
  {
   "cell_type": "code",
   "execution_count": null,
   "id": "50fddc12-f7b1-404a-8c95-0cc3022006fa",
   "metadata": {},
   "outputs": [],
   "source": [
    "a = 89\n",
    "b = a * 2\n",
    "print(f'Cell 89: {a} * 2 = {b}')"
   ]
  },
  {
   "cell_type": "code",
   "execution_count": null,
   "id": "5a290609-2dc8-4d5d-af16-c78130ecf174",
   "metadata": {},
   "outputs": [],
   "source": [
    "a = 100\n",
    "b = a * 2\n",
    "print(f'Cell 100: {a} * 2 = {b}')"
   ]
  },
  {
   "cell_type": "code",
   "execution_count": null,
   "id": "0c4689a1-0e9e-4008-a4e9-154b3fefe600",
   "metadata": {},
   "outputs": [],
   "source": [
    "a = 99\n",
    "b = a * 2\n",
    "print(f'Cell 99: {a} * 2 = {b}')"
   ]
  },
  {
   "cell_type": "code",
   "execution_count": null,
   "id": "15693d18-ace3-4c2c-95e6-27d26c32dabf",
   "metadata": {},
   "outputs": [],
   "source": [
    "a = 98\n",
    "b = a * 2\n",
    "print(f'Cell 98: {a} * 2 = {b}')"
   ]
  },
  {
   "cell_type": "code",
   "execution_count": null,
   "id": "787b984f-d084-49fa-8236-5fdc5418f2a1",
   "metadata": {},
   "outputs": [],
   "source": [
    "a = 97\n",
    "b = a * 2\n",
    "print(f'Cell 97: {a} * 2 = {b}')"
   ]
  },
  {
   "cell_type": "code",
   "execution_count": null,
   "id": "4bf99141-13ec-4eee-b658-5d06c0220dac",
   "metadata": {},
   "outputs": [],
   "source": [
    "a = 96\n",
    "b = a * 2\n",
    "print(f'Cell 96: {a} * 2 = {b}')"
   ]
  },
  {
   "cell_type": "code",
   "execution_count": null,
   "id": "5743dc61-b519-4aec-b3a1-6d6b8d32b384",
   "metadata": {},
   "outputs": [],
   "source": [
    "a = 95\n",
    "b = a * 2\n",
    "print(f'Cell 95: {a} * 2 = {b}')"
   ]
  },
  {
   "cell_type": "code",
   "execution_count": null,
   "id": "af307443-849d-492e-a9e7-b6caf2c7672a",
   "metadata": {},
   "outputs": [],
   "source": [
    "a = 94\n",
    "b = a * 2\n",
    "print(f'Cell 94: {a} * 2 = {b}')"
   ]
  },
  {
   "cell_type": "code",
   "execution_count": null,
   "id": "e9ad084d-1aa2-459e-8f36-d5ac92714b66",
   "metadata": {},
   "outputs": [],
   "source": [
    "a = 93\n",
    "b = a * 2\n",
    "print(f'Cell 93: {a} * 2 = {b}')"
   ]
  },
  {
   "cell_type": "code",
   "execution_count": null,
   "id": "2346c6f9-3ca8-4c2c-9e98-4e46a438cdf4",
   "metadata": {},
   "outputs": [],
   "source": [
    "a = 92\n",
    "b = a * 2\n",
    "print(f'Cell 92: {a} * 2 = {b}')"
   ]
  },
  {
   "cell_type": "code",
   "execution_count": null,
   "id": "a38a4ae3-459a-454f-ba5f-82abc97089ad",
   "metadata": {},
   "outputs": [],
   "source": [
    "a = 91\n",
    "b = a * 2\n",
    "print(f'Cell 91: {a} * 2 = {b}')"
   ]
  },
  {
   "cell_type": "code",
   "execution_count": null,
   "id": "117ece50-5332-433f-b9b7-ab0d3e02b8de",
   "metadata": {},
   "outputs": [],
   "source": [
    "a = 90\n",
    "b = a * 2\n",
    "print(f'Cell 90: {a} * 2 = {b}')"
   ]
  },
  {
   "cell_type": "code",
   "execution_count": null,
   "id": "8f4dd992-9ccc-449b-be91-37403340e5e1",
   "metadata": {},
   "outputs": [],
   "source": [
    "a = 101\n",
    "b = a * 2\n",
    "print(f'Cell 101: {a} * 2 = {b}')"
   ]
  },
  {
   "cell_type": "code",
   "execution_count": null,
   "id": "7f569db5-f23f-4ce9-ae63-e691730bb3e2",
   "metadata": {},
   "outputs": [],
   "source": [
    "a = 102\n",
    "b = a * 2\n",
    "print(f'Cell 102: {a} * 2 = {b}')"
   ]
  },
  {
   "cell_type": "code",
   "execution_count": null,
   "id": "8f965d35-6c1b-43f1-9204-af2362587079",
   "metadata": {},
   "outputs": [],
   "source": [
    "a = 103\n",
    "b = a * 2\n",
    "print(f'Cell 103: {a} * 2 = {b}')"
   ]
  },
  {
   "cell_type": "code",
   "execution_count": null,
   "id": "d3dc1ef1-62aa-45b1-b9ef-d53fb0efab5c",
   "metadata": {},
   "outputs": [],
   "source": [
    "a = 104\n",
    "b = a * 2\n",
    "print(f'Cell 104: {a} * 2 = {b}')"
   ]
  },
  {
   "cell_type": "code",
   "execution_count": null,
   "id": "7c678901-9ede-45af-9442-e0f08bdb6d0b",
   "metadata": {},
   "outputs": [],
   "source": [
    "a = 105\n",
    "b = a * 2\n",
    "print(f'Cell 105: {a} * 2 = {b}')"
   ]
  },
  {
   "cell_type": "code",
   "execution_count": null,
   "id": "75d10815-3b8b-447a-974d-4060e99cd6e8",
   "metadata": {},
   "outputs": [],
   "source": [
    "a = 106\n",
    "b = a * 2\n",
    "print(f'Cell 106: {a} * 2 = {b}')"
   ]
  },
  {
   "cell_type": "code",
   "execution_count": null,
   "id": "6558129a-d251-42ce-b64a-f26358d35157",
   "metadata": {},
   "outputs": [],
   "source": [
    "a = 107\n",
    "b = a * 2\n",
    "print(f'Cell 107: {a} * 2 = {b}')"
   ]
  },
  {
   "cell_type": "code",
   "execution_count": null,
   "id": "1f5345bc-a6aa-41a5-85ea-fc39902e95c8",
   "metadata": {},
   "outputs": [],
   "source": [
    "a = 108\n",
    "b = a * 2\n",
    "print(f'Cell 108: {a} * 2 = {b}')"
   ]
  },
  {
   "cell_type": "code",
   "execution_count": null,
   "id": "742c7377-040b-4649-897f-a2d7ffb916e5",
   "metadata": {},
   "outputs": [],
   "source": [
    "a = 109\n",
    "b = a * 2\n",
    "print(f'Cell 109: {a} * 2 = {b}')"
   ]
  },
  {
   "cell_type": "code",
   "execution_count": null,
   "id": "a6bb2014-acdb-4f7f-a057-6c1db2de04ab",
   "metadata": {},
   "outputs": [],
   "source": [
    "a = 110\n",
    "b = a * 2\n",
    "print(f'Cell 110: {a} * 2 = {b}')"
   ]
  },
  {
   "cell_type": "code",
   "execution_count": null,
   "id": "b5139554-782a-48ad-a6e6-d1764fd39f77",
   "metadata": {},
   "outputs": [],
   "source": [
    "a = 111\n",
    "b = a * 2\n",
    "print(f'Cell 111: {a} * 2 = {b}')"
   ]
  },
  {
   "cell_type": "code",
   "execution_count": null,
   "id": "5987360a-3fdc-4b0d-8e69-4cba5a2224f0",
   "metadata": {},
   "outputs": [],
   "source": [
    "a = 112\n",
    "b = a * 2\n",
    "print(f'Cell 112: {a} * 2 = {b}')"
   ]
  },
  {
   "cell_type": "code",
   "execution_count": null,
   "id": "d3c4eb00-d9b4-4248-ae06-638d61eca94a",
   "metadata": {},
   "outputs": [],
   "source": [
    "a = 113\n",
    "b = a * 2\n",
    "print(f'Cell 113: {a} * 2 = {b}')"
   ]
  },
  {
   "cell_type": "code",
   "execution_count": null,
   "id": "ac393b80-c32a-40e9-8ce4-3b44b10fe808",
   "metadata": {},
   "outputs": [],
   "source": [
    "a = 114\n",
    "b = a * 2\n",
    "print(f'Cell 114: {a} * 2 = {b}')"
   ]
  },
  {
   "cell_type": "code",
   "execution_count": null,
   "id": "95956765-03b9-4288-b2f0-e1fed85fc70c",
   "metadata": {},
   "outputs": [],
   "source": [
    "a = 115\n",
    "b = a * 2\n",
    "print(f'Cell 115: {a} * 2 = {b}')"
   ]
  },
  {
   "cell_type": "code",
   "execution_count": null,
   "id": "4ae512d9-c9f0-4263-b964-148a0744f6ea",
   "metadata": {},
   "outputs": [],
   "source": [
    "a = 116\n",
    "b = a * 2\n",
    "print(f'Cell 116: {a} * 2 = {b}')"
   ]
  },
  {
   "cell_type": "code",
   "execution_count": null,
   "id": "9c1acb15-1963-4c5c-ba4d-625fa8c48d0a",
   "metadata": {},
   "outputs": [],
   "source": [
    "a = 117\n",
    "b = a * 2\n",
    "print(f'Cell 117: {a} * 2 = {b}')"
   ]
  },
  {
   "cell_type": "code",
   "execution_count": null,
   "id": "a0f3c8f0-bb66-4666-9102-f516a8005d5d",
   "metadata": {},
   "outputs": [],
   "source": [
    "a = 118\n",
    "b = a * 2\n",
    "print(f'Cell 118: {a} * 2 = {b}')"
   ]
  },
  {
   "cell_type": "code",
   "execution_count": null,
   "id": "11030265-9476-413d-85fb-8873bfcb3217",
   "metadata": {},
   "outputs": [],
   "source": [
    "a = 119\n",
    "b = a * 2\n",
    "print(f'Cell 119: {a} * 2 = {b}')"
   ]
  },
  {
   "cell_type": "code",
   "execution_count": null,
   "id": "18498d0d-a7e3-4322-9b98-898540e6b8ab",
   "metadata": {},
   "outputs": [],
   "source": [
    "a = 120\n",
    "b = a * 2\n",
    "print(f'Cell 120: {a} * 2 = {b}')"
   ]
  },
  {
   "cell_type": "code",
   "execution_count": null,
   "id": "62bddd95-bfc1-4506-89d3-1b23ad66500d",
   "metadata": {},
   "outputs": [],
   "source": [
    "a = 121\n",
    "b = a * 2\n",
    "print(f'Cell 121: {a} * 2 = {b}')"
   ]
  },
  {
   "cell_type": "code",
   "execution_count": null,
   "id": "7fc2672b-4c79-4d0b-ab25-00b702508daf",
   "metadata": {},
   "outputs": [],
   "source": [
    "a = 122\n",
    "b = a * 2\n",
    "print(f'Cell 122: {a} * 2 = {b}')"
   ]
  },
  {
   "cell_type": "code",
   "execution_count": null,
   "id": "65e2c44a-ca33-4193-bea7-6bfa0edc40f4",
   "metadata": {},
   "outputs": [],
   "source": [
    "a = 123\n",
    "b = a * 2\n",
    "print(f'Cell 123: {a} * 2 = {b}')"
   ]
  },
  {
   "cell_type": "code",
   "execution_count": null,
   "id": "f275c71f-8a8c-4498-9d83-61c79f76178b",
   "metadata": {},
   "outputs": [],
   "source": [
    "a = 124\n",
    "b = a * 2\n",
    "print(f'Cell 124: {a} * 2 = {b}')"
   ]
  },
  {
   "cell_type": "code",
   "execution_count": null,
   "id": "9f75db11-15cb-4da7-8d67-3f0de16d3698",
   "metadata": {},
   "outputs": [],
   "source": [
    "a = 125\n",
    "b = a * 2\n",
    "print(f'Cell 125: {a} * 2 = {b}')"
   ]
  },
  {
   "cell_type": "code",
   "execution_count": null,
   "id": "6562ce13-af1f-42a1-917b-1193a04969bd",
   "metadata": {},
   "outputs": [],
   "source": [
    "a = 126\n",
    "b = a * 2\n",
    "print(f'Cell 126: {a} * 2 = {b}')"
   ]
  },
  {
   "cell_type": "code",
   "execution_count": null,
   "id": "86b5afba-903e-4aa8-94c7-37af69d5fcfb",
   "metadata": {},
   "outputs": [],
   "source": [
    "a = 127\n",
    "b = a * 2\n",
    "print(f'Cell 127: {a} * 2 = {b}')"
   ]
  },
  {
   "cell_type": "code",
   "execution_count": null,
   "id": "14277940-e898-49a5-beb1-3d487f9131ba",
   "metadata": {},
   "outputs": [],
   "source": [
    "a = 128\n",
    "b = a * 2\n",
    "print(f'Cell 128: {a} * 2 = {b}')"
   ]
  },
  {
   "cell_type": "code",
   "execution_count": null,
   "id": "caf4686b-db41-452d-8444-3c03db5d7f40",
   "metadata": {},
   "outputs": [],
   "source": [
    "a = 129\n",
    "b = a * 2\n",
    "print(f'Cell 129: {a} * 2 = {b}')"
   ]
  },
  {
   "cell_type": "code",
   "execution_count": null,
   "id": "50443f75-0850-43fe-9c43-8172ae0db25e",
   "metadata": {},
   "outputs": [],
   "source": [
    "a = 131\n",
    "b = a * 2\n",
    "print(f'Cell 131: {a} * 2 = {b}')"
   ]
  },
  {
   "cell_type": "code",
   "execution_count": null,
   "id": "42e184e8-436e-4c6a-bceb-a81c1f3d22ee",
   "metadata": {},
   "outputs": [],
   "source": [
    "a = 132\n",
    "b = a * 2\n",
    "print(f'Cell 132: {a} * 2 = {b}')"
   ]
  },
  {
   "cell_type": "code",
   "execution_count": null,
   "id": "0f79db1d-54c6-4543-a166-1c8fbcf3c843",
   "metadata": {},
   "outputs": [],
   "source": [
    "a = 133\n",
    "b = a * 2\n",
    "print(f'Cell 133: {a} * 2 = {b}')"
   ]
  },
  {
   "cell_type": "code",
   "execution_count": null,
   "id": "b83bb44b-9ad3-4e1e-9325-d87a6e3e13b3",
   "metadata": {},
   "outputs": [],
   "source": [
    "a = 134\n",
    "b = a * 2\n",
    "print(f'Cell 134: {a} * 2 = {b}')"
   ]
  },
  {
   "cell_type": "code",
   "execution_count": null,
   "id": "a9d9eed5-a47c-4c7a-8fa4-475c59c1f9f9",
   "metadata": {},
   "outputs": [],
   "source": [
    "a = 135\n",
    "b = a * 2\n",
    "print(f'Cell 135: {a} * 2 = {b}')"
   ]
  },
  {
   "cell_type": "code",
   "execution_count": null,
   "id": "9905a630-53ac-4313-9a0a-d56dfb7ab024",
   "metadata": {},
   "outputs": [],
   "source": [
    "a = 136\n",
    "b = a * 2\n",
    "print(f'Cell 136: {a} * 2 = {b}')"
   ]
  },
  {
   "cell_type": "code",
   "execution_count": null,
   "id": "cdd37118-1b08-4e90-86e4-69c994733ab6",
   "metadata": {},
   "outputs": [],
   "source": [
    "a = 137\n",
    "b = a * 2\n",
    "print(f'Cell 137: {a} * 2 = {b}')"
   ]
  },
  {
   "cell_type": "code",
   "execution_count": null,
   "id": "ca410a29-cece-491a-b09d-47b2391db6b2",
   "metadata": {},
   "outputs": [],
   "source": [
    "a = 138\n",
    "b = a * 2\n",
    "print(f'Cell 138: {a} * 2 = {b}')"
   ]
  },
  {
   "cell_type": "code",
   "execution_count": null,
   "id": "c277f000-cf6c-49d1-8435-b79ad29f028a",
   "metadata": {},
   "outputs": [],
   "source": [
    "a = 139\n",
    "b = a * 2\n",
    "print(f'Cell 139: {a} * 2 = {b}')"
   ]
  },
  {
   "cell_type": "code",
   "execution_count": null,
   "id": "6ea99ac4-edbf-4855-9358-6c793c447203",
   "metadata": {},
   "outputs": [],
   "source": [
    "a = 140\n",
    "b = a * 2\n",
    "print(f'Cell 140: {a} * 2 = {b}')"
   ]
  },
  {
   "cell_type": "code",
   "execution_count": null,
   "id": "8f50316e-a3db-465a-b797-50753932b24b",
   "metadata": {},
   "outputs": [],
   "source": [
    "a = 141\n",
    "b = a * 2\n",
    "print(f'Cell 141: {a} * 2 = {b}')"
   ]
  },
  {
   "cell_type": "code",
   "execution_count": null,
   "id": "757d08d4-192c-40d4-ac20-fcf756dc96bb",
   "metadata": {},
   "outputs": [],
   "source": [
    "a = 142\n",
    "b = a * 2\n",
    "print(f'Cell 142: {a} * 2 = {b}')"
   ]
  },
  {
   "cell_type": "code",
   "execution_count": null,
   "id": "e285c401-802f-4082-a47d-86b41b2e1284",
   "metadata": {},
   "outputs": [],
   "source": [
    "a = 143\n",
    "b = a * 2\n",
    "print(f'Cell 143: {a} * 2 = {b}')"
   ]
  },
  {
   "cell_type": "code",
   "execution_count": null,
   "id": "f6dbde0b-afbd-4f57-adef-199226263a1f",
   "metadata": {},
   "outputs": [],
   "source": [
    "a = 144\n",
    "b = a * 2\n",
    "print(f'Cell 144: {a} * 2 = {b}')"
   ]
  },
  {
   "cell_type": "code",
   "execution_count": null,
   "id": "f45d87b7-17a1-49b4-ac8b-92c47dd0956f",
   "metadata": {},
   "outputs": [],
   "source": [
    "a = 145\n",
    "b = a * 2\n",
    "print(f'Cell 145: {a} * 2 = {b}')"
   ]
  },
  {
   "cell_type": "code",
   "execution_count": null,
   "id": "9a7a7846-5d87-43b7-98fc-5cb1027dffce",
   "metadata": {},
   "outputs": [],
   "source": [
    "a = 146\n",
    "b = a * 2\n",
    "print(f'Cell 146: {a} * 2 = {b}')"
   ]
  },
  {
   "cell_type": "code",
   "execution_count": null,
   "id": "f4d309ed-43ef-42a0-8d2b-6e9fd27b01de",
   "metadata": {},
   "outputs": [],
   "source": [
    "a = 147\n",
    "b = a * 2\n",
    "print(f'Cell 147: {a} * 2 = {b}')"
   ]
  },
  {
   "cell_type": "code",
   "execution_count": null,
   "id": "248e47c5-5a3e-4301-81ce-1ac87649c0d8",
   "metadata": {},
   "outputs": [],
   "source": [
    "a = 148\n",
    "b = a * 2\n",
    "print(f'Cell 148: {a} * 2 = {b}')"
   ]
  },
  {
   "cell_type": "code",
   "execution_count": null,
   "id": "5d4e75e0-0592-426e-98c1-480972d88292",
   "metadata": {},
   "outputs": [],
   "source": [
    "a = 149\n",
    "b = a * 2\n",
    "print(f'Cell 149: {a} * 2 = {b}')"
   ]
  },
  {
   "cell_type": "code",
   "execution_count": null,
   "id": "13e531d1-86c6-4672-bacf-58ec52bac0ee",
   "metadata": {},
   "outputs": [],
   "source": [
    "a = 150\n",
    "b = a * 2\n",
    "print(f'Cell 150: {a} * 2 = {b}')"
   ]
  },
  {
   "cell_type": "code",
   "execution_count": null,
   "id": "a20c13ac-13f9-48f8-b745-15fd2c60739f",
   "metadata": {},
   "outputs": [],
   "source": [
    "a = 151\n",
    "b = a * 2\n",
    "print(f'Cell 151: {a} * 2 = {b}')"
   ]
  },
  {
   "cell_type": "code",
   "execution_count": null,
   "id": "38dc3273-cc29-4d96-b882-13a71a3a8865",
   "metadata": {},
   "outputs": [],
   "source": [
    "a = 152\n",
    "b = a * 2\n",
    "print(f'Cell 152: {a} * 2 = {b}')"
   ]
  },
  {
   "cell_type": "code",
   "execution_count": null,
   "id": "06e23140-5760-4d0b-bd30-1756f64980d2",
   "metadata": {},
   "outputs": [],
   "source": [
    "a = 153\n",
    "b = a * 2\n",
    "print(f'Cell 153: {a} * 2 = {b}')"
   ]
  },
  {
   "cell_type": "code",
   "execution_count": null,
   "id": "17b08393-d06b-46a4-baa4-e79b9898a4b2",
   "metadata": {},
   "outputs": [],
   "source": [
    "a = 154\n",
    "b = a * 2\n",
    "print(f'Cell 154: {a} * 2 = {b}')"
   ]
  },
  {
   "cell_type": "code",
   "execution_count": null,
   "id": "89f2c9fb-3576-4df0-a589-827479f9300a",
   "metadata": {},
   "outputs": [],
   "source": [
    "a = 155\n",
    "b = a * 2\n",
    "print(f'Cell 155: {a} * 2 = {b}')"
   ]
  },
  {
   "cell_type": "code",
   "execution_count": null,
   "id": "cfcf73bb-f36b-47c7-b4b5-c87e58d06242",
   "metadata": {},
   "outputs": [],
   "source": [
    "a = 156\n",
    "b = a * 2\n",
    "print(f'Cell 156: {a} * 2 = {b}')"
   ]
  },
  {
   "cell_type": "code",
   "execution_count": null,
   "id": "3e8e4ac7-87a1-4707-83cb-265c141d59a6",
   "metadata": {},
   "outputs": [],
   "source": [
    "a = 157\n",
    "b = a * 2\n",
    "print(f'Cell 157: {a} * 2 = {b}')"
   ]
  },
  {
   "cell_type": "code",
   "execution_count": null,
   "id": "ddc2d027-ac76-4f35-89a1-a3784ed95b5a",
   "metadata": {},
   "outputs": [],
   "source": [
    "a = 158\n",
    "b = a * 2\n",
    "print(f'Cell 158: {a} * 2 = {b}')"
   ]
  },
  {
   "cell_type": "code",
   "execution_count": null,
   "id": "bb8beab5-9372-48a6-9326-43e3b18badc1",
   "metadata": {},
   "outputs": [],
   "source": [
    "a = 159\n",
    "b = a * 2\n",
    "print(f'Cell 159: {a} * 2 = {b}')"
   ]
  },
  {
   "cell_type": "code",
   "execution_count": null,
   "id": "8fa95182-218c-487d-884f-36b2e1336d2d",
   "metadata": {},
   "outputs": [],
   "source": [
    "a = 160\n",
    "b = a * 2\n",
    "print(f'Cell 160: {a} * 2 = {b}')"
   ]
  },
  {
   "cell_type": "code",
   "execution_count": null,
   "id": "3ce22de5-abb9-4d98-93a2-8683ad75fa3d",
   "metadata": {},
   "outputs": [],
   "source": [
    "a = 161\n",
    "b = a * 2\n",
    "print(f'Cell 161: {a} * 2 = {b}')"
   ]
  },
  {
   "cell_type": "code",
   "execution_count": null,
   "id": "2687aaa2-288d-4a27-8324-13c05a196b0e",
   "metadata": {},
   "outputs": [],
   "source": [
    "a = 162\n",
    "b = a * 2\n",
    "print(f'Cell 162: {a} * 2 = {b}')"
   ]
  },
  {
   "cell_type": "code",
   "execution_count": null,
   "id": "dffd9636-b006-4b8c-8d9b-0ab5e2e55cf3",
   "metadata": {},
   "outputs": [],
   "source": [
    "a = 163\n",
    "b = a * 2\n",
    "print(f'Cell 163: {a} * 2 = {b}')"
   ]
  },
  {
   "cell_type": "code",
   "execution_count": null,
   "id": "84ee20de-971e-4bce-8f0f-d3a59399daf9",
   "metadata": {},
   "outputs": [],
   "source": [
    "a = 164\n",
    "b = a * 2\n",
    "print(f'Cell 164: {a} * 2 = {b}')"
   ]
  },
  {
   "cell_type": "code",
   "execution_count": null,
   "id": "f637560d-3d6f-4e6a-9f1a-a9be6290ec19",
   "metadata": {},
   "outputs": [],
   "source": [
    "a = 165\n",
    "b = a * 2\n",
    "print(f'Cell 165: {a} * 2 = {b}')"
   ]
  },
  {
   "cell_type": "code",
   "execution_count": null,
   "id": "cc836c51-caa9-4c93-ab4c-da6ce836bfd4",
   "metadata": {},
   "outputs": [],
   "source": [
    "a = 166\n",
    "b = a * 2\n",
    "print(f'Cell 166: {a} * 2 = {b}')"
   ]
  },
  {
   "cell_type": "code",
   "execution_count": null,
   "id": "5420b175-eb2f-4e32-a5fa-3c0e3b8d8954",
   "metadata": {},
   "outputs": [],
   "source": [
    "a = 167\n",
    "b = a * 2\n",
    "print(f'Cell 167: {a} * 2 = {b}')"
   ]
  },
  {
   "cell_type": "code",
   "execution_count": null,
   "id": "481edcc0-256f-4061-92c3-9c7f76389f6f",
   "metadata": {},
   "outputs": [],
   "source": [
    "a = 168\n",
    "b = a * 2\n",
    "print(f'Cell 168: {a} * 2 = {b}')"
   ]
  },
  {
   "cell_type": "code",
   "execution_count": null,
   "id": "2220cb35-fa0d-4223-babd-783bbd4f8391",
   "metadata": {},
   "outputs": [],
   "source": [
    "a = 169\n",
    "b = a * 2\n",
    "print(f'Cell 169: {a} * 2 = {b}')"
   ]
  },
  {
   "cell_type": "code",
   "execution_count": null,
   "id": "a057a015-b5ef-4c72-98f6-d0006568d6d2",
   "metadata": {},
   "outputs": [],
   "source": [
    "a = 170\n",
    "b = a * 2\n",
    "print(f'Cell 170: {a} * 2 = {b}')"
   ]
  },
  {
   "cell_type": "code",
   "execution_count": null,
   "id": "b961c564-caa9-45bd-9d24-8c2dc4955f19",
   "metadata": {},
   "outputs": [],
   "source": [
    "a = 171\n",
    "b = a * 2\n",
    "print(f'Cell 171: {a} * 2 = {b}')"
   ]
  },
  {
   "cell_type": "code",
   "execution_count": null,
   "id": "66d5f7a7-f1d6-4b55-8f7e-e7f455c859c5",
   "metadata": {},
   "outputs": [],
   "source": [
    "a = 172\n",
    "b = a * 2\n",
    "print(f'Cell 172: {a} * 2 = {b}')"
   ]
  },
  {
   "cell_type": "code",
   "execution_count": null,
   "id": "8132459f-1c6e-4783-b1a0-163e6ff61c4a",
   "metadata": {},
   "outputs": [],
   "source": [
    "a = 173\n",
    "b = a * 2\n",
    "print(f'Cell 173: {a} * 2 = {b}')"
   ]
  },
  {
   "cell_type": "code",
   "execution_count": null,
   "id": "0cd3de00-6e8f-4f5d-80ff-f025978db37f",
   "metadata": {},
   "outputs": [],
   "source": [
    "a = 174\n",
    "b = a * 2\n",
    "print(f'Cell 174: {a} * 2 = {b}')"
   ]
  },
  {
   "cell_type": "code",
   "execution_count": null,
   "id": "d4518144-b075-43e6-b217-6154da1d96e7",
   "metadata": {},
   "outputs": [],
   "source": [
    "a = 175\n",
    "b = a * 2\n",
    "print(f'Cell 175: {a} * 2 = {b}')"
   ]
  },
  {
   "cell_type": "code",
   "execution_count": null,
   "id": "7f72445c-3ba9-4431-b8fb-6e8519e06b6e",
   "metadata": {},
   "outputs": [],
   "source": [
    "a = 176\n",
    "b = a * 2\n",
    "print(f'Cell 176: {a} * 2 = {b}')"
   ]
  },
  {
   "cell_type": "code",
   "execution_count": null,
   "id": "1cb40ad2-0c44-4d8f-918a-bb2a7697c1ad",
   "metadata": {},
   "outputs": [],
   "source": [
    "a = 177\n",
    "b = a * 2\n",
    "print(f'Cell 177: {a} * 2 = {b}')"
   ]
  },
  {
   "cell_type": "code",
   "execution_count": null,
   "id": "480e31cc-4de3-4368-ac82-e51a0584e0ab",
   "metadata": {},
   "outputs": [],
   "source": [
    "a = 178\n",
    "b = a * 2\n",
    "print(f'Cell 178: {a} * 2 = {b}')"
   ]
  },
  {
   "cell_type": "code",
   "execution_count": null,
   "id": "f40ad931-6477-47a4-b113-71681a5e406e",
   "metadata": {},
   "outputs": [],
   "source": [
    "a = 179\n",
    "b = a * 2\n",
    "print(f'Cell 179: {a} * 2 = {b}')"
   ]
  },
  {
   "cell_type": "code",
   "execution_count": null,
   "id": "8e2d53e6-3352-46bf-b613-5949168e8116",
   "metadata": {},
   "outputs": [],
   "source": [
    "a = 180\n",
    "b = a * 2\n",
    "print(f'Cell 180: {a} * 2 = {b}')"
   ]
  },
  {
   "cell_type": "code",
   "execution_count": null,
   "id": "64e29449-aca7-4d14-a587-37a267e0c7ba",
   "metadata": {},
   "outputs": [],
   "source": [
    "a = 181\n",
    "b = a * 2\n",
    "print(f'Cell 181: {a} * 2 = {b}')"
   ]
  },
  {
   "cell_type": "code",
   "execution_count": null,
   "id": "88b1cb3d-03a3-4553-8a81-b3f27d0a3bbe",
   "metadata": {},
   "outputs": [],
   "source": [
    "a = 182\n",
    "b = a * 2\n",
    "print(f'Cell 182: {a} * 2 = {b}')\n"
   ]
  },
  {
   "cell_type": "code",
   "execution_count": null,
   "id": "3a06631e-afe0-4eba-8786-b9f9159543fb",
   "metadata": {},
   "outputs": [],
   "source": [
    "a = 183\n",
    "b = a * 2\n",
    "print(f'Cell 183: {a} * 2 = {b}')"
   ]
  },
  {
   "cell_type": "code",
   "execution_count": null,
   "id": "59a1e33a-bac9-4576-b2bc-fab19b03138d",
   "metadata": {},
   "outputs": [],
   "source": [
    "a = 184\n",
    "b = a * 2\n",
    "print(f'Cell 184: {a} * 2 = {b}')"
   ]
  },
  {
   "cell_type": "code",
   "execution_count": null,
   "id": "f45a3357-583f-4e7e-b472-74023ea1ef87",
   "metadata": {},
   "outputs": [],
   "source": [
    "a = 185\n",
    "b = a * 2\n",
    "print(f'Cell 185: {a} * 2 = {b}')"
   ]
  },
  {
   "cell_type": "code",
   "execution_count": null,
   "id": "ece16621-f9e7-467b-865b-d26788c26aa1",
   "metadata": {},
   "outputs": [],
   "source": [
    "a = 186\n",
    "b = a * 2\n",
    "print(f'Cell 186: {a} * 2 = {b}')"
   ]
  },
  {
   "cell_type": "code",
   "execution_count": null,
   "id": "7ef92af3-2870-405b-a69e-0570c152c5d2",
   "metadata": {},
   "outputs": [],
   "source": [
    "a = 187\n",
    "b = a * 2\n",
    "print(f'Cell 187: {a} * 2 = {b}')"
   ]
  },
  {
   "cell_type": "code",
   "execution_count": null,
   "id": "b3f86b92-a9b9-48a0-9eef-8b800cfbc03a",
   "metadata": {},
   "outputs": [],
   "source": [
    "a = 188\n",
    "b = a * 2\n",
    "print(f'Cell 188: {a} * 2 = {b}')"
   ]
  },
  {
   "cell_type": "code",
   "execution_count": null,
   "id": "d57926d6-0e30-4279-913d-eb38be74c1c3",
   "metadata": {},
   "outputs": [],
   "source": [
    "a = 189\n",
    "b = a * 2\n",
    "print(f'Cell 189: {a} * 2 = {b}')"
   ]
  },
  {
   "cell_type": "code",
   "execution_count": null,
   "id": "ee7c35fe-94fe-46bb-9ec9-1c5cc0fb8537",
   "metadata": {},
   "outputs": [],
   "source": [
    "a = 190\n",
    "b = a * 2\n",
    "print(f'Cell 190: {a} * 2 = {b}')"
   ]
  },
  {
   "cell_type": "code",
   "execution_count": null,
   "id": "cf5337c0-b840-4e61-b65c-a8e02d3e2bdd",
   "metadata": {},
   "outputs": [],
   "source": [
    "a = 191\n",
    "b = a * 2\n",
    "print(f'Cell 191: {a} * 2 = {b}')"
   ]
  },
  {
   "cell_type": "code",
   "execution_count": null,
   "id": "124eaeaf-d5e4-4fd1-80ee-4bd54e7465fb",
   "metadata": {},
   "outputs": [],
   "source": [
    "a = 192\n",
    "b = a * 2\n",
    "print(f'Cell 192: {a} * 2 = {b}')"
   ]
  },
  {
   "cell_type": "code",
   "execution_count": null,
   "id": "ce8e9939-08c4-41eb-ad8e-9adaa3c2210b",
   "metadata": {},
   "outputs": [],
   "source": [
    "a = 193\n",
    "b = a * 2\n",
    "print(f'Cell 193: {a} * 2 = {b}')"
   ]
  },
  {
   "cell_type": "code",
   "execution_count": null,
   "id": "cccdbacd-8433-4d14-a1c0-b757c56c1f18",
   "metadata": {},
   "outputs": [],
   "source": [
    "a = 194\n",
    "b = a * 2\n",
    "print(f'Cell 194: {a} * 2 = {b}')"
   ]
  },
  {
   "cell_type": "code",
   "execution_count": null,
   "id": "2a679de6-2920-4b97-82a1-f259a7063556",
   "metadata": {},
   "outputs": [],
   "source": [
    "a = 195\n",
    "b = a * 2\n",
    "print(f'Cell 195: {a} * 2 = {b}')"
   ]
  },
  {
   "cell_type": "code",
   "execution_count": null,
   "id": "deb021f4-4b23-4913-be7b-885fc9659221",
   "metadata": {},
   "outputs": [],
   "source": [
    "a = 196\n",
    "b = a * 2\n",
    "print(f'Cell 196: {a} * 2 = {b}')"
   ]
  },
  {
   "cell_type": "code",
   "execution_count": null,
   "id": "cc20ce9d-62cd-4725-b2e9-afffc21e7b8d",
   "metadata": {},
   "outputs": [],
   "source": [
    "a = 197\n",
    "b = a * 2\n",
    "print(f'Cell 197: {a} * 2 = {b}')"
   ]
  },
  {
   "cell_type": "code",
   "execution_count": null,
   "id": "9ae0538b-e7ba-45f9-9ddd-6973f199b23f",
   "metadata": {},
   "outputs": [],
   "source": [
    "a = 198\n",
    "b = a * 2\n",
    "print(f'Cell 198: {a} * 2 = {b}')"
   ]
  },
  {
   "cell_type": "code",
   "execution_count": null,
   "id": "5747354e-5cbf-411a-be64-c4ab0556e617",
   "metadata": {},
   "outputs": [],
   "source": [
    "a = 199\n",
    "b = a * 2\n",
    "print(f'Cell 199: {a} * 2 = {b}')"
   ]
  },
  {
   "cell_type": "code",
   "execution_count": null,
   "id": "222d4c83-4a00-4153-a89e-b14606917cfa",
   "metadata": {},
   "outputs": [],
   "source": [
    "a = 200\n",
    "b = a * 2\n",
    "print(f'Cell 200: {a} * 2 = {b}')"
   ]
  },
  {
   "cell_type": "code",
   "execution_count": null,
   "id": "6970c8e9-5114-4883-a2a3-fa107ffc30f3",
   "metadata": {},
   "outputs": [],
   "source": [
    "a = 201\n",
    "b = a * 2\n",
    "print(f'Cell 201: {a} * 2 = {b}')"
   ]
  },
  {
   "cell_type": "code",
   "execution_count": null,
   "id": "714494ab-b3cc-4cba-bcb5-7a8b7fd04c77",
   "metadata": {},
   "outputs": [],
   "source": [
    "a = 202\n",
    "b = a * 2\n",
    "print(f'Cell 202: {a} * 2 = {b}')"
   ]
  },
  {
   "cell_type": "code",
   "execution_count": null,
   "id": "2c6623b7-3142-405c-864a-ea13b648376c",
   "metadata": {},
   "outputs": [],
   "source": [
    "a = 203\n",
    "b = a * 2\n",
    "print(f'Cell 203: {a} * 2 = {b}')"
   ]
  },
  {
   "cell_type": "code",
   "execution_count": null,
   "id": "64cdfdcf-b0a3-4261-88a3-7ea66cd4c5b8",
   "metadata": {},
   "outputs": [],
   "source": [
    "a = 204\n",
    "b = a * 2\n",
    "print(f'Cell 204: {a} * 2 = {b}')"
   ]
  },
  {
   "cell_type": "code",
   "execution_count": null,
   "id": "9e85ff4f-623e-40e1-914c-b8e79cf619c8",
   "metadata": {},
   "outputs": [],
   "source": [
    "a = 205\n",
    "b = a * 2\n",
    "print(f'Cell 205: {a} * 2 = {b}')"
   ]
  },
  {
   "cell_type": "code",
   "execution_count": null,
   "id": "0463eccc-757d-49ff-8332-f8cd6fc53ad0",
   "metadata": {},
   "outputs": [],
   "source": [
    "a = 206\n",
    "b = a * 2\n",
    "print(f'Cell 206: {a} * 2 = {b}')"
   ]
  },
  {
   "cell_type": "code",
   "execution_count": null,
   "id": "6bdcbac6-0c32-4d2b-acc2-c55c11046362",
   "metadata": {},
   "outputs": [],
   "source": [
    "a = 207\n",
    "b = a * 2\n",
    "print(f'Cell 207: {a} * 2 = {b}')"
   ]
  },
  {
   "cell_type": "code",
   "execution_count": null,
   "id": "5eca5e22-e6f9-4b0c-9820-10a7478b9002",
   "metadata": {},
   "outputs": [],
   "source": [
    "a = 208\n",
    "b = a * 2\n",
    "print(f'Cell 208: {a} * 2 = {b}')"
   ]
  },
  {
   "cell_type": "code",
   "execution_count": null,
   "id": "00511a51-c51e-47d4-9a1e-8c4ec902e377",
   "metadata": {},
   "outputs": [],
   "source": [
    "a = 209\n",
    "b = a * 2\n",
    "print(f'Cell 209: {a} * 2 = {b}')"
   ]
  },
  {
   "cell_type": "code",
   "execution_count": null,
   "id": "ebbddd6d-3feb-4468-9c37-1655f2c27e45",
   "metadata": {},
   "outputs": [],
   "source": [
    "a = 210\n",
    "b = a * 2\n",
    "print(f'Cell 210: {a} * 2 = {b}')"
   ]
  },
  {
   "cell_type": "code",
   "execution_count": null,
   "id": "0376fbbf-6b79-40c9-bd74-92ed77b83aff",
   "metadata": {},
   "outputs": [],
   "source": [
    "a = 211\n",
    "b = a * 2\n",
    "print(f'Cell 211: {a} * 2 = {b}')"
   ]
  },
  {
   "cell_type": "code",
   "execution_count": null,
   "id": "32bb2eb6-00ec-4b16-9745-ccc28b982a5d",
   "metadata": {},
   "outputs": [],
   "source": [
    "a = 212\n",
    "b = a * 2\n",
    "print(f'Cell 212: {a} * 2 = {b}')"
   ]
  },
  {
   "cell_type": "code",
   "execution_count": null,
   "id": "bf895bcf-ecfc-4f66-96fc-778e6b5287b1",
   "metadata": {},
   "outputs": [],
   "source": [
    "a = 213\n",
    "b = a * 2\n",
    "print(f'Cell 213: {a} * 2 = {b}')"
   ]
  },
  {
   "cell_type": "code",
   "execution_count": null,
   "id": "96b145a9-03f4-4915-a37c-f2b2728bfaa0",
   "metadata": {},
   "outputs": [],
   "source": [
    "a = 214\n",
    "b = a * 2\n",
    "print(f'Cell 214: {a} * 2 = {b}')"
   ]
  },
  {
   "cell_type": "code",
   "execution_count": null,
   "id": "64256828-42dc-49af-bdae-0b40651d15c8",
   "metadata": {},
   "outputs": [],
   "source": [
    "a = 215\n",
    "b = a * 2\n",
    "print(f'Cell 215: {a} * 2 = {b}')"
   ]
  },
  {
   "cell_type": "code",
   "execution_count": null,
   "id": "cc54f4b9-1048-4aef-a70c-983b3abf0dc8",
   "metadata": {},
   "outputs": [],
   "source": [
    "a = 216\n",
    "b = a * 2\n",
    "print(f'Cell 216: {a} * 2 = {b}')"
   ]
  },
  {
   "cell_type": "code",
   "execution_count": null,
   "id": "e7e95d11-7786-4600-bebd-66a69c7aa245",
   "metadata": {},
   "outputs": [],
   "source": [
    "a = 217\n",
    "b = a * 2\n",
    "print(f'Cell 217: {a} * 2 = {b}')"
   ]
  },
  {
   "cell_type": "code",
   "execution_count": null,
   "id": "fb3a156f-c8d3-4e6e-87fa-01a4f1dbf1ca",
   "metadata": {},
   "outputs": [],
   "source": [
    "a = 218\n",
    "b = a * 2\n",
    "print(f'Cell 218: {a} * 2 = {b}')"
   ]
  },
  {
   "cell_type": "code",
   "execution_count": null,
   "id": "9a933cbc-1ec7-4c3b-86d9-8455010349fd",
   "metadata": {},
   "outputs": [],
   "source": [
    "a = 219\n",
    "b = a * 2\n",
    "print(f'Cell 219: {a} * 2 = {b}')"
   ]
  },
  {
   "cell_type": "code",
   "execution_count": null,
   "id": "b54265f9-b955-4b43-be2c-d6f226f8a9c7",
   "metadata": {},
   "outputs": [],
   "source": [
    "a = 220\n",
    "b = a * 2\n",
    "print(f'Cell 220: {a} * 2 = {b}')"
   ]
  },
  {
   "cell_type": "code",
   "execution_count": null,
   "id": "d61e4983-162f-4985-969b-d57bc89f5997",
   "metadata": {},
   "outputs": [],
   "source": [
    "a = 221\n",
    "b = a * 2\n",
    "print(f'Cell 221: {a} * 2 = {b}')"
   ]
  },
  {
   "cell_type": "code",
   "execution_count": null,
   "id": "647c8516-9a0a-413a-b696-7a0589f1d951",
   "metadata": {},
   "outputs": [],
   "source": [
    "a = 222\n",
    "b = a * 2\n",
    "print(f'Cell 222: {a} * 2 = {b}')"
   ]
  },
  {
   "cell_type": "code",
   "execution_count": null,
   "id": "786e1ef2-b312-4ad9-886d-fdce06666e3b",
   "metadata": {},
   "outputs": [],
   "source": [
    "a = 223\n",
    "b = a * 2\n",
    "print(f'Cell 223: {a} * 2 = {b}')"
   ]
  },
  {
   "cell_type": "code",
   "execution_count": null,
   "id": "2a07813c-53e6-4963-b1cb-957e5d83fcb9",
   "metadata": {},
   "outputs": [],
   "source": [
    "a = 224\n",
    "b = a * 2\n",
    "print(f'Cell 224: {a} * 2 = {b}')"
   ]
  },
  {
   "cell_type": "code",
   "execution_count": null,
   "id": "26d41bca-b38e-45b6-9bfe-d1d6f77cdf50",
   "metadata": {},
   "outputs": [],
   "source": [
    "a = 225\n",
    "b = a * 2\n",
    "print(f'Cell 225: {a} * 2 = {b}')"
   ]
  },
  {
   "cell_type": "code",
   "execution_count": null,
   "id": "488e40cf-3cfe-4102-bdb8-ecabb05c7e84",
   "metadata": {},
   "outputs": [],
   "source": [
    "a = 226\n",
    "b = a * 2\n",
    "print(f'Cell 226: {a} * 2 = {b}')"
   ]
  },
  {
   "cell_type": "code",
   "execution_count": null,
   "id": "77b40cf2-706d-4f3a-bad8-2a647a2a6d5b",
   "metadata": {},
   "outputs": [],
   "source": [
    "a = 227\n",
    "b = a * 2\n",
    "print(f'Cell 227: {a} * 2 = {b}')"
   ]
  },
  {
   "cell_type": "code",
   "execution_count": null,
   "id": "012192e0-fc51-4477-98ab-7afe981284c8",
   "metadata": {},
   "outputs": [],
   "source": [
    "a = 228\n",
    "b = a * 2\n",
    "print(f'Cell 228: {a} * 2 = {b}')"
   ]
  },
  {
   "cell_type": "code",
   "execution_count": null,
   "id": "21ac2822-d974-43f0-9ff1-26c0fbe3ce7b",
   "metadata": {},
   "outputs": [],
   "source": [
    "a = 229\n",
    "b = a * 2\n",
    "print(f'Cell 229: {a} * 2 = {b}')"
   ]
  },
  {
   "cell_type": "code",
   "execution_count": null,
   "id": "50aa40e3-4492-4d62-a445-4d9ff48eb54e",
   "metadata": {},
   "outputs": [],
   "source": [
    "a = 230\n",
    "b = a * 2\n",
    "print(f'Cell 230: {a} * 2 = {b}')"
   ]
  },
  {
   "cell_type": "code",
   "execution_count": null,
   "id": "75305612-cf26-41dd-8e9f-18b64484f3b9",
   "metadata": {},
   "outputs": [],
   "source": [
    "a = 231\n",
    "b = a * 2\n",
    "print(f'Cell 231: {a} * 2 = {b}')"
   ]
  },
  {
   "cell_type": "code",
   "execution_count": null,
   "id": "73642531-9ae9-4afb-ba52-4417928a0683",
   "metadata": {},
   "outputs": [],
   "source": [
    "a = 232\n",
    "b = a * 2\n",
    "print(f'Cell 232: {a} * 2 = {b}')"
   ]
  },
  {
   "cell_type": "code",
   "execution_count": null,
   "id": "9313fdca-0cc6-48c5-b22e-e6cece83087f",
   "metadata": {},
   "outputs": [],
   "source": [
    "a = 233\n",
    "b = a * 2\n",
    "print(f'Cell 233: {a} * 2 = {b}')"
   ]
  },
  {
   "cell_type": "code",
   "execution_count": null,
   "id": "53aa1a59-9424-48be-b402-56079807c724",
   "metadata": {},
   "outputs": [],
   "source": [
    "a = 234\n",
    "b = a * 2\n",
    "print(f'Cell 234: {a} * 2 = {b}')"
   ]
  },
  {
   "cell_type": "code",
   "execution_count": null,
   "id": "e27d6bb2-55fc-4d82-8b9e-5954de4754b8",
   "metadata": {},
   "outputs": [],
   "source": [
    "a = 235\n",
    "b = a * 2\n",
    "print(f'Cell 235: {a} * 2 = {b}')"
   ]
  },
  {
   "cell_type": "code",
   "execution_count": null,
   "id": "fd1c0a8d-8698-448c-8f72-0ece0c7cad6d",
   "metadata": {},
   "outputs": [],
   "source": [
    "a = 236\n",
    "b = a * 2\n",
    "print(f'Cell 236: {a} * 2 = {b}')"
   ]
  },
  {
   "cell_type": "code",
   "execution_count": null,
   "id": "4db99669-79b5-4977-8a33-69c1c51a8415",
   "metadata": {},
   "outputs": [],
   "source": [
    "a = 237\n",
    "b = a * 2\n",
    "print(f'Cell 237: {a} * 2 = {b}')"
   ]
  },
  {
   "cell_type": "code",
   "execution_count": null,
   "id": "c89cf696-269a-448a-95e3-301597351cd5",
   "metadata": {},
   "outputs": [],
   "source": [
    "a = 238\n",
    "b = a * 2\n",
    "print(f'Cell 238: {a} * 2 = {b}')"
   ]
  },
  {
   "cell_type": "code",
   "execution_count": null,
   "id": "ac8f9e4b-3e0d-4489-93f5-38bcf16ae9a3",
   "metadata": {},
   "outputs": [],
   "source": [
    "a = 239\n",
    "b = a * 2\n",
    "print(f'Cell 239: {a} * 2 = {b}')"
   ]
  },
  {
   "cell_type": "code",
   "execution_count": null,
   "id": "ff96387d-a43c-430f-89da-70e49797610d",
   "metadata": {},
   "outputs": [],
   "source": [
    "a = 240\n",
    "b = a * 2\n",
    "print(f'Cell 240: {a} * 2 = {b}')"
   ]
  },
  {
   "cell_type": "code",
   "execution_count": null,
   "id": "02988a99-af84-4e10-9f8c-c24919aeb005",
   "metadata": {},
   "outputs": [],
   "source": [
    "a = 241\n",
    "b = a * 2\n",
    "print(f'Cell 241: {a} * 2 = {b}')"
   ]
  },
  {
   "cell_type": "code",
   "execution_count": null,
   "id": "ff978f89-855e-4fbf-92db-359e397aff8e",
   "metadata": {},
   "outputs": [],
   "source": [
    "a = 242\n",
    "b = a * 2\n",
    "print(f'Cell 242: {a} * 2 = {b}')"
   ]
  },
  {
   "cell_type": "code",
   "execution_count": null,
   "id": "d5a47196-c344-4c84-9e3f-baf2ed277e00",
   "metadata": {},
   "outputs": [],
   "source": [
    "a = 243\n",
    "b = a * 2\n",
    "print(f'Cell 243: {a} * 2 = {b}')"
   ]
  },
  {
   "cell_type": "code",
   "execution_count": null,
   "id": "0d945772-c496-4601-b9f0-70ee8228e71d",
   "metadata": {},
   "outputs": [],
   "source": [
    "a = 244\n",
    "b = a * 2\n",
    "print(f'Cell 244: {a} * 2 = {b}')"
   ]
  },
  {
   "cell_type": "code",
   "execution_count": null,
   "id": "148df8e1-4edb-492f-99c6-42c48224a769",
   "metadata": {},
   "outputs": [],
   "source": [
    "a = 245\n",
    "b = a * 2\n",
    "print(f'Cell 245: {a} * 2 = {b}')"
   ]
  },
  {
   "cell_type": "code",
   "execution_count": null,
   "id": "16882249-ec47-48b5-9653-49dd393dd87d",
   "metadata": {},
   "outputs": [],
   "source": [
    "a = 246\n",
    "b = a * 2\n",
    "print(f'Cell 246: {a} * 2 = {b}')"
   ]
  },
  {
   "cell_type": "code",
   "execution_count": null,
   "id": "5e984f5b-4c80-44ee-bae6-cc85b006b05c",
   "metadata": {},
   "outputs": [],
   "source": [
    "a = 247\n",
    "b = a * 2\n",
    "print(f'Cell 247: {a} * 2 = {b}')"
   ]
  },
  {
   "cell_type": "code",
   "execution_count": null,
   "id": "9b0da8f5-77d5-4d69-b4d8-d3ae1eb11ae0",
   "metadata": {},
   "outputs": [],
   "source": [
    "a = 248\n",
    "b = a * 2\n",
    "print(f'Cell 248: {a} * 2 = {b}')"
   ]
  },
  {
   "cell_type": "code",
   "execution_count": null,
   "id": "9a51b2da-a0f2-4dde-a5dd-969605a64337",
   "metadata": {},
   "outputs": [],
   "source": [
    "a = 249\n",
    "b = a * 2\n",
    "print(f'Cell 249: {a} * 2 = {b}')"
   ]
  },
  {
   "cell_type": "code",
   "execution_count": null,
   "id": "fe816103-e88a-456b-a1c2-7405d70c16e8",
   "metadata": {},
   "outputs": [],
   "source": [
    "a = 250\n",
    "b = a * 2\n",
    "print(f'Cell 250: {a} * 2 = {b}')"
   ]
  },
  {
   "cell_type": "code",
   "execution_count": null,
   "id": "f2654bd1-682b-4677-8f1d-da4e2058cb8f",
   "metadata": {},
   "outputs": [],
   "source": [
    "a = 251\n",
    "b = a * 2\n",
    "print(f'Cell 251: {a} * 2 = {b}')"
   ]
  },
  {
   "cell_type": "code",
   "execution_count": null,
   "id": "999fab00-1071-4062-bb18-b3a8fc0110a8",
   "metadata": {},
   "outputs": [],
   "source": [
    "a = 252\n",
    "b = a * 2\n",
    "print(f'Cell 252: {a} * 2 = {b}')\n"
   ]
  },
  {
   "cell_type": "code",
   "execution_count": null,
   "id": "8e1e7515-0cb5-4231-b02f-5baa815a2ff9",
   "metadata": {},
   "outputs": [],
   "source": [
    "a = 253\n",
    "b = a * 2\n",
    "print(f'Cell 253: {a} * 2 = {b}')"
   ]
  },
  {
   "cell_type": "code",
   "execution_count": null,
   "id": "18f57eef-7965-46e5-9030-b0dd7e474e36",
   "metadata": {},
   "outputs": [],
   "source": [
    "a = 254\n",
    "b = a * 2\n",
    "print(f'Cell 254: {a} * 2 = {b}')"
   ]
  },
  {
   "cell_type": "code",
   "execution_count": null,
   "id": "c4ec2356-93bf-44d4-9288-d3b2af8f5901",
   "metadata": {},
   "outputs": [],
   "source": [
    "a = 255\n",
    "b = a * 2\n",
    "print(f'Cell 255: {a} * 2 = {b}')"
   ]
  },
  {
   "cell_type": "code",
   "execution_count": null,
   "id": "1d11d0a1-1d5c-42f3-9033-7a36373f9b04",
   "metadata": {},
   "outputs": [],
   "source": [
    "a = 256\n",
    "b = a * 2\n",
    "print(f'Cell 256: {a} * 2 = {b}')"
   ]
  },
  {
   "cell_type": "code",
   "execution_count": null,
   "id": "4b9b5336-c801-4c3a-97ca-70999d0d755d",
   "metadata": {},
   "outputs": [],
   "source": [
    "a = 257\n",
    "b = a * 2\n",
    "print(f'Cell 257: {a} * 2 = {b}')"
   ]
  },
  {
   "cell_type": "code",
   "execution_count": null,
   "id": "a1bc2832-22b1-4b7c-b957-551c23afa67e",
   "metadata": {},
   "outputs": [],
   "source": [
    "a = 258\n",
    "b = a * 2\n",
    "print(f'Cell 258: {a} * 2 = {b}')"
   ]
  },
  {
   "cell_type": "code",
   "execution_count": null,
   "id": "89910105-350f-4546-859f-cb980bca0af9",
   "metadata": {},
   "outputs": [],
   "source": [
    "a = 259\n",
    "b = a * 2\n",
    "print(f'Cell 259: {a} * 2 = {b}')"
   ]
  },
  {
   "cell_type": "code",
   "execution_count": null,
   "id": "bf73974f-0199-4d17-8cdc-4d2e754c122a",
   "metadata": {},
   "outputs": [],
   "source": [
    "a = 260\n",
    "b = a * 2\n",
    "print(f'Cell 260: {a} * 2 = {b}')"
   ]
  },
  {
   "cell_type": "code",
   "execution_count": null,
   "id": "8f8adf56-2797-43ca-98f1-1d496519af91",
   "metadata": {},
   "outputs": [],
   "source": [
    "a = 261\n",
    "b = a * 2\n",
    "print(f'Cell 261: {a} * 2 = {b}')"
   ]
  },
  {
   "cell_type": "code",
   "execution_count": null,
   "id": "213888da-2a18-4b29-8af5-e1f805325361",
   "metadata": {},
   "outputs": [],
   "source": [
    "a = 262\n",
    "b = a * 2\n",
    "print(f'Cell 262: {a} * 2 = {b}')"
   ]
  },
  {
   "cell_type": "code",
   "execution_count": null,
   "id": "137216f0-46b7-4903-8980-1664ea0f0c4f",
   "metadata": {},
   "outputs": [],
   "source": [
    "a = 263\n",
    "b = a * 2\n",
    "print(f'Cell 263: {a} * 2 = {b}')"
   ]
  },
  {
   "cell_type": "code",
   "execution_count": null,
   "id": "e8c13276-2a81-4c06-a1e1-22a96ca6115a",
   "metadata": {},
   "outputs": [],
   "source": [
    "a = 264\n",
    "b = a * 2\n",
    "print(f'Cell 264: {a} * 2 = {b}')"
   ]
  },
  {
   "cell_type": "code",
   "execution_count": null,
   "id": "12849387-16a2-4875-b099-ae3a12d3951f",
   "metadata": {},
   "outputs": [],
   "source": [
    "a = 265\n",
    "b = a * 2\n",
    "print(f'Cell 265: {a} * 2 = {b}')"
   ]
  },
  {
   "cell_type": "code",
   "execution_count": null,
   "id": "a5ba6dfe-ccc4-4150-a926-9f970faa976e",
   "metadata": {},
   "outputs": [],
   "source": [
    "a = 266\n",
    "b = a * 2\n",
    "print(f'Cell 266: {a} * 2 = {b}')"
   ]
  },
  {
   "cell_type": "code",
   "execution_count": null,
   "id": "5da83a62-d0b9-4598-a238-ccc8bc9b0c35",
   "metadata": {},
   "outputs": [],
   "source": [
    "a = 267\n",
    "b = a * 2\n",
    "print(f'Cell 267: {a} * 2 = {b}')"
   ]
  },
  {
   "cell_type": "code",
   "execution_count": null,
   "id": "fb1923e8-b9f0-4f11-8dfa-e1eaeec1a9ec",
   "metadata": {},
   "outputs": [],
   "source": [
    "a = 268\n",
    "b = a * 2\n",
    "print(f'Cell 268: {a} * 2 = {b}')"
   ]
  },
  {
   "cell_type": "code",
   "execution_count": null,
   "id": "d5b9e438-b2fd-4907-92a0-d8d2a3c274af",
   "metadata": {},
   "outputs": [],
   "source": [
    "a = 269\n",
    "b = a * 2\n",
    "print(f'Cell 269: {a} * 2 = {b}')"
   ]
  },
  {
   "cell_type": "code",
   "execution_count": null,
   "id": "20ba0b5d-88e5-4b25-b7f1-7cd2df8cd1b2",
   "metadata": {},
   "outputs": [],
   "source": [
    "a = 270\n",
    "b = a * 2\n",
    "print(f'Cell 270: {a} * 2 = {b}')"
   ]
  },
  {
   "cell_type": "code",
   "execution_count": null,
   "id": "0a47cb43-41e1-475f-90ee-f63685f3100f",
   "metadata": {},
   "outputs": [],
   "source": [
    "a = 271\n",
    "b = a * 2\n",
    "print(f'Cell 271: {a} * 2 = {b}')"
   ]
  },
  {
   "cell_type": "code",
   "execution_count": null,
   "id": "889dee7f-3197-4d63-8a2c-cb2dccbadbf0",
   "metadata": {},
   "outputs": [],
   "source": [
    "a = 272\n",
    "b = a * 2\n",
    "print(f'Cell 272: {a} * 2 = {b}')"
   ]
  },
  {
   "cell_type": "code",
   "execution_count": null,
   "id": "0dd9116a-645a-4ab1-92a7-e9fd06cfbdbb",
   "metadata": {},
   "outputs": [],
   "source": [
    "a = 273\n",
    "b = a * 2\n",
    "print(f'Cell 273: {a} * 2 = {b}')"
   ]
  },
  {
   "cell_type": "code",
   "execution_count": null,
   "id": "d89c80f4-03e7-4d48-a833-b684184b1436",
   "metadata": {},
   "outputs": [],
   "source": [
    "a = 274\n",
    "b = a * 2\n",
    "print(f'Cell 274: {a} * 2 = {b}')"
   ]
  },
  {
   "cell_type": "code",
   "execution_count": null,
   "id": "649774ee-f5a0-42ff-8f5d-ee98f5062bbb",
   "metadata": {},
   "outputs": [],
   "source": [
    "a = 275\n",
    "b = a * 2\n",
    "print(f'Cell 275: {a} * 2 = {b}')"
   ]
  },
  {
   "cell_type": "code",
   "execution_count": null,
   "id": "3b422dae-3f55-4f32-b936-bd8b5811d3e6",
   "metadata": {},
   "outputs": [],
   "source": [
    "a = 276\n",
    "b = a * 2\n",
    "print(f'Cell 276: {a} * 2 = {b}')"
   ]
  },
  {
   "cell_type": "code",
   "execution_count": null,
   "id": "4875dd81-296a-4437-af83-b5002a92c638",
   "metadata": {},
   "outputs": [],
   "source": [
    "a = 277\n",
    "b = a * 2\n",
    "print(f'Cell 277: {a} * 2 = {b}')"
   ]
  },
  {
   "cell_type": "code",
   "execution_count": null,
   "id": "6b9572c1-a363-4f4b-8090-d5f60b856a46",
   "metadata": {},
   "outputs": [],
   "source": [
    "a = 278\n",
    "b = a * 2\n",
    "print(f'Cell 278: {a} * 2 = {b}')"
   ]
  },
  {
   "cell_type": "code",
   "execution_count": null,
   "id": "5a72cc73-1d47-4ad7-837f-389d0af63c81",
   "metadata": {},
   "outputs": [],
   "source": [
    "a = 279\n",
    "b = a * 2\n",
    "print(f'Cell 279: {a} * 2 = {b}')"
   ]
  },
  {
   "cell_type": "code",
   "execution_count": null,
   "id": "6627c93b-eb9f-400d-b936-a8e3d9045f9b",
   "metadata": {},
   "outputs": [],
   "source": [
    "a = 280\n",
    "b = a * 2\n",
    "print(f'Cell 280: {a} * 2 = {b}')"
   ]
  },
  {
   "cell_type": "code",
   "execution_count": null,
   "id": "24cf0714-73f3-45dd-94e1-da293d7b432d",
   "metadata": {},
   "outputs": [],
   "source": [
    "a = 281\n",
    "b = a * 2\n",
    "print(f'Cell 281: {a} * 2 = {b}')"
   ]
  },
  {
   "cell_type": "code",
   "execution_count": null,
   "id": "98627403-a3d0-444a-ba24-c88f6d9e10dc",
   "metadata": {},
   "outputs": [],
   "source": [
    "a = 282\n",
    "b = a * 2\n",
    "print(f'Cell 282: {a} * 2 = {b}')"
   ]
  },
  {
   "cell_type": "code",
   "execution_count": null,
   "id": "903d8e6f-5eeb-465f-80ee-4e4ca16cb12e",
   "metadata": {},
   "outputs": [],
   "source": [
    "a = 283\n",
    "b = a * 2\n",
    "print(f'Cell 283: {a} * 2 = {b}')"
   ]
  },
  {
   "cell_type": "code",
   "execution_count": null,
   "id": "0dfe60fa-ecee-485a-b444-eee50c3ef325",
   "metadata": {},
   "outputs": [],
   "source": [
    "a = 284\n",
    "b = a * 2\n",
    "print(f'Cell 284: {a} * 2 = {b}')"
   ]
  },
  {
   "cell_type": "code",
   "execution_count": null,
   "id": "189cc5ce-61e1-40e6-b025-523f8a6a6160",
   "metadata": {},
   "outputs": [],
   "source": [
    "a = 285\n",
    "b = a * 2\n",
    "print(f'Cell 285: {a} * 2 = {b}')"
   ]
  },
  {
   "cell_type": "code",
   "execution_count": null,
   "id": "fd7a2cf2-b3a5-45a4-93ee-ca7bcd97b86b",
   "metadata": {},
   "outputs": [],
   "source": [
    "a = 286\n",
    "b = a * 2\n",
    "print(f'Cell 286: {a} * 2 = {b}')"
   ]
  },
  {
   "cell_type": "code",
   "execution_count": null,
   "id": "403640d5-2b42-49a0-895c-629bb79b5a76",
   "metadata": {},
   "outputs": [],
   "source": [
    "a = 287\n",
    "b = a * 2\n",
    "print(f'Cell 287: {a} * 2 = {b}')"
   ]
  },
  {
   "cell_type": "code",
   "execution_count": null,
   "id": "d1835484-2120-4b23-af09-28b97d2a229f",
   "metadata": {},
   "outputs": [],
   "source": [
    "a = 288\n",
    "b = a * 2\n",
    "print(f'Cell 288: {a} * 2 = {b}')"
   ]
  },
  {
   "cell_type": "code",
   "execution_count": null,
   "id": "1b1e29c8-b871-44b9-a6fc-5655c8c2488d",
   "metadata": {},
   "outputs": [],
   "source": [
    "a = 289\n",
    "b = a * 2\n",
    "print(f'Cell 289: {a} * 2 = {b}')"
   ]
  },
  {
   "cell_type": "code",
   "execution_count": null,
   "id": "830cbfbc-2e41-4f8c-90f1-b22b3ba379bf",
   "metadata": {},
   "outputs": [],
   "source": [
    "a = 290\n",
    "b = a * 2\n",
    "print(f'Cell 290: {a} * 2 = {b}')"
   ]
  },
  {
   "cell_type": "code",
   "execution_count": null,
   "id": "9db2f1d1-7b34-4bc5-b153-59eeb6fbed3b",
   "metadata": {},
   "outputs": [],
   "source": [
    "a = 291\n",
    "b = a * 2\n",
    "print(f'Cell 291: {a} * 2 = {b}')"
   ]
  },
  {
   "cell_type": "code",
   "execution_count": null,
   "id": "589cd78d-b299-40c7-8a5e-67461bd6e268",
   "metadata": {},
   "outputs": [],
   "source": [
    "a = 292\n",
    "b = a * 2\n",
    "print(f'Cell 292: {a} * 2 = {b}')"
   ]
  },
  {
   "cell_type": "code",
   "execution_count": null,
   "id": "1ac4f8d1-6acf-49cb-8eb4-8d9def78a99d",
   "metadata": {},
   "outputs": [],
   "source": [
    "a = 293\n",
    "b = a * 2\n",
    "print(f'Cell 293: {a} * 2 = {b}')"
   ]
  },
  {
   "cell_type": "code",
   "execution_count": null,
   "id": "36bd9474-fbc9-4401-82f0-4bfe36fe4f4b",
   "metadata": {},
   "outputs": [],
   "source": [
    "a = 294\n",
    "b = a * 2\n",
    "print(f'Cell 294: {a} * 2 = {b}')"
   ]
  },
  {
   "cell_type": "code",
   "execution_count": null,
   "id": "641541fa-33be-47e7-a622-dd75d151f28d",
   "metadata": {},
   "outputs": [],
   "source": [
    "a = 295\n",
    "b = a * 2\n",
    "print(f'Cell 295: {a} * 2 = {b}')"
   ]
  },
  {
   "cell_type": "code",
   "execution_count": null,
   "id": "4efeb9d4-b440-483f-8064-b8137b9435a8",
   "metadata": {},
   "outputs": [],
   "source": [
    "a = 296\n",
    "b = a * 2\n",
    "print(f'Cell 296: {a} * 2 = {b}')"
   ]
  },
  {
   "cell_type": "code",
   "execution_count": null,
   "id": "57e83242-ff30-4ed3-92e7-6b1fe93ff281",
   "metadata": {},
   "outputs": [],
   "source": [
    "a = 297\n",
    "b = a * 2\n",
    "print(f'Cell 297: {a} * 2 = {b}')"
   ]
  },
  {
   "cell_type": "code",
   "execution_count": null,
   "id": "38e402b3-5d94-4cac-917d-424046fef638",
   "metadata": {},
   "outputs": [],
   "source": [
    "a = 298\n",
    "b = a * 2\n",
    "print(f'Cell 298: {a} * 2 = {b}')"
   ]
  },
  {
   "cell_type": "code",
   "execution_count": null,
   "id": "9e5f109f-1837-4ebd-9c60-6890ee25d98e",
   "metadata": {},
   "outputs": [],
   "source": [
    "a = 299\n",
    "b = a * 2\n",
    "print(f'Cell 299: {a} * 2 = {b}')"
   ]
  },
  {
   "cell_type": "code",
   "execution_count": null,
   "id": "971314a5-dde2-427a-af57-74c4d7268bb6",
   "metadata": {},
   "outputs": [],
   "source": [
    "a = 300\n",
    "b = a * 2\n",
    "print(f'Cell 300: {a} * 2 = {b}')"
   ]
  }
 ],
 "metadata": {
  "kernelspec": {
   "display_name": "Python 3 (ipykernel)",
   "language": "python",
   "name": "python3"
  },
  "language_info": {
   "codemirror_mode": {
    "name": "ipython",
    "version": 3
   },
   "file_extension": ".py",
   "mimetype": "text/x-python",
   "name": "python",
   "nbconvert_exporter": "python",
   "pygments_lexer": "ipython3",
   "version": "3.11.13"
  }
 },
 "nbformat": 4,
 "nbformat_minor": 5
}

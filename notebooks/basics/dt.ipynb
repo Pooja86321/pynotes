{
 "cells": [
  {
   "cell_type": "code",
   "execution_count": null,
   "id": "dac539a6-0973-4689-a471-982be5ed5890",
   "metadata": {},
   "outputs": [],
   "source": [
    "import numpy as np\n",
    "a = np.array([1, 2, 3])\n",
    "print(a)"
   ]
  },
  {
   "cell_type": "code",
   "execution_count": null,
   "id": "311b2665-b211-4c3b-87c8-a7ab3a9ead8e",
   "metadata": {},
   "outputs": [],
   "source": [
    "b = np.array([[1, 2], [3, 4]])\n",
    "print(b)"
   ]
  },
  {
   "cell_type": "code",
   "execution_count": null,
   "id": "6249860b-ebd3-4b0f-b89b-eb5129929840",
   "metadata": {},
   "outputs": [],
   "source": [
    "c = np.zeros((2, 3))\n",
    "print(c)"
   ]
  },
  {
   "cell_type": "code",
   "execution_count": null,
   "id": "59874a0a-492c-4de7-9dde-46e258de002f",
   "metadata": {},
   "outputs": [],
   "source": [
    "d = np.ones((3, 3))\n",
    "print(d)"
   ]
  },
  {
   "cell_type": "code",
   "execution_count": null,
   "id": "19f80355-d4ad-4489-8fd2-45bd277d3fde",
   "metadata": {},
   "outputs": [],
   "source": [
    "e = np.full((2, 2), 7)\n",
    "print(e)"
   ]
  },
  {
   "cell_type": "code",
   "execution_count": null,
   "id": "f8038021-9fd8-4d42-af40-20e7fb67e8a3",
   "metadata": {},
   "outputs": [],
   "source": [
    "f = np.eye(4)\n",
    "print(f)"
   ]
  },
  {
   "cell_type": "code",
   "execution_count": null,
   "id": "ee5a9cf4-b32b-4c76-a0e6-9540a365aa93",
   "metadata": {},
   "outputs": [],
   "source": [
    "g = np.random.rand(2, 3)\n",
    "print(g)"
   ]
  },
  {
   "cell_type": "code",
   "execution_count": null,
   "id": "87170a1f-103d-4bb7-88c9-5790bfe33afa",
   "metadata": {},
   "outputs": [],
   "source": [
    "h = np.random.randint(0, 10, (3, 3))\n",
    "print(h)"
   ]
  },
  {
   "cell_type": "code",
   "execution_count": null,
   "id": "675e1693-54dd-459e-8bfd-1f769285f8df",
   "metadata": {},
   "outputs": [],
   "source": [
    "i = np.arange(0, 10, 2)\n",
    "print(i)"
   ]
  },
  {
   "cell_type": "code",
   "execution_count": null,
   "id": "0df674e9-ba76-4e2b-8d07-f0eec73bdf07",
   "metadata": {},
   "outputs": [],
   "source": [
    "j = np.linspace(0, 1, 5)\n",
    "print(j)"
   ]
  },
  {
   "cell_type": "code",
   "execution_count": null,
   "id": "89f18494-c8b6-4f71-a541-90e002199993",
   "metadata": {},
   "outputs": [],
   "source": [
    "print(a.shape)"
   ]
  },
  {
   "cell_type": "code",
   "execution_count": null,
   "id": "4a65d06e-20b8-485b-9dc9-065993b62836",
   "metadata": {},
   "outputs": [],
   "source": [
    "print(b.ndim)"
   ]
  },
  {
   "cell_type": "code",
   "execution_count": null,
   "id": "972948d5-3d4a-489f-a27c-aa95821e58c3",
   "metadata": {},
   "outputs": [],
   "source": [
    "print(c.size)"
   ]
  },
  {
   "cell_type": "code",
   "execution_count": null,
   "id": "8c270bb4-ab7b-4981-8bf4-8f262f49d942",
   "metadata": {},
   "outputs": [],
   "source": [
    "print(d.dtype)"
   ]
  },
  {
   "cell_type": "code",
   "execution_count": null,
   "id": "1d93c8b7-5cb2-4d85-9083-df86ea24672e",
   "metadata": {},
   "outputs": [],
   "source": [
    "reshaped = np.reshape(h, (1, 9))\n",
    "print(reshaped)"
   ]
  },
  {
   "cell_type": "code",
   "execution_count": null,
   "id": "28bf6248-29ce-41ea-a00b-3d1bfbe65b3b",
   "metadata": {},
   "outputs": [],
   "source": [
    "print(h.flatten())"
   ]
  },
  {
   "cell_type": "code",
   "execution_count": null,
   "id": "5236cda7-6f78-4447-8101-8bcdaa750f85",
   "metadata": {},
   "outputs": [],
   "source": [
    "print(h.flatten())"
   ]
  },
  {
   "cell_type": "code",
   "execution_count": null,
   "id": "49713cf5-f475-4f60-81a2-ed2f333d403d",
   "metadata": {},
   "outputs": [],
   "source": [
    "float_arr = a.astype(float)\n",
    "print(float_arr)"
   ]
  },
  {
   "cell_type": "code",
   "execution_count": null,
   "id": "b3b70e01-9fbd-46b1-a789-441936347499",
   "metadata": {},
   "outputs": [],
   "source": [
    "print(a.nbytes)"
   ]
  },
  {
   "cell_type": "code",
   "execution_count": null,
   "id": "7d7faf79-ca20-4763-b629-881ab7dd3878",
   "metadata": {},
   "outputs": [],
   "source": [
    "view = h.view()\n",
    "print(view)"
   ]
  },
  {
   "cell_type": "code",
   "execution_count": null,
   "id": "9e8f0dbb-359a-4718-9cbc-dd78cb143c54",
   "metadata": {},
   "outputs": [],
   "source": [
    "print(a[1])"
   ]
  },
  {
   "cell_type": "code",
   "execution_count": null,
   "id": "41d81d22-1da5-4bf6-80a1-670aba23c085",
   "metadata": {},
   "outputs": [],
   "source": [
    "print(a[1:3])"
   ]
  },
  {
   "cell_type": "code",
   "execution_count": null,
   "id": "e33185dd-72ff-4224-94a6-516668956beb",
   "metadata": {},
   "outputs": [],
   "source": [
    "print(b[0:2, 1])"
   ]
  },
  {
   "cell_type": "code",
   "execution_count": null,
   "id": "242d8bc1-5806-496a-bc77-b9a043e8ad83",
   "metadata": {},
   "outputs": [],
   "source": [
    "print(a[a > 1])"
   ]
  },
  {
   "cell_type": "code",
   "execution_count": null,
   "id": "3e95425d-5670-4e1b-82fd-7be0939e4b88",
   "metadata": {},
   "outputs": [],
   "source": [
    "print(a[[0, 2]])"
   ]
  },
  {
   "cell_type": "code",
   "execution_count": null,
   "id": "254c47d9-ff88-4f3b-a4d7-655599f98f3e",
   "metadata": {},
   "outputs": [],
   "source": [
    "a[0] = 10\n",
    "print(a)"
   ]
  },
  {
   "cell_type": "code",
   "execution_count": null,
   "id": "3534f8e2-598f-498d-91a1-fe8013f0536b",
   "metadata": {},
   "outputs": [],
   "source": [
    "a[a > 5] = 0\n",
    "print(a)"
   ]
  },
  {
   "cell_type": "code",
   "execution_count": null,
   "id": "a7fa889e-7d85-4069-b909-9618955cb650",
   "metadata": {},
   "outputs": [],
   "source": [
    "print(b[1])"
   ]
  },
  {
   "cell_type": "code",
   "execution_count": null,
   "id": "a3aebe15-c17e-44e8-a714-04acdf4615bc",
   "metadata": {},
   "outputs": [],
   "source": [
    "print(b[:, 0])"
   ]
  },
  {
   "cell_type": "code",
   "execution_count": null,
   "id": "0e85429b-40e4-4690-a94c-e146e088f9bb",
   "metadata": {},
   "outputs": [],
   "source": [
    "print(np.arange(10)[::2])"
   ]
  },
  {
   "cell_type": "code",
   "execution_count": null,
   "id": "098976b9-5db4-461a-8636-7d96aec09ad0",
   "metadata": {},
   "outputs": [],
   "source": [
    "x = np.array([1, 2, 3])\n",
    "y = np.array([4, 5, 6])\n",
    "print(x + y)"
   ]
  },
  {
   "cell_type": "code",
   "execution_count": null,
   "id": "0a07a763-b3c0-4b4c-bf1c-1abaaca6fc43",
   "metadata": {},
   "outputs": [],
   "source": [
    "print(x - y)"
   ]
  },
  {
   "cell_type": "code",
   "execution_count": null,
   "id": "b315930e-4ee1-4c67-b428-11970584a0e1",
   "metadata": {},
   "outputs": [],
   "source": [
    "print(x * y)"
   ]
  },
  {
   "cell_type": "code",
   "execution_count": null,
   "id": "0fca4ce4-b974-4f91-8e16-708b35cbb9c8",
   "metadata": {},
   "outputs": [],
   "source": [
    "print(y / x)"
   ]
  },
  {
   "cell_type": "code",
   "execution_count": null,
   "id": "5e10453c-b96f-4df6-874a-4957594d8be4",
   "metadata": {},
   "outputs": [],
   "source": [
    "print(x ** 2)"
   ]
  },
  {
   "cell_type": "code",
   "execution_count": null,
   "id": "c01bcd40-25d7-4d23-a0f6-53b1f24af052",
   "metadata": {},
   "outputs": [],
   "source": [
    "print(np.dot(x, y))"
   ]
  },
  {
   "cell_type": "code",
   "execution_count": null,
   "id": "9c345360-f210-4adb-8c5a-f4f6ab271cd2",
   "metadata": {},
   "outputs": [],
   "source": [
    "mat1 = np.array([[1, 2], [3, 4]])\n",
    "mat2 = np.array([[2, 0], [1, 2]])\n",
    "print(np.matmul(mat1, mat2))"
   ]
  },
  {
   "cell_type": "code",
   "execution_count": null,
   "id": "2c6d58b7-acf9-40dc-9b68-0c43bd3bf66d",
   "metadata": {},
   "outputs": [],
   "source": [
    "print(np.sum(mat1))"
   ]
  },
  {
   "cell_type": "code",
   "execution_count": null,
   "id": "82940c81-334b-4e2d-bc6e-04f08046dd98",
   "metadata": {},
   "outputs": [],
   "source": [
    "print(np.mean(x))"
   ]
  },
  {
   "cell_type": "code",
   "execution_count": null,
   "id": "a418888f-2a1a-45f1-bffa-c02ce56bd71d",
   "metadata": {},
   "outputs": [],
   "source": [
    "print(np.std(x))"
   ]
  },
  {
   "cell_type": "code",
   "execution_count": null,
   "id": "9fc07b05-0556-4f32-9e0f-67ad376c4f04",
   "metadata": {},
   "outputs": [],
   "source": [
    "arr = np.array([1, 2, 3])"
   ]
  },
  {
   "cell_type": "code",
   "execution_count": null,
   "id": "fe683c76-fe0a-46ee-97a9-4ccb9fd203c3",
   "metadata": {},
   "outputs": [],
   "source": [
    "print(arr + 5)"
   ]
  },
  {
   "cell_type": "code",
   "execution_count": null,
   "id": "986573d9-940f-4f84-9427-674e35298bbc",
   "metadata": {},
   "outputs": [],
   "source": [
    "print(arr * 3)"
   ]
  },
  {
   "cell_type": "code",
   "execution_count": null,
   "id": "3c574adb-5089-472f-8d94-8675a3330923",
   "metadata": {},
   "outputs": [],
   "source": [
    "mat = np.array([[1, 2, 3], [4, 5, 6]])\n",
    "print(mat + arr)"
   ]
  },
  {
   "cell_type": "code",
   "execution_count": null,
   "id": "b4a5e855-54ca-4510-8fb8-8b912c955b81",
   "metadata": {},
   "outputs": [],
   "source": [
    "print(np.sqrt(arr))"
   ]
  },
  {
   "cell_type": "code",
   "execution_count": null,
   "id": "9145b15a-fd36-43aa-a376-68ecd44b5f92",
   "metadata": {},
   "outputs": [],
   "source": [
    "print(np.exp(arr))"
   ]
  },
  {
   "cell_type": "code",
   "execution_count": null,
   "id": "da983840-471d-4952-b83e-1a3b3cbe3757",
   "metadata": {},
   "outputs": [],
   "source": [
    "print(np.log(arr + 1))  "
   ]
  },
  {
   "cell_type": "code",
   "execution_count": null,
   "id": "b511c8c6-da07-4b52-8b4d-c5838a543c68",
   "metadata": {},
   "outputs": [],
   "source": [
    "print(np.sin(arr))"
   ]
  },
  {
   "cell_type": "code",
   "execution_count": null,
   "id": "b49d4d0c-91ee-4b40-9278-a9832e844ca8",
   "metadata": {},
   "outputs": [],
   "source": [
    "print(np.cos(arr))"
   ]
  },
  {
   "cell_type": "code",
   "execution_count": null,
   "id": "bce15634-5b4b-47ae-93f1-56874630e103",
   "metadata": {},
   "outputs": [],
   "source": [
    "print(np.abs([-1, -2, 3]))"
   ]
  },
  {
   "cell_type": "code",
   "execution_count": null,
   "id": "1fae4a85-5093-467f-80af-6cc25a903ff1",
   "metadata": {},
   "outputs": [],
   "source": [
    "print(np.round([1.4, 2.6, 3.1]))"
   ]
  },
  {
   "cell_type": "code",
   "execution_count": null,
   "id": "5c4692b3-a721-4ce0-b5c1-37df743ed70d",
   "metadata": {},
   "outputs": [],
   "source": [
    "print(np.min(mat))"
   ]
  },
  {
   "cell_type": "code",
   "execution_count": null,
   "id": "e43e1009-c6ef-45be-b26a-acbae1c18bf5",
   "metadata": {},
   "outputs": [],
   "source": [
    "print(np.max(mat))"
   ]
  },
  {
   "cell_type": "code",
   "execution_count": null,
   "id": "b9159085-81e4-44bd-a0fc-ac280af8cfc4",
   "metadata": {},
   "outputs": [],
   "source": [
    "print(np.argmin(mat))"
   ]
  },
  {
   "cell_type": "code",
   "execution_count": null,
   "id": "1b08c598-53ed-4108-a1b1-1a386d797e58",
   "metadata": {},
   "outputs": [],
   "source": [
    "print(np.argmax(mat))"
   ]
  },
  {
   "cell_type": "code",
   "execution_count": null,
   "id": "1e8646f1-bc1b-45c0-bf5f-be4b04f53e62",
   "metadata": {},
   "outputs": [],
   "source": [
    "print(np.sum(mat, axis=0))"
   ]
  },
  {
   "cell_type": "code",
   "execution_count": null,
   "id": "f9724629-2911-4b6e-9f23-124a9e584cac",
   "metadata": {},
   "outputs": [],
   "source": [
    "print(np.sum(mat, axis=0))"
   ]
  },
  {
   "cell_type": "code",
   "execution_count": null,
   "id": "060dd86c-c5e8-41f9-a7b8-a4d61c6f3dc9",
   "metadata": {},
   "outputs": [],
   "source": [
    "print(np.mean(mat, axis=1))"
   ]
  },
  {
   "cell_type": "code",
   "execution_count": null,
   "id": "e44bc3ea-3294-490a-9581-d3f1a84580a6",
   "metadata": {},
   "outputs": [],
   "source": [
    "print(np.cumsum(arr))"
   ]
  },
  {
   "cell_type": "code",
   "execution_count": null,
   "id": "e23b717a-338d-47ca-a01c-db3d563e18c4",
   "metadata": {},
   "outputs": [],
   "source": [
    "print(np.cumprod(arr))"
   ]
  },
  {
   "cell_type": "code",
   "execution_count": null,
   "id": "6fff59f6-bdf7-4636-bcba-799146f8efa9",
   "metadata": {},
   "outputs": [],
   "source": [
    "print(np.median(mat))"
   ]
  },
  {
   "cell_type": "code",
   "execution_count": null,
   "id": "9f974903-52b3-4ac6-8d45-5000c8edbe92",
   "metadata": {},
   "outputs": [],
   "source": [
    "square = np.array([[1, 2], [3, 4]])\n",
    "print(np.linalg.det(square))"
   ]
  },
  {
   "cell_type": "code",
   "execution_count": null,
   "id": "fb4d7970-4ed3-4e0d-8a96-3dfed7424cfd",
   "metadata": {},
   "outputs": [],
   "source": [
    "print(np.linalg.inv(square))"
   ]
  },
  {
   "cell_type": "code",
   "execution_count": null,
   "id": "89f31945-d5be-4755-af4e-e0f65e8188cf",
   "metadata": {},
   "outputs": [],
   "source": [
    "print(np.linalg.matrix_rank(square))"
   ]
  },
  {
   "cell_type": "code",
   "execution_count": null,
   "id": "9689c07a-125d-40dd-be97-614a0a67405c",
   "metadata": {},
   "outputs": [],
   "source": [
    "eig_vals, eig_vecs = np.linalg.eig(square)\n",
    "print(eig_vals)"
   ]
  },
  {
   "cell_type": "code",
   "execution_count": null,
   "id": "8236b058-5024-4465-8b09-4d617e279754",
   "metadata": {},
   "outputs": [],
   "source": [
    "print(eig_vecs)"
   ]
  },
  {
   "cell_type": "code",
   "execution_count": null,
   "id": "2d5ba5e6-3937-4de3-b10d-af6b7735adca",
   "metadata": {},
   "outputs": [],
   "source": [
    "A = np.array([[3, 1], [1, 2]])\n",
    "b = np.array([9, 8])\n",
    "x = np.linalg.solve(A, b)\n",
    "print(x)"
   ]
  },
  {
   "cell_type": "code",
   "execution_count": null,
   "id": "2d73db60-237b-466d-9be5-609fbb8b05c4",
   "metadata": {},
   "outputs": [],
   "source": [
    "v = np.array([3, 4])\n",
    "print(np.linalg.norm(v))"
   ]
  },
  {
   "cell_type": "code",
   "execution_count": null,
   "id": "8467cc3b-60bd-498e-9a3c-dd6a825121e1",
   "metadata": {},
   "outputs": [],
   "source": [
    "print(np.trace(square))"
   ]
  },
  {
   "cell_type": "code",
   "execution_count": null,
   "id": "431b6da3-8528-42bb-b557-86feb7b44c93",
   "metadata": {},
   "outputs": [],
   "source": [
    "q, r = np.linalg.qr(square)\n",
    "print(q)"
   ]
  },
  {
   "cell_type": "code",
   "execution_count": null,
   "id": "a71c5cdf-48d2-4c72-b174-e0fce9916de6",
   "metadata": {},
   "outputs": [],
   "source": [
    "u, s, vh = np.linalg.svd(square)\n",
    "print(s)"
   ]
  },
  {
   "cell_type": "code",
   "execution_count": null,
   "id": "62e021bc-9d51-4281-9051-4f14d6698bca",
   "metadata": {},
   "outputs": [],
   "source": [
    "print(np.any(arr > 2))"
   ]
  },
  {
   "cell_type": "code",
   "execution_count": null,
   "id": "ece4c8ce-a85e-457b-adaf-29f9739287ff",
   "metadata": {},
   "outputs": [],
   "source": [
    "print(np.all(arr > 0))"
   ]
  },
  {
   "cell_type": "code",
   "execution_count": null,
   "id": "9d04fe70-973e-4eb7-af86-7685fa75b224",
   "metadata": {},
   "outputs": [],
   "source": [
    "x = np.array([True, False, True])\n",
    "y = np.array([False, False, True])\n",
    "print(np.logical_and(x, y))"
   ]
  },
  {
   "cell_type": "code",
   "execution_count": null,
   "id": "6752dbc8-5ff1-4e79-bd1e-4d5f36f07e52",
   "metadata": {},
   "outputs": [],
   "source": [
    "print(np.logical_or(x, y))"
   ]
  },
  {
   "cell_type": "code",
   "execution_count": null,
   "id": "1a195e16-f1f2-429b-aeb8-fab24a9bdeb8",
   "metadata": {},
   "outputs": [],
   "source": [
    "print(np.logical_not(x))"
   ]
  },
  {
   "cell_type": "code",
   "execution_count": null,
   "id": "1c16c5d8-8ac7-4ce8-9013-ce500de349eb",
   "metadata": {},
   "outputs": [],
   "source": [
    "z = np.array([1, 2, 3])\n",
    "print(np.where(z > 1, 'yes', 'no'))"
   ]
  },
  {
   "cell_type": "code",
   "execution_count": null,
   "id": "3ccbf41f-6844-42d0-8876-1dfc1a2a0f49",
   "metadata": {},
   "outputs": [],
   "source": [
    "print(np.count_nonzero([0, 1, 2, 0]))"
   ]
  },
  {
   "cell_type": "code",
   "execution_count": null,
   "id": "426ec865-d43e-4dfb-8c15-d5b658c9564d",
   "metadata": {},
   "outputs": [],
   "source": [
    "a = np.array([1, 1, 2, 3, 3])\n",
    "print(np.unique(a))"
   ]
  },
  {
   "cell_type": "code",
   "execution_count": null,
   "id": "753c539b-64b0-40c3-8f91-6b6fd1751bde",
   "metadata": {},
   "outputs": [],
   "source": [
    "print(np.array_equal([1, 2], [1, 2]))"
   ]
  },
  {
   "cell_type": "code",
   "execution_count": null,
   "id": "cdb04b25-ba64-4f3b-8a24-9550a593993d",
   "metadata": {},
   "outputs": [],
   "source": [
    "print(np.greater([1, 3, 5], [2, 3, 1]))"
   ]
  },
  {
   "cell_type": "code",
   "execution_count": null,
   "id": "47ed862d-a810-465c-bbf7-1669dd1617ce",
   "metadata": {},
   "outputs": [],
   "source": [
    "a = np.array([3, 1, 2])\n",
    "print(np.sort(a))"
   ]
  },
  {
   "cell_type": "code",
   "execution_count": null,
   "id": "551ae0f9-07a8-4a86-bae3-290ca32bd985",
   "metadata": {},
   "outputs": [],
   "source": [
    "b = np.array([[3, 1], [2, 4]])\n",
    "print(np.sort(b, axis=1))"
   ]
  },
  {
   "cell_type": "code",
   "execution_count": null,
   "id": "af36cb1e-00e3-4845-84ad-45a78bdcd474",
   "metadata": {},
   "outputs": [],
   "source": [
    "print(np.argsort(a))"
   ]
  },
  {
   "cell_type": "code",
   "execution_count": null,
   "id": "81425370-4f4a-418f-a58e-d491e49456d3",
   "metadata": {},
   "outputs": [],
   "source": [
    "c = np.array([1, 3, 5])\n",
    "print(np.searchsorted(c, 4))"
   ]
  },
  {
   "cell_type": "code",
   "execution_count": null,
   "id": "184f0a8c-ee84-4109-aa5a-4969c4596d83",
   "metadata": {},
   "outputs": [],
   "source": [
    "print(np.partition(a, 1))"
   ]
  },
  {
   "cell_type": "code",
   "execution_count": null,
   "id": "4276ba26-accc-420c-a0fb-33f50e806997",
   "metadata": {},
   "outputs": [],
   "source": [
    "print(np.argmax(b, axis=0))"
   ]
  },
  {
   "cell_type": "code",
   "execution_count": null,
   "id": "56ce561f-3edc-420d-a28e-35492a6d55f0",
   "metadata": {},
   "outputs": [],
   "source": [
    "print(np.argmin(b, axis=1))"
   ]
  },
  {
   "cell_type": "code",
   "execution_count": null,
   "id": "bf5c80ae-5dc8-4431-b8cf-2922be4369a3",
   "metadata": {},
   "outputs": [],
   "source": [
    "arr = np.array([1, 5, 10])\n",
    "print(np.clip(arr, 2, 8))"
   ]
  },
  {
   "cell_type": "code",
   "execution_count": null,
   "id": "ef9edc4d-6afb-497c-a1d3-567851cc8c24",
   "metadata": {},
   "outputs": [],
   "source": [
    "print(np.argsort([4, 1, 3]))"
   ]
  },
  {
   "cell_type": "code",
   "execution_count": null,
   "id": "dac8af61-2c19-4a01-81e9-99aa48b605a7",
   "metadata": {},
   "outputs": [],
   "source": [
    "x = np.array([1, 2, 3, 4])\n",
    "print(np.where(x > 2))"
   ]
  },
  {
   "cell_type": "code",
   "execution_count": null,
   "id": "aaff9f20-9297-4c58-9241-563356f6e026",
   "metadata": {},
   "outputs": [],
   "source": [
    "np.save('array.npy', x)\n",
    "loaded = np.load('array.npy')\n",
    "print(loaded)"
   ]
  },
  {
   "cell_type": "code",
   "execution_count": null,
   "id": "adc13134-7fac-4950-a300-5bbd9de82bda",
   "metadata": {},
   "outputs": [],
   "source": [
    "np.savez('arrays.npz', a=x, b=arr)\n",
    "data = np.load('arrays.npz')\n",
    "print(data['a'], data['b'])"
   ]
  },
  {
   "cell_type": "code",
   "execution_count": null,
   "id": "e8cb1272-b251-4cfc-b8d7-41f3ef67bf3f",
   "metadata": {},
   "outputs": [],
   "source": [
    "np.savetxt('array.txt', x)\n",
    "x2 = np.loadtxt('array.txt')\n",
    "print(x2)"
   ]
  },
  {
   "cell_type": "code",
   "execution_count": null,
   "id": "24efb54a-1421-4879-98e8-924e0dc5f364",
   "metadata": {},
   "outputs": [],
   "source": [
    "np.savetxt('custom.txt', x, delimiter=',')\n",
    "x3 = np.loadtxt('custom.txt', delimiter=',')\n",
    "print(x3)"
   ]
  },
  {
   "cell_type": "code",
   "execution_count": null,
   "id": "d3be3d86-557e-499e-a742-bb3e0770b278",
   "metadata": {},
   "outputs": [],
   "source": [
    "np.savetxt('ints.csv', np.array([[1,2],[3,4]]), fmt='%d', delimiter=',')\n",
    "ints = np.loadtxt('ints.csv', delimiter=',')\n",
    "print(ints)"
   ]
  },
  {
   "cell_type": "code",
   "execution_count": null,
   "id": "843becc4-be85-465a-b94c-7d7090f2ffa9",
   "metadata": {},
   "outputs": [],
   "source": [
    "arr = np.arange(6)\n",
    "print(arr.reshape(2, 3))"
   ]
  },
  {
   "cell_type": "code",
   "execution_count": null,
   "id": "fd885de0-362a-44d2-ab7f-46918ce64408",
   "metadata": {},
   "outputs": [],
   "source": [
    "print(np.expand_dims(arr, axis=0))"
   ]
  },
  {
   "cell_type": "code",
   "execution_count": null,
   "id": "385c822b-7ca0-4f03-80f9-a2f4f0daf4f4",
   "metadata": {},
   "outputs": [],
   "source": [
    "a = np.array([[[1, 2, 3]]])\n",
    "print(np.squeeze(a))"
   ]
  },
  {
   "cell_type": "code",
   "execution_count": null,
   "id": "eec5a389-05de-4e0b-8d3e-05433de2e113",
   "metadata": {},
   "outputs": [],
   "source": [
    "a = np.array([1, 2])\n",
    "b = np.array([3, 4])\n",
    "print(np.vstack((a, b)))"
   ]
  },
  {
   "cell_type": "code",
   "execution_count": null,
   "id": "3c4dd16b-ed92-476d-883a-0c91ade62bf5",
   "metadata": {},
   "outputs": [],
   "source": [
    "print(np.hstack((a, b)))"
   ]
  },
  {
   "cell_type": "code",
   "execution_count": null,
   "id": "9997723b-0f0d-411a-92cf-4ba634918f39",
   "metadata": {},
   "outputs": [],
   "source": [
    "print(np.dstack((a, b)))"
   ]
  },
  {
   "cell_type": "code",
   "execution_count": null,
   "id": "1e99e338-5688-454f-946d-1338565ef854",
   "metadata": {},
   "outputs": [],
   "source": [
    "print(np.concatenate(([a], [b]), axis=0))"
   ]
  },
  {
   "cell_type": "code",
   "execution_count": null,
   "id": "889eb89d-cc3c-458e-8029-59db041741c9",
   "metadata": {},
   "outputs": [],
   "source": [
    "c = np.array([1, 2, 3, 4])\n",
    "print(np.split(c, 2))"
   ]
  },
  {
   "cell_type": "code",
   "execution_count": null,
   "id": "12313dc7-8136-4c3e-b91f-9f7a67964498",
   "metadata": {},
   "outputs": [],
   "source": [
    "d = np.array([[1, 2], [3, 4]])\n",
    "print(np.vsplit(d, 2))"
   ]
  },
  {
   "cell_type": "code",
   "execution_count": null,
   "id": "a05b7858-353d-4d48-8e7f-a0dc117a5418",
   "metadata": {},
   "outputs": [],
   "source": [
    "print(np.hsplit(d, 2))"
   ]
  },
  {
   "cell_type": "code",
   "execution_count": null,
   "id": "e777c7cc-6cc8-47f8-aa91-35412eed2705",
   "metadata": {},
   "outputs": [],
   "source": [
    "print(np.random.randint(0, 100, 5))"
   ]
  },
  {
   "cell_type": "code",
   "execution_count": null,
   "id": "1a2ec46a-e9bf-44ea-a668-5e634cdb1fe9",
   "metadata": {},
   "outputs": [],
   "source": [
    "print(np.random.random(5))"
   ]
  },
  {
   "cell_type": "code",
   "execution_count": null,
   "id": "2cc27b20-db41-4190-83b1-0fc5226116d2",
   "metadata": {},
   "outputs": [],
   "source": [
    "print(np.random.normal(0, 1, 5))"
   ]
  },
  {
   "cell_type": "code",
   "execution_count": null,
   "id": "f15f5cad-204d-4cec-bea9-d0838705daf2",
   "metadata": {},
   "outputs": [],
   "source": [
    "print(np.random.choice([10, 20, 30]))"
   ]
  },
  {
   "cell_type": "code",
   "execution_count": null,
   "id": "7d6240c2-1f69-41ae-896f-fe6d5865fe42",
   "metadata": {},
   "outputs": [],
   "source": [
    "arr = np.array([1, 2, 3, 4])\n",
    "np.random.shuffle(arr)\n",
    "print(arr)"
   ]
  },
  {
   "cell_type": "code",
   "execution_count": null,
   "id": "0d2d807d-c441-4fca-b97d-8d7a3722ab5e",
   "metadata": {},
   "outputs": [],
   "source": [
    "print(np.random.permutation([1, 2, 3, 4]))"
   ]
  },
  {
   "cell_type": "code",
   "execution_count": null,
   "id": "6597ce33-3f88-4d35-8d19-3f2885da6faf",
   "metadata": {},
   "outputs": [],
   "source": [
    "np.random.seed(42)\n",
    "print(np.random.rand())"
   ]
  },
  {
   "cell_type": "code",
   "execution_count": null,
   "id": "a0396664-b86e-4797-9b1f-de5b7d495a89",
   "metadata": {},
   "outputs": [],
   "source": [
    "print(np.random.rand(2, 3))"
   ]
  },
  {
   "cell_type": "code",
   "execution_count": null,
   "id": "3adb1f2a-a493-4ace-8d00-fc6f84ff6ee8",
   "metadata": {},
   "outputs": [],
   "source": [
    "print(np.random.uniform(low=0, high=10, size=5))"
   ]
  },
  {
   "cell_type": "code",
   "execution_count": null,
   "id": "e047e3b3-dffa-4514-82a0-05b4ac98241e",
   "metadata": {},
   "outputs": [],
   "source": [
    "print(np.random.binomial(n=10, p=0.5, size=5))"
   ]
  },
  {
   "cell_type": "code",
   "execution_count": null,
   "id": "a67c7498-f15f-49ed-8956-1c26affd0f58",
   "metadata": {},
   "outputs": [],
   "source": [
    "a = np.array([1.8, 2.5, 3.1])\n",
    "print(np.floor(a))"
   ]
  },
  {
   "cell_type": "code",
   "execution_count": null,
   "id": "31e701ad-ce4c-460e-b801-caea31d778a9",
   "metadata": {},
   "outputs": [],
   "source": [
    "print(np.ceil(a))"
   ]
  },
  {
   "cell_type": "code",
   "execution_count": null,
   "id": "29ae4009-b9d6-4f1b-b5f0-452eb5e5c61a",
   "metadata": {},
   "outputs": [],
   "source": [
    "print(np.trunc(a))"
   ]
  },
  {
   "cell_type": "code",
   "execution_count": null,
   "id": "a27509ff-d977-4494-bd59-3b25e1eb4011",
   "metadata": {},
   "outputs": [],
   "source": [
    "x = np.array([10, 20, 30])\n",
    "y = np.array([3, 7, 9])\n",
    "print(np.mod(x, y))"
   ]
  },
  {
   "cell_type": "code",
   "execution_count": null,
   "id": "b81f41cf-1823-4f22-a7ab-77237ab47660",
   "metadata": {},
   "outputs": [],
   "source": [
    "print(np.remainder(x, y))"
   ]
  },
  {
   "cell_type": "code",
   "execution_count": null,
   "id": "678da1b4-ba66-48d8-9fc5-ee78d717d816",
   "metadata": {},
   "outputs": [],
   "source": [
    "print(np.gcd(12, 18))"
   ]
  },
  {
   "cell_type": "code",
   "execution_count": null,
   "id": "069b4222-cc8d-4d92-8313-a2c9f5f3b211",
   "metadata": {},
   "outputs": [],
   "source": [
    "print(np.lcm(6, 8))"
   ]
  },
  {
   "cell_type": "code",
   "execution_count": null,
   "id": "4ff4e87b-d486-43d7-b284-badc016168da",
   "metadata": {},
   "outputs": [],
   "source": [
    "print(np.power(2, 3))"
   ]
  },
  {
   "cell_type": "code",
   "execution_count": null,
   "id": "8a6a9431-8854-4511-894f-1759345bdd40",
   "metadata": {},
   "outputs": [],
   "source": [
    "print(np.sign([-10, 0, 10]))"
   ]
  },
  {
   "cell_type": "code",
   "execution_count": null,
   "id": "c143f01d-2ccf-4f3a-a2e7-3c6462765fa8",
   "metadata": {},
   "outputs": [],
   "source": [
    "print(np.reciprocal([1, 2, 0.5]))"
   ]
  },
  {
   "cell_type": "code",
   "execution_count": null,
   "id": "a15809da-b7ee-4327-994a-18e26ce72649",
   "metadata": {},
   "outputs": [],
   "source": [
    "arr = np.array([1, np.nan, 3])\n",
    "print(np.isnan(arr))"
   ]
  },
  {
   "cell_type": "code",
   "execution_count": null,
   "id": "c3188a68-ed0f-4552-b32c-38152c79f67a",
   "metadata": {},
   "outputs": [],
   "source": [
    "arr2 = np.array([1, np.inf, -np.inf])\n",
    "print(np.isinf(arr2))"
   ]
  },
  {
   "cell_type": "code",
   "execution_count": null,
   "id": "bad7c097-6f6c-4913-a71f-47639ee772ca",
   "metadata": {},
   "outputs": [],
   "source": [
    "arr[np.isnan(arr)] = 0\n",
    "print(arr)"
   ]
  },
  {
   "cell_type": "code",
   "execution_count": null,
   "id": "04c59d2e-de06-4343-b797-e0326ea7aaf0",
   "metadata": {},
   "outputs": [],
   "source": [
    "arr2[np.isinf(arr2)] = 9999\n",
    "print(arr2)"
   ]
  },
  {
   "cell_type": "code",
   "execution_count": null,
   "id": "f7916420-7209-4c91-909e-66fc9975955b",
   "metadata": {},
   "outputs": [],
   "source": [
    "arr3 = np.array([1, 2, np.nan])\n",
    "print(np.nansum(arr3))"
   ]
  },
  {
   "cell_type": "code",
   "execution_count": null,
   "id": "69552c02-fb5c-41c0-92be-86e92445d639",
   "metadata": {},
   "outputs": [],
   "source": [
    "print(np.nanmean(arr3))"
   ]
  },
  {
   "cell_type": "code",
   "execution_count": null,
   "id": "b81dd1c0-4a77-49a3-9625-88983ba2ebfb",
   "metadata": {},
   "outputs": [],
   "source": [
    "print(np.nanmax(arr3))"
   ]
  },
  {
   "cell_type": "code",
   "execution_count": null,
   "id": "b0036ea8-9a57-4d81-b15b-6ef1a4c059ba",
   "metadata": {},
   "outputs": [],
   "source": [
    "print(np.nanmin(arr3))"
   ]
  },
  {
   "cell_type": "code",
   "execution_count": null,
   "id": "727ef394-37bb-4c0b-ba65-83cbfa9137e4",
   "metadata": {},
   "outputs": [],
   "source": [
    "m = np.array([[1, np.nan], [3, 4]])\n",
    "col_means = np.nanmean(m, axis=0)\n",
    "inds = np.where(np.isnan(m))\n",
    "m[inds] = np.take(col_means, inds[1])\n",
    "print(m)"
   ]
  },
  {
   "cell_type": "code",
   "execution_count": null,
   "id": "0dfb8c3a-f63b-4ff4-866f-ecbebb0bda49",
   "metadata": {},
   "outputs": [],
   "source": [
    "arr = np.array([1, np.nan, 2, np.nan])\n",
    "print(np.isnan(arr).sum())"
   ]
  },
  {
   "cell_type": "code",
   "execution_count": null,
   "id": "90b9b71d-7f1a-4bf0-8ef9-0383cee6ff7f",
   "metadata": {},
   "outputs": [],
   "source": [
    "print(np.bitwise_and(5, 3)) "
   ]
  },
  {
   "cell_type": "code",
   "execution_count": null,
   "id": "ef434df9-9e2e-4b4d-a856-b08e623fb7d6",
   "metadata": {},
   "outputs": [],
   "source": [
    "print(np.bitwise_or(5, 3))"
   ]
  },
  {
   "cell_type": "code",
   "execution_count": null,
   "id": "93e6a6a6-293f-4665-8e87-abf96e910408",
   "metadata": {},
   "outputs": [],
   "source": [
    "print(np.bitwise_xor(5, 3))"
   ]
  },
  {
   "cell_type": "code",
   "execution_count": null,
   "id": "10baefe8-b61a-4215-b399-d73ff1a37907",
   "metadata": {},
   "outputs": [],
   "source": [
    "print(np.left_shift(1, 2))"
   ]
  },
  {
   "cell_type": "code",
   "execution_count": null,
   "id": "e41453fa-092e-4e25-bb03-f9d7356c3729",
   "metadata": {},
   "outputs": [],
   "source": [
    "print(np.right_shift(4, 1))"
   ]
  },
  {
   "cell_type": "code",
   "execution_count": null,
   "id": "7439e845-5f84-4a6e-9e44-4de0a0a9ea59",
   "metadata": {},
   "outputs": [],
   "source": [
    "print(np.binary_repr(10, width=8))"
   ]
  },
  {
   "cell_type": "code",
   "execution_count": null,
   "id": "50988a8c-1eda-43e1-aaa8-a33661ce6d0c",
   "metadata": {},
   "outputs": [],
   "source": [
    "x = np.array([True, False])\n",
    "y = np.array([False, True])\n",
    "print(np.logical_xor(x, y))"
   ]
  },
  {
   "cell_type": "code",
   "execution_count": null,
   "id": "4e8fde52-c523-4917-b55d-19b474f4d0d4",
   "metadata": {},
   "outputs": [],
   "source": [
    "bools = np.array([True, False])\n",
    "print(bools.astype(int))"
   ]
  },
  {
   "cell_type": "code",
   "execution_count": null,
   "id": "f0c28157-aa58-42c2-af16-f51efe1066cb",
   "metadata": {},
   "outputs": [],
   "source": [
    "ints = np.array([0, 1, 2])\n",
    "print(ints.astype(bool))"
   ]
  },
  {
   "cell_type": "code",
   "execution_count": null,
   "id": "23d8bc8b-ae47-4a9b-8268-5ee0d9aea070",
   "metadata": {},
   "outputs": [],
   "source": [
    "a = np.array([[1, 2], [3, 4]])\n",
    "print(a.T)"
   ]
  },
  {
   "cell_type": "code",
   "execution_count": null,
   "id": "fd1ed274-fce7-47c0-b426-5c6ff6955eb1",
   "metadata": {},
   "outputs": [],
   "source": [
    "print(np.dot(a, a))"
   ]
  },
  {
   "cell_type": "code",
   "execution_count": null,
   "id": "e4c7fb6d-b383-48ab-be91-df0eb7632e73",
   "metadata": {},
   "outputs": [],
   "source": [
    "print(np.linalg.matrix_power(a, 2))"
   ]
  },
  {
   "cell_type": "code",
   "execution_count": null,
   "id": "43482079-df82-41be-bd51-9ecfb30eb0bc",
   "metadata": {},
   "outputs": [],
   "source": [
    "print(np.identity(3))"
   ]
  },
  {
   "cell_type": "code",
   "execution_count": null,
   "id": "4c338024-3806-48ac-adc3-51eda423def0",
   "metadata": {},
   "outputs": [],
   "source": [
    "print(np.diag(a))"
   ]
  },
  {
   "cell_type": "code",
   "execution_count": null,
   "id": "9b647ee5-f667-4436-8324-6a88f3f2a420",
   "metadata": {},
   "outputs": [],
   "source": [
    "d = np.array([1, 2, 3])\n",
    "print(np.diag(d))"
   ]
  },
  {
   "cell_type": "code",
   "execution_count": null,
   "id": "cec8210a-d2a0-46ea-bf27-0374bd66e91e",
   "metadata": {},
   "outputs": [],
   "source": [
    "print(np.triu(a))"
   ]
  },
  {
   "cell_type": "code",
   "execution_count": null,
   "id": "fbcbab77-fe61-4e2b-a41f-3d42478a2df8",
   "metadata": {},
   "outputs": [],
   "source": [
    "print(np.tril(a))"
   ]
  },
  {
   "cell_type": "code",
   "execution_count": null,
   "id": "60ba3f86-4576-4526-83f5-1436e7c5df1e",
   "metadata": {},
   "outputs": [],
   "source": [
    "b = np.zeros((3, 3))\n",
    "np.fill_diagonal(b, 1)\n",
    "print(b)"
   ]
  },
  {
   "cell_type": "code",
   "execution_count": null,
   "id": "877c5084-478e-48bf-a069-8d7848e90f3c",
   "metadata": {},
   "outputs": [],
   "source": [
    "c = np.array([[1, 2, 3], [4, 5, 6], [7, 8, 9]])\n",
    "print(np.diag(c, k=1))"
   ]
  },
  {
   "cell_type": "code",
   "execution_count": null,
   "id": "3324823f-24db-4686-a099-efe718181996",
   "metadata": {},
   "outputs": [],
   "source": [
    "a = np.array([1, 2, 3, 4])\n",
    "print(np.fft.fft(a))"
   ]
  },
  {
   "cell_type": "code",
   "execution_count": null,
   "id": "3a19cdc4-1aa8-4ea5-a8d4-644d4e914db9",
   "metadata": {},
   "outputs": [],
   "source": [
    "f = np.fft.fft(a)\n",
    "print(np.fft.ifft(f))"
   ]
  },
  {
   "cell_type": "code",
   "execution_count": null,
   "id": "429d94c2-b593-4775-bdbd-27f1eef16648",
   "metadata": {},
   "outputs": [],
   "source": [
    "print(np.fft.fftfreq(4))"
   ]
  },
  {
   "cell_type": "code",
   "execution_count": null,
   "id": "625ab54f-b25e-481f-a096-ddb291ab69f9",
   "metadata": {},
   "outputs": [],
   "source": [
    "img = np.array([[1, 2], [3, 4]])\n",
    "print(np.fft.fft2(img))"
   ]
  },
  {
   "cell_type": "code",
   "execution_count": null,
   "id": "ca713b34-0c47-40a2-bf5f-cbb3a20c9fac",
   "metadata": {},
   "outputs": [],
   "source": [
    "f2 = np.fft.fft2(img)\n",
    "print(np.fft.ifft2(f2))"
   ]
  },
  {
   "cell_type": "code",
   "execution_count": null,
   "id": "840a5caf-58d7-43f1-a786-9ac5af54231f",
   "metadata": {},
   "outputs": [],
   "source": [
    "print(np.fft.fftshift(f2))"
   ]
  },
  {
   "cell_type": "code",
   "execution_count": null,
   "id": "6b35f0c3-9d1b-43bd-a2b3-8921fd09a8c1",
   "metadata": {},
   "outputs": [],
   "source": [
    "print(np.fft.ifftshift(f2))"
   ]
  },
  {
   "cell_type": "code",
   "execution_count": null,
   "id": "86081bc4-2cd0-43db-8ff6-343ec0ece7fe",
   "metadata": {},
   "outputs": [],
   "source": [
    "f = np.fft.fft(a)\n",
    "power = np.abs(f)**2\n",
    "print(power)"
   ]
  },
  {
   "cell_type": "code",
   "execution_count": null,
   "id": "03f91f6a-c155-4ed7-ac62-ed8f56e7c01b",
   "metadata": {},
   "outputs": [],
   "source": [
    "phase = np.angle(f)\n",
    "print(phase)"
   ]
  },
  {
   "cell_type": "code",
   "execution_count": null,
   "id": "12fc3a31-6376-4459-b018-90934f8d2617",
   "metadata": {},
   "outputs": [],
   "source": [
    "print(np.fft.rfft(a))"
   ]
  },
  {
   "cell_type": "code",
   "execution_count": null,
   "id": "9f59fc95-6949-4d8a-bda5-e4e36a4651b8",
   "metadata": {},
   "outputs": [],
   "source": [
    "a = np.array([1, 2, 2, 3])"
   ]
  },
  {
   "cell_type": "code",
   "execution_count": null,
   "id": "700a7fd3-e283-4754-90b0-9317852b9590",
   "metadata": {},
   "outputs": [],
   "source": [
    "print(np.unique(a))"
   ]
  },
  {
   "cell_type": "code",
   "execution_count": null,
   "id": "3238c475-040d-4a6a-a664-8d072e082400",
   "metadata": {},
   "outputs": [],
   "source": [
    "b = np.array([2, 3, 4])\n",
    "print(np.intersect1d(a, b))"
   ]
  },
  {
   "cell_type": "code",
   "execution_count": null,
   "id": "b6a9fb36-fb22-4de6-a052-817a9fb7238a",
   "metadata": {},
   "outputs": [],
   "source": [
    "print(np.union1d(a, b))"
   ]
  },
  {
   "cell_type": "code",
   "execution_count": null,
   "id": "a4167f12-737a-437e-9a58-304d15659eca",
   "metadata": {},
   "outputs": [],
   "source": [
    "print(np.setdiff1d(a, b))"
   ]
  },
  {
   "cell_type": "code",
   "execution_count": null,
   "id": "768b5f36-9809-4f93-841c-2783fda606c1",
   "metadata": {},
   "outputs": [],
   "source": []
  },
  {
   "cell_type": "code",
   "execution_count": null,
   "id": "b97e61b7-d82f-480f-810b-3d096ea91462",
   "metadata": {},
   "outputs": [],
   "source": []
  },
  {
   "cell_type": "code",
   "execution_count": null,
   "id": "536633f9-53e4-4107-8d8b-59bb304a8477",
   "metadata": {},
   "outputs": [],
   "source": []
  },
  {
   "cell_type": "code",
   "execution_count": null,
   "id": "bbf4143b-72c8-41cd-b0a2-eb238cfa29b6",
   "metadata": {},
   "outputs": [],
   "source": []
  },
  {
   "cell_type": "code",
   "execution_count": null,
   "id": "3a11c9b3-a6f6-4200-b9c7-4ce980653389",
   "metadata": {},
   "outputs": [],
   "source": []
  },
  {
   "cell_type": "code",
   "execution_count": null,
   "id": "3e04d815-7276-41cf-9227-da91093f6d47",
   "metadata": {},
   "outputs": [],
   "source": []
  },
  {
   "cell_type": "code",
   "execution_count": null,
   "id": "add805a4-83e1-4a8d-aaaf-fd3998c9716d",
   "metadata": {},
   "outputs": [],
   "source": []
  },
  {
   "cell_type": "code",
   "execution_count": null,
   "id": "4b1eba1a-d44f-44cb-9d7a-a3441b9e24b4",
   "metadata": {},
   "outputs": [],
   "source": []
  },
  {
   "cell_type": "code",
   "execution_count": null,
   "id": "8af6d9c3-d80b-4d47-9c69-6266b8031679",
   "metadata": {},
   "outputs": [],
   "source": []
  },
  {
   "cell_type": "code",
   "execution_count": null,
   "id": "1f68eb48-f49d-462e-8780-e5a3d2d15127",
   "metadata": {},
   "outputs": [],
   "source": []
  },
  {
   "cell_type": "code",
   "execution_count": null,
   "id": "474ef3f2-4ff1-444a-bc36-38908214a7b9",
   "metadata": {},
   "outputs": [],
   "source": []
  },
  {
   "cell_type": "code",
   "execution_count": null,
   "id": "ecafeb60-4d40-479c-b22a-ffea94ff74a4",
   "metadata": {},
   "outputs": [],
   "source": []
  },
  {
   "cell_type": "code",
   "execution_count": null,
   "id": "24549d8b-86f2-4ae7-97dc-5eb82778d8b9",
   "metadata": {},
   "outputs": [],
   "source": []
  },
  {
   "cell_type": "code",
   "execution_count": null,
   "id": "4eabebfa-748b-446b-9340-edd834cf5735",
   "metadata": {},
   "outputs": [],
   "source": []
  }
 ],
 "metadata": {
  "kernelspec": {
   "display_name": "Python 3 (ipykernel)",
   "language": "python",
   "name": "python3"
  },
  "language_info": {
   "codemirror_mode": {
    "name": "ipython",
    "version": 3
   },
   "file_extension": ".py",
   "mimetype": "text/x-python",
   "name": "python",
   "nbconvert_exporter": "python",
   "pygments_lexer": "ipython3",
   "version": "3.11.13"
  }
 },
 "nbformat": 4,
 "nbformat_minor": 5
}

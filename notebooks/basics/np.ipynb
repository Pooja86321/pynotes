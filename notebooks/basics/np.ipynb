{
 "cells": [
  {
   "cell_type": "code",
   "execution_count": null,
   "id": "169c8862-bcb3-4369-b43f-4c643c40ca58",
   "metadata": {},
   "outputs": [],
   "source": [
    "import numpy as np"
   ]
  },
  {
   "cell_type": "code",
   "execution_count": null,
   "id": "5dc7aec1-d6e6-40c2-8f89-6f37d1e5a9fa",
   "metadata": {},
   "outputs": [],
   "source": [
    "print(np.array([1.5, 2.3, 3.7]).astype(int))\n",
    "print(np.datetime64('today', 'D'))"
   ]
  },
  {
   "cell_type": "code",
   "execution_count": null,
   "id": "6ddd2c2a-9973-4592-b6a1-6bb4db75eb1d",
   "metadata": {},
   "outputs": [],
   "source": [
    "print(np.arange(1000000) * 2)\n",
    "print(np.where(np.array([1, 2, 3]) > 2, 100, 0))"
   ]
  },
  {
   "cell_type": "code",
   "execution_count": null,
   "id": "eb140f1e-7f39-4183-9197-68fc419a3460",
   "metadata": {},
   "outputs": [],
   "source": [
    "print(np.arange('2025-01', '2026-01', dtype='datetime64[M]'))\n",
    "print(np.diff(np.arange('2025-01', '2025-04', dtype='datetime64[M]')))"
   ]
  },
  {
   "cell_type": "code",
   "execution_count": null,
   "id": "b720c4f9-e0d0-4e75-9571-6073fc3207d0",
   "metadata": {},
   "outputs": [],
   "source": [
    "a = np.array([1, 2, 3])\n",
    "b = a.view()\n",
    "print(b.base is a)\n",
    "print(a)"
   ]
  },
  {
   "cell_type": "code",
   "execution_count": null,
   "id": "b1cbaabc-4eba-444b-8fcf-c733c10f2e70",
   "metadata": {},
   "outputs": [],
   "source": [
    "print(np.arange(1000000)[::100])\n",
    "x = np.array([1, 2, 3])\n",
    "x *= 2\n",
    "print(x)"
   ]
  },
  {
   "cell_type": "code",
   "execution_count": null,
   "id": "b08f19da-3436-4712-ac10-b2f00735f3ac",
   "metadata": {},
   "outputs": [],
   "source": [
    "x = np.array([1.0, 2.0, 3.0])\n",
    "y = np.empty_like(x)\n",
    "np.add(x, x, out=y)\n",
    "print(y)"
   ]
  },
  {
   "cell_type": "code",
   "execution_count": null,
   "id": "82d145f8-e668-41e6-85e5-3fede339288e",
   "metadata": {},
   "outputs": [],
   "source": [
    "print(np.allclose(np.array([1.00001, 1.00002]), np.array([1.00002, 1.00001]), atol=1e-4))\n",
    "print(np.arange(12).reshape(3, 4).sum(axis=0))"
   ]
  },
  {
   "cell_type": "code",
   "execution_count": null,
   "id": "29e5b01f-565b-48ca-bca5-158d8f37df6d",
   "metadata": {},
   "outputs": [],
   "source": [
    "print(np.random.rand(5).argmax())\n",
    "print(np.sort(np.random.randint(1, 10, size=5)))"
   ]
  },
  {
   "cell_type": "code",
   "execution_count": null,
   "id": "e32c5226-6174-4760-848d-77d2aa49f7f0",
   "metadata": {},
   "outputs": [],
   "source": [
    "print(np.linspace(0, 10, 5))\n",
    "print(np.dot(np.array([[1, 2], [3, 4]]), np.array([[5, 6], [7, 8]])))"
   ]
  },
  {
   "cell_type": "code",
   "execution_count": null,
   "id": "e9af35df-f6da-4703-97bd-97773dcf5b8c",
   "metadata": {},
   "outputs": [],
   "source": [
    "print(np.cumsum(np.array([1, 2, 3, 4, 5])))\n",
    "print(np.diff(np.array([1, 2, 3, 4, 5])))"
   ]
  },
  {
   "cell_type": "code",
   "execution_count": null,
   "id": "aad77c08-f125-4721-a3c7-17228c0b76aa",
   "metadata": {},
   "outputs": [],
   "source": [
    "print(np.cross(np.array([1, 2, 3]), np.array([4, 5, 6])))\n",
    "print(np.median(np.array([1, 2, 3, 4, 5])))"
   ]
  },
  {
   "cell_type": "code",
   "execution_count": null,
   "id": "5674d7b5-832f-4892-b096-fee0901a0cca",
   "metadata": {},
   "outputs": [],
   "source": [
    "print(np.mean(np.array([1, 2, 3, 4, 5])))\n",
    "print(np.std(np.array([1, 2, 3, 4, 5])))"
   ]
  },
  {
   "cell_type": "code",
   "execution_count": null,
   "id": "09b3acd9-5b5d-4911-983e-e4e5fac25264",
   "metadata": {},
   "outputs": [],
   "source": [
    "print(np.var(np.array([1, 2, 3, 4, 5])))\n",
    "print(np.ptp(np.array([1, 2, 3, 4, 5])))"
   ]
  },
  {
   "cell_type": "code",
   "execution_count": null,
   "id": "b3a2cf40-23cb-4f61-bf0b-eb3d0d72c88b",
   "metadata": {},
   "outputs": [],
   "source": [
    "print(np.percentile(np.array([1, 2, 3, 4, 5]), 50))\n",
    "print(np.unique(np.array([1, 2, 2, 3, 3, 3])))"
   ]
  },
  {
   "cell_type": "code",
   "execution_count": null,
   "id": "4ae62644-e707-4b85-a74a-77ce213e5747",
   "metadata": {},
   "outputs": [],
   "source": [
    "print(np.bincount(np.array([1, 2, 2, 3, 3, 3])))\n",
    "print(np.flip(np.array([1, 2, 3, 4, 5])))"
   ]
  },
  {
   "cell_type": "code",
   "execution_count": null,
   "id": "9c83f13d-e2cc-4f00-b5f4-5702c3a5706c",
   "metadata": {},
   "outputs": [],
   "source": [
    "print(np.mod(np.array([10, 11, 12]), 5))\n",
    "print(np.remainder(np.array([10, 11, 12]), 5))"
   ]
  },
  {
   "cell_type": "code",
   "execution_count": null,
   "id": "5061907e-2fa3-4874-8036-267e0b610989",
   "metadata": {},
   "outputs": [],
   "source": [
    "print(np.roll(np.array([1, 2, 3, 4, 5]), 2))\n",
    "print(np.power(np.array([1, 2, 3]), 3))"
   ]
  },
  {
   "cell_type": "code",
   "execution_count": null,
   "id": "b946eaa3-6549-48da-8db1-0b87f9585185",
   "metadata": {},
   "outputs": [],
   "source": [
    "print(np.repeat(np.array([1, 2, 3]), 3))\n",
    "print(np.tile(np.array([1, 2, 3]), 3))"
   ]
  },
  {
   "cell_type": "code",
   "execution_count": null,
   "id": "8fc62a06-1bc9-4797-8a64-a3a7f04af483",
   "metadata": {},
   "outputs": [],
   "source": [
    "print(np.split(np.arange(10), 2))\n",
    "print(np.array_split(np.arange(10), 3))"
   ]
  },
  {
   "cell_type": "code",
   "execution_count": null,
   "id": "7dac4322-8627-4c0e-aa00-094cfadea384",
   "metadata": {},
   "outputs": [],
   "source": [
    "print(np.vstack([np.array([1, 2, 3]), np.array([4, 5, 6])]))\n",
    "print(np.hstack([np.array([1, 2, 3]), np.array([4, 5, 6])]))"
   ]
  },
  {
   "cell_type": "code",
   "execution_count": null,
   "id": "1abb6cc7-852f-4702-8f5e-e9610db143cf",
   "metadata": {},
   "outputs": [],
   "source": [
    "print(np.intersect1d(np.arange(10), [5, 7, 9]))\n",
    "print(np.concatenate([np.array([1, 2, 3]), np.array([4, 5, 6])]))"
   ]
  },
  {
   "cell_type": "code",
   "execution_count": null,
   "id": "8bc6ac41-6aef-4abc-ad60-e910e5bfbbaa",
   "metadata": {},
   "outputs": [],
   "source": [
    "print(np.argmax(np.array([[1, 2, 3], [4, 5, 6]]), axis=1))\n",
    "print(np.argmin(np.array([[1, 2, 3], [4, 5, 6]]), axis=0))\n"
   ]
  },
  {
   "cell_type": "code",
   "execution_count": null,
   "id": "2eda589a-4fef-4c72-8ca2-c111b209d2da",
   "metadata": {},
   "outputs": [],
   "source": [
    "print(np.logical_and(np.array([True, False, True]), [False, False, True]))\n",
    "print(np.logical_or(np.array([True, False, True]), [False, False, True]))"
   ]
  },
  {
   "cell_type": "code",
   "execution_count": null,
   "id": "43fe150e-e7bd-449e-a518-acfd72235064",
   "metadata": {},
   "outputs": [],
   "source": [
    "print(np.clip(np.array([1, 2, 3, 4, 5]), 2, 4))\n",
    "print(np.round(np.array([1, 2, 3, 4, 5]) / 2))"
   ]
  },
  {
   "cell_type": "code",
   "execution_count": null,
   "id": "d9ae8c05-265d-42bd-9166-d4f9b81d20c9",
   "metadata": {},
   "outputs": [],
   "source": [
    "print(np.nonzero(np.array([1, 2, 3, 4, 5]) > 3))\n",
    "print(np.where(np.array([1, 2, 3, 4, 5]) % 2 == 0))"
   ]
  },
  {
   "cell_type": "code",
   "execution_count": null,
   "id": "361b9e83-0649-4c95-9c65-02dafdfd813e",
   "metadata": {},
   "outputs": [],
   "source": [
    "print(np.transpose(np.array([[1, 2], [3, 4]])))\n",
    "print(np.isin(np.array([1, 2, 3, 4, 5]), [2, 4]))"
   ]
  },
  {
   "cell_type": "code",
   "execution_count": null,
   "id": "e3d27b00-a791-4f66-ad58-6e7e124cd239",
   "metadata": {},
   "outputs": [],
   "source": [
    "print(np.floor(np.array([1.7, 2.8, 3.9])))\n",
    "print(np.ceil(np.array([1.2, 2.3, 3.4])))"
   ]
  },
  {
   "cell_type": "code",
   "execution_count": null,
   "id": "385992d4-bab8-4ea5-8de5-8f9fee6eb9a8",
   "metadata": {},
   "outputs": [],
   "source": [
    "print(np.log(np.array([1, np.e, np.e**2])))\n",
    "print(np.log10(np.array([1, 10, 100])))"
   ]
  },
  {
   "cell_type": "code",
   "execution_count": null,
   "id": "04af53e7-845d-4f19-afa1-b8eea965724f",
   "metadata": {},
   "outputs": [],
   "source": [
    "print(np.trunc(np.array([1.7, 2.8, 3.9])))\n",
    "print(np.rint(np.array([1.2, 2.3, 3.6])))"
   ]
  },
  {
   "cell_type": "code",
   "execution_count": null,
   "id": "27b577d1-8895-4aad-9751-57e548f99a53",
   "metadata": {},
   "outputs": [],
   "source": [
    "print(np.sqrt(np.array([4, 9, 16])))\n",
    "print(np.exp(np.array([1, 2, 3])))"
   ]
  },
  {
   "cell_type": "code",
   "execution_count": null,
   "id": "aebde9d8-e546-4bc5-a726-d6f0974b5993",
   "metadata": {},
   "outputs": [],
   "source": [
    "print(np.sin(np.array([0, np.pi / 2, np.pi])))\n",
    "print(np.cos(np.array([0, np.pi / 2, np.pi])))"
   ]
  },
  {
   "cell_type": "code",
   "execution_count": null,
   "id": "916bac26-d82d-450f-81b1-083d19155591",
   "metadata": {},
   "outputs": [],
   "source": [
    "print(np.tan(np.array([0, np.pi / 4, np.pi / 2])))\n",
    "print(np.arcsin(np.array([0, 0.5, 1])))"
   ]
  },
  {
   "cell_type": "code",
   "execution_count": null,
   "id": "19b82e40-1bc4-4b4b-808d-a4c71382901d",
   "metadata": {},
   "outputs": [],
   "source": [
    "print(np.arccos(np.array([0, 0.5, 1])))\n",
    "print(np.arctan(np.array([0, 1, np.inf])))"
   ]
  },
  {
   "cell_type": "code",
   "execution_count": null,
   "id": "0c7b2273-c7b2-4250-94de-91c88a643387",
   "metadata": {},
   "outputs": [],
   "source": [
    "print(np.degrees(np.array([0, np.pi / 2, np.pi])))\n",
    "print(np.radians(np.array([0, 90, 180])))"
   ]
  },
  {
   "cell_type": "code",
   "execution_count": null,
   "id": "028e52d4-a30b-4b04-bbc0-5870c014c543",
   "metadata": {},
   "outputs": [],
   "source": [
    "print(np.sign(np.array([-5, 0, 5])))\n",
    "print(np.absolute(np.array([-1, -2, 3])))"
   ]
  },
  {
   "cell_type": "code",
   "execution_count": null,
   "id": "d636f406-de68-472f-90f6-f62afd01e090",
   "metadata": {},
   "outputs": [],
   "source": [
    "print(np.real(np.array([1+2j, 3+4j, 5+6j])))\n",
    "print(np.imag(np.array([1+2j, 3+4j, 5+6j])))"
   ]
  },
  {
   "cell_type": "code",
   "execution_count": null,
   "id": "b528fc3d-676a-4554-bec2-3400781c2b2c",
   "metadata": {},
   "outputs": [],
   "source": [
    "print(np.conj(np.array([1+2j, 3+4j, 5+6j])))\n",
    "print(np.angle(np.array([1+1j, 1-1j, -1+1j])))"
   ]
  },
  {
   "cell_type": "code",
   "execution_count": null,
   "id": "4461175e-02d3-48c6-9fbe-d839ecbaf626",
   "metadata": {},
   "outputs": [],
   "source": [
    "print(np.linalg.norm(np.array([3, 4])))\n",
    "print(np.linalg.inv(np.array([[1, 2], [3, 4]])))"
   ]
  },
  {
   "cell_type": "code",
   "execution_count": null,
   "id": "07e0948b-7681-464d-98d8-eaf5373814e9",
   "metadata": {},
   "outputs": [],
   "source": [
    "print(np.linalg.det(np.array([[1, 2], [3, 4]])))\n",
    "print(np.trace(np.array([[1, 2], [3, 4]])))"
   ]
  },
  {
   "cell_type": "code",
   "execution_count": null,
   "id": "2cf524c0-b55c-418d-a924-5f740a3972a8",
   "metadata": {},
   "outputs": [],
   "source": [
    "print(np.eye(3))\n",
    "print(np.identity(3))"
   ]
  },
  {
   "cell_type": "code",
   "execution_count": null,
   "id": "d09c0e72-8c5d-4a75-b602-7521c63cd10d",
   "metadata": {},
   "outputs": [],
   "source": [
    "print(np.ones((2, 3)))\n",
    "print(np.zeros((2, 3)))"
   ]
  },
  {
   "cell_type": "code",
   "execution_count": null,
   "id": "ef953c9d-5765-41c1-adc5-f315a401ff66",
   "metadata": {},
   "outputs": [],
   "source": [
    "print(np.pad(np.array([1, 2, 3]), (2, 3), mode='constant'))\n",
    "print(np.diff(np.random.randint(0, 100, size=10)))"
   ]
  },
  {
   "cell_type": "code",
   "execution_count": null,
   "id": "707ea32f-8a8e-4072-bba6-256f1bfa0808",
   "metadata": {},
   "outputs": [],
   "source": [
    "print(np.random.shuffle(np.array([1, 2, 3, 4])))\n",
    "print(np.random.seed(42))"
   ]
  },
  {
   "cell_type": "code",
   "execution_count": null,
   "id": "7d03bda1-3d72-4cfa-b598-a16e7f2c1923",
   "metadata": {},
   "outputs": [],
   "source": [
    "print(np.random.choice([10, 20, 30], size=5, replace=True))\n",
    "print(np.random.permutation([1, 2, 3, 4]))"
   ]
  },
  {
   "cell_type": "code",
   "execution_count": null,
   "id": "8e809123-1512-41d3-91e3-ec38c84fca32",
   "metadata": {},
   "outputs": [],
   "source": [
    "print(np.random.randint(1, 100, size=5))\n",
    "print(np.random.normal(0, 1, 5))"
   ]
  },
  {
   "cell_type": "code",
   "execution_count": null,
   "id": "2403b2bc-5275-4221-9b52-5b116a1223c6",
   "metadata": {},
   "outputs": [],
   "source": [
    "print(np.fromiter(range(5), dtype=int))\n",
    "print(np.linspace(0, 1, num=5, endpoint=False))"
   ]
  },
  {
   "cell_type": "code",
   "execution_count": null,
   "id": "e1c2676a-3a47-4195-ae5e-b9d526fa4c55",
   "metadata": {},
   "outputs": [],
   "source": [
    "print(np.maximum([1, 2, 3], [2, 1, 4]))\n",
    "print(np.minimum([1, 2, 3], [2, 1, 4]))"
   ]
  },
  {
   "cell_type": "code",
   "execution_count": null,
   "id": "5f838a76-1f61-4271-87b1-ee617839dcd2",
   "metadata": {},
   "outputs": [],
   "source": [
    "print(np.setdiff1d([1, 2, 3, 4], [2, 4]))\n",
    "print(np.union1d([1, 2], [2, 3]))"
   ]
  },
  {
   "cell_type": "code",
   "execution_count": null,
   "id": "280d6083-36b1-4c84-9535-7fb805a46ff1",
   "metadata": {},
   "outputs": [],
   "source": [
    "print(np.isfinite(np.array([1.0, np.nan, np.inf])))\n",
    "print(np.isinf(np.array([1.0, np.inf, -np.inf])))"
   ]
  },
  {
   "cell_type": "code",
   "execution_count": null,
   "id": "3ddf0715-a730-49dd-8f72-5402b67b5d0d",
   "metadata": {},
   "outputs": [],
   "source": [
    "print(np.count_nonzero(np.array([0, 1, 0, 2, 3])))\n",
    "print(np.isnan(np.array([1.0, np.nan, 3.0])))"
   ]
  },
  {
   "cell_type": "code",
   "execution_count": null,
   "id": "a76750a5-2b24-4987-a79a-a10b1b9dc192",
   "metadata": {},
   "outputs": [],
   "source": [
    "print(np.full((2, 2), 7))\n",
    "print(np.empty((2, 2)))"
   ]
  },
  {
   "cell_type": "code",
   "execution_count": null,
   "id": "f6009512-a521-4414-8bf5-97efc61485e5",
   "metadata": {},
   "outputs": [],
   "source": [
    "print(np.cov(np.array([[1, 2, 3], [4, 5, 6]])))\n",
    "print(np.corrcoef(np.array([1, 2, 3]), np.array([1, 2, 3])))"
   ]
  },
  {
   "cell_type": "code",
   "execution_count": null,
   "id": "ec64e6f7-dd48-4a03-9b65-b8a332952296",
   "metadata": {},
   "outputs": [],
   "source": [
    "print(np.histogram(np.array([1, 2, 1, 2, 3, 3, 3]), bins=3))\n",
    "print(np.digitize(np.array([0.2, 6.4, 3.0, 1.6]), bins=[1, 2, 3, 4, 5]))"
   ]
  },
  {
   "cell_type": "code",
   "execution_count": null,
   "id": "e19fb651-f7b0-4475-8581-ea72cf42ec09",
   "metadata": {},
   "outputs": [],
   "source": [
    "print(np.meshgrid(np.arange(3), np.arange(3)))\n",
    "print(np.mgrid[0:5, 0:5])"
   ]
  },
  {
   "cell_type": "code",
   "execution_count": null,
   "id": "eabc67c3-8053-40f4-a759-1c36da0e6468",
   "metadata": {},
   "outputs": [],
   "source": [
    "print(np.ogrid[0:5, 0:5])\n",
    "print(np.indices((2, 3)))"
   ]
  },
  {
   "cell_type": "code",
   "execution_count": null,
   "id": "338ae274-0a61-41e4-9a83-8032beba2f15",
   "metadata": {},
   "outputs": [],
   "source": [
    "print(np.expand_dims(np.array([1, 2]), axis=0))\n",
    "print(np.squeeze(np.array([[1], [2], [3]])))"
   ]
  },
  {
   "cell_type": "code",
   "execution_count": null,
   "id": "a0b38380-c62f-4ddc-b7b8-f2fc1b2b18dc",
   "metadata": {},
   "outputs": [],
   "source": [
    "print(np.swapaxes(np.array([[1, 2], [3, 4]]), 0, 1))\n",
    "print(np.moveaxis(np.zeros((3, 4, 5)), 0, -1))"
   ]
  },
  {
   "cell_type": "code",
   "execution_count": null,
   "id": "927236b9-2cde-4184-b863-1a541ccdeaf6",
   "metadata": {},
   "outputs": [],
   "source": [
    "print(np.atleast_2d(1))\n",
    "print(np.atleast_3d(np.array([1, 2, 3])))"
   ]
  },
  {
   "cell_type": "code",
   "execution_count": null,
   "id": "8b6daeb5-eeeb-44d8-9877-aaa6ef32b8fe",
   "metadata": {},
   "outputs": [],
   "source": [
    "print(np.hypot(3, 4))\n",
    "print(np.heaviside([-1.5, 0.0, 2.0], 1.0))"
   ]
  },
  {
   "cell_type": "code",
   "execution_count": null,
   "id": "6f1dbfa8-93d4-4a47-855a-609baa8e6f6e",
   "metadata": {},
   "outputs": [],
   "source": [
    "print(np.unwrap(np.array([0, np.pi, 2*np.pi])))\n",
    "print(np.deg2rad([0, 90, 180]))"
   ]
  },
  {
   "cell_type": "code",
   "execution_count": null,
   "id": "d0ce4ac8-8404-4f49-a49f-23249f3c75ff",
   "metadata": {},
   "outputs": [],
   "source": [
    "print(np.rad2deg([0, np.pi/2, np.pi]))\n",
    "print(np.fix(np.array([1.3, -1.7])))"
   ]
  },
  {
   "cell_type": "code",
   "execution_count": null,
   "id": "06782b64-2652-4172-893e-4a10d470b3c9",
   "metadata": {},
   "outputs": [],
   "source": [
    "print(np.iscomplex(np.array([1, 2+3j])))\n",
    "print(np.isreal(np.array([1, 2+3j])))"
   ]
  },
  {
   "cell_type": "code",
   "execution_count": null,
   "id": "876282c8-6c65-4aa1-af7d-fe14d916335f",
   "metadata": {},
   "outputs": [],
   "source": [
    "print(np.nan_to_num(np.array([1.0, np.nan, np.inf])))\n",
    "print(np.real_if_close([2. + 1e-15j, 2.1 + 1e-5j]))"
   ]
  },
  {
   "cell_type": "code",
   "execution_count": null,
   "id": "15a105be-1e2a-4ceb-b3ef-5c3b49bfb364",
   "metadata": {},
   "outputs": [],
   "source": [
    "print(np.ma.masked_equal(np.array([1, 2, 3]), 2))\n",
    "print(np.ma.masked_where(np.array([True, False, True]), np.array([1, 2, 3])))"
   ]
  },
  {
   "cell_type": "code",
   "execution_count": null,
   "id": "153771e6-9644-4c56-993d-5ec48650b175",
   "metadata": {},
   "outputs": [],
   "source": [
    "print(np.char.not_equal('test', 'best'))\n",
    "print(np.char.isnumeric('12345'))"
   ]
  },
  {
   "cell_type": "code",
   "execution_count": null,
   "id": "b078459e-1e96-4bef-a91d-7b563a9d195b",
   "metadata": {},
   "outputs": [],
   "source": [
    "print(np.char.zfill('42', 5))\n",
    "print(np.char.equal('test', 'test'))"
   ]
  },
  {
   "cell_type": "code",
   "execution_count": null,
   "id": "709b5503-5917-43d5-b067-5117f523614c",
   "metadata": {},
   "outputs": [],
   "source": [
    "print(np.char.rjust('5', 4, '0'))\n",
    "print(np.char.ljust('5', 4, '0'))"
   ]
  },
  {
   "cell_type": "code",
   "execution_count": null,
   "id": "8935037e-e09c-4921-a3cf-e12079234053",
   "metadata": {},
   "outputs": [],
   "source": [
    "print(np.char.replace('Hello world', 'world', 'NumPy'))\n",
    "print(np.char.find('Hello NumPy', 'NumPy'))"
   ]
  },
  {
   "cell_type": "code",
   "execution_count": null,
   "id": "f62df464-cba1-4e97-a064-08bb7758b701",
   "metadata": {},
   "outputs": [],
   "source": [
    "print(np.char.split('a b c'))\n",
    "print(np.char.strip(['a ', ' b', ' c ']))"
   ]
  },
  {
   "cell_type": "code",
   "execution_count": null,
   "id": "ae4437a9-197f-4ca1-89b6-145712f28c4c",
   "metadata": {},
   "outputs": [],
   "source": [
    "print(np.char.lower('HELLO'))\n",
    "print(np.char.upper('hello'))"
   ]
  },
  {
   "cell_type": "code",
   "execution_count": null,
   "id": "f5fecfed-4e81-4822-b068-ba5c957153be",
   "metadata": {},
   "outputs": [],
   "source": [
    "print(np.char.center('title', 10, fillchar='-'))\n",
    "print(np.char.capitalize('python'))"
   ]
  },
  {
   "cell_type": "code",
   "execution_count": null,
   "id": "29ef33cc-4751-4927-83e4-702e67854a8f",
   "metadata": {},
   "outputs": [],
   "source": [
    "print(np.char.add(['hello', 'world'], ['_', 'python']))\n",
    "print(np.char.multiply('ha', 3))"
   ]
  },
  {
   "cell_type": "code",
   "execution_count": null,
   "id": "2d76ef1a-3166-47fe-8ef7-d7dbd7b3cc1e",
   "metadata": {},
   "outputs": [],
   "source": [
    "print(np.ma.max(np.ma.masked_equal(np.array([1, 2, 3]), 2)))\n",
    "print(np.ma.min(np.ma.masked_equal(np.array([1, 2, 3]), 2)))"
   ]
  },
  {
   "cell_type": "code",
   "execution_count": null,
   "id": "a3562460-2c81-4961-b164-3a49d651f8ba",
   "metadata": {},
   "outputs": [],
   "source": [
    "print(np.ma.sum(np.ma.masked_equal(np.array([1, 2, 3]), 2)))\n",
    "print(np.ma.mean(np.ma.masked_equal(np.array([1, 2, 3]), 2)))"
   ]
  },
  {
   "cell_type": "code",
   "execution_count": null,
   "id": "c82138c6-f453-4475-b76c-f023307f8ccd",
   "metadata": {},
   "outputs": [],
   "source": [
    "print(np.ma.compressed(np.ma.masked_equal(np.array([1, 2, 3]), 2)))\n",
    "print(np.ma.count(np.ma.masked_equal(np.array([1, 2, 3]), 2)))"
   ]
  },
  {
   "cell_type": "code",
   "execution_count": null,
   "id": "1cf295b9-3d14-419f-9312-96a9292f37c0",
   "metadata": {},
   "outputs": [],
   "source": [
    "print(np.char.isalpha('HelloWorld'))\n",
    "print(np.char.isdecimal('123'))"
   ]
  },
  {
   "cell_type": "code",
   "execution_count": null,
   "id": "b8e8f6c5-75dc-472e-95a5-5eb9bff0c8e0",
   "metadata": {},
   "outputs": [],
   "source": [
    "print(np.nanstd([1.0, 2.0, np.nan]))\n",
    "print(np.nanvar([1.0, 2.0, np.nan]))"
   ]
  },
  {
   "cell_type": "code",
   "execution_count": null,
   "id": "43c50a15-8aaf-44d5-a867-40c36716d740",
   "metadata": {},
   "outputs": [],
   "source": [
    "print(np.nansum([1, 2, np.nan]))\n",
    "print(np.nanmean([1.0, 2.0, np.nan]))"
   ]
  },
  {
   "cell_type": "code",
   "execution_count": null,
   "id": "1f249771-ca8c-4fe9-9b42-b03bef9deb9c",
   "metadata": {},
   "outputs": [],
   "source": [
    "print(np.nanmax([1, 2, np.nan]))\n",
    "print(np.nanmin([1, 2, np.nan]))"
   ]
  },
  {
   "cell_type": "code",
   "execution_count": null,
   "id": "34ce4e32-2a3a-4ce1-9e4e-0aeddf7ff6d4",
   "metadata": {},
   "outputs": [],
   "source": [
    "print(np.fmax([1, 2, np.nan], [3, np.nan, 1]))\n",
    "print(np.fmin([1, 2, np.nan], [3, np.nan, 1]))"
   ]
  },
  {
   "cell_type": "code",
   "execution_count": null,
   "id": "92aaac9b-4f93-43ec-adf0-9f7bf9e35653",
   "metadata": {},
   "outputs": [],
   "source": [
    "print(np.timedelta64(60, 's') == np.timedelta64(1, 'm'))\n",
    "print(np.timedelta64(1, 'h') > np.timedelta64(30, 'm'))"
   ]
  },
  {
   "cell_type": "code",
   "execution_count": null,
   "id": "73462c33-7844-4e0d-a787-fc3c0887e69e",
   "metadata": {},
   "outputs": [],
   "source": [
    "print(np.array(['2025-07-21'], dtype='datetime64'))\n",
    "print(np.array(['12:00'], dtype='datetime64[m]'))"
   ]
  },
  {
   "cell_type": "code",
   "execution_count": null,
   "id": "8a753787-cd0e-48b3-9678-95a3045cff45",
   "metadata": {},
   "outputs": [],
   "source": [
    "print(np.array(['2025-07-21'], dtype='datetime64'))\n",
    "print(np.array(['12:00'], dtype='datetime64[m]'))"
   ]
  },
  {
   "cell_type": "code",
   "execution_count": null,
   "id": "0b4bb4c6-d8db-4120-9430-1a335b5c2bc6",
   "metadata": {},
   "outputs": [],
   "source": [
    "print(np.timedelta64(5, 'D') + np.timedelta64(3, 'D'))\n",
    "print(np.datetime64('2025-01-01') + np.timedelta64(10, 'D'))"
   ]
  },
  {
   "cell_type": "code",
   "execution_count": null,
   "id": "b8708f40-774f-4ee7-8265-d0110924045c",
   "metadata": {},
   "outputs": [],
   "source": [
    "print(np.busday_offset('2025-01-01', 5))\n",
    "print(np.datetime_as_string(np.datetime64('2025-07-21T15:00')))"
   ]
  },
  {
   "cell_type": "code",
   "execution_count": null,
   "id": "11968402-6363-4764-bb48-0de45f98d460",
   "metadata": {},
   "outputs": [],
   "source": [
    "print(np.busday_count('2025-01', '2025-02'))\n",
    "print(np.is_busday(['2025-01-01', '2025-01-04']))"
   ]
  },
  {
   "cell_type": "code",
   "execution_count": null,
   "id": "888ea380-0d93-4c4b-9d73-d21c3d425443",
   "metadata": {},
   "outputs": [],
   "source": [
    "print(np.setxor1d([1, 2, 3], [2, 3, 4]))\n",
    "print(np.sort_complex(np.array([1+2j, 3+1j, 2+3j])))"
   ]
  },
  {
   "cell_type": "code",
   "execution_count": null,
   "id": "f023d76a-3a27-4c1a-a415-b6d852997981",
   "metadata": {},
   "outputs": [],
   "source": [
    "print(np.array([1.5, 2.5, 3.5]).round())\n",
    "print(np.array([-1.5, -2.5, -3.5]).round())"
   ]
  },
  {
   "cell_type": "code",
   "execution_count": null,
   "id": "07e3c88e-4e6c-4324-aced-e9b1b79f85fc",
   "metadata": {},
   "outputs": [],
   "source": [
    "print(np.unpackbits(np.array([240], dtype=np.uint8)))\n",
    "print(np.packbits(np.array([1, 0, 1, 0, 1, 0, 1, 0], dtype=np.uint8)))"
   ]
  },
  {
   "cell_type": "code",
   "execution_count": null,
   "id": "eedbc9c2-e388-46e0-aa77-08b0b317ff9d",
   "metadata": {},
   "outputs": [],
   "source": [
    "print(np.left_shift([1, 2, 3], 1))\n",
    "print(np.right_shift([2, 4, 8], 1))"
   ]
  },
  {
   "cell_type": "code",
   "execution_count": null,
   "id": "535cabf0-1ee1-488c-bd46-cb525ccdc5ea",
   "metadata": {},
   "outputs": [],
   "source": [
    "print(np.bitwise_or([1, 0, 1], [0, 0, 1]))\n",
    "print(np.bitwise_xor([1, 0, 1], [0, 0, 1]))"
   ]
  },
  {
   "cell_type": "code",
   "execution_count": null,
   "id": "38b0f653-1f29-4868-a729-329cfbb5e671",
   "metadata": {},
   "outputs": [],
   "source": [
    "print(np.logical_not([True, False, True]))\n",
    "print(np.bitwise_and([1, 0, 1], [0, 0, 1]))"
   ]
  },
  {
   "cell_type": "code",
   "execution_count": null,
   "id": "5fb590a4-dcfb-4727-a8b4-1d570dedb5e6",
   "metadata": {},
   "outputs": [],
   "source": [
    "print(np.greater([1, 2, 3], [1, 1, 2]))\n",
    "print(np.less_equal([1, 2, 3], [1, 2, 4]))"
   ]
  },
  {
   "cell_type": "code",
   "execution_count": null,
   "id": "71bf5974-be67-46f4-a009-b238e5510446",
   "metadata": {},
   "outputs": [],
   "source": [
    "print(np.isclose([1.0, 2.0], [1.0, 2.01], atol=0.05))\n",
    "print(np.equal([1, 2, 3], [1, 2, 4]))"
   ]
  },
  {
   "cell_type": "code",
   "execution_count": null,
   "id": "730bb962-45c1-436d-85e1-cc9aaff45290",
   "metadata": {},
   "outputs": [],
   "source": [
    "print(np.fromfunction(lambda i, j: i + j, (3, 3), dtype=int))\n",
    "print(np.fromiter((x*x for x in range(5)), dtype=int))"
   ]
  },
  {
   "cell_type": "code",
   "execution_count": null,
   "id": "5ea3ad4d-fbd1-4f31-a848-f28cf2a3b4f1",
   "metadata": {},
   "outputs": [],
   "source": [
    "print(np.char.title('numpy is awesome'))\n",
    "print(np.char.strip('   strip spaces   '))"
   ]
  },
  {
   "cell_type": "code",
   "execution_count": null,
   "id": "3ba12b06-dbac-4990-89ed-54c72bbbdc4f",
   "metadata": {},
   "outputs": [],
   "source": [
    "print(np.char.rstrip('right space   '))\n",
    "print(np.char.swapcase('Hello NumPy'))"
   ]
  },
  {
   "cell_type": "code",
   "execution_count": null,
   "id": "74c96e52-affe-4260-b6d3-b4ca49b55622",
   "metadata": {},
   "outputs": [],
   "source": [
    "print(np.char.join('-', ['2025', '07', '21']))\n",
    "print(np.char.lstrip('   left space'))"
   ]
  },
  {
   "cell_type": "code",
   "execution_count": null,
   "id": "de61caeb-6c8b-4304-af59-22309978e518",
   "metadata": {},
   "outputs": [],
   "source": [
    "print(np.char.count('banana', 'a'))\n",
    "print(np.char.index('banana', 'a'))"
   ]
  },
  {
   "cell_type": "code",
   "execution_count": null,
   "id": "8cb64e6b-80d4-462e-bd52-55d2e65835eb",
   "metadata": {},
   "outputs": [],
   "source": [
    "print(np.char.startswith('NumPy is cool', 'NumPy'))\n",
    "print(np.char.endswith('NumPy is cool', 'cool'))"
   ]
  },
  {
   "cell_type": "code",
   "execution_count": null,
   "id": "06c1bd27-692f-4a02-97d1-ca526963c57c",
   "metadata": {},
   "outputs": [],
   "source": [
    "print(np.ptp([1, 2, 7, 4]))\n",
    "print(np.median([1, 3, 2, 4]))"
   ]
  },
  {
   "cell_type": "code",
   "execution_count": null,
   "id": "2a7ddfaf-2382-4bab-989a-3c50f5dfbe0a",
   "metadata": {},
   "outputs": [],
   "source": [
    "print(np.isneginf(np.array([-np.inf, 0, np.inf])))\n",
    "print(np.isposinf(np.array([-np.inf, 0, np.inf])))"
   ]
  },
  {
   "cell_type": "code",
   "execution_count": null,
   "id": "93776932-3487-4070-8275-cdc3542d7889",
   "metadata": {},
   "outputs": [],
   "source": [
    "print(np.invert(np.array([True, False, True])))\n",
    "print(np.logical_xor([True, False], [False, False]))"
   ]
  },
  {
   "cell_type": "code",
   "execution_count": null,
   "id": "39bbc7e0-1d9b-4138-a87f-095b1b0220fd",
   "metadata": {},
   "outputs": [],
   "source": [
    "print(np.array([True, False, True]) & np.array([False, False, True]))\n",
    "print(np.array([True, False, True]) | np.array([False, False, True]))"
   ]
  },
  {
   "cell_type": "code",
   "execution_count": null,
   "id": "1e16e9cd-ba40-456b-8ace-b62699c145a1",
   "metadata": {},
   "outputs": [],
   "source": [
    "print(np.copy([1, 2, 3]))\n",
    "print(np.deepcopy(np.array([1, 2, 3])) if 'deepcopy' in globals() else \"Requires import\")"
   ]
  },
  {
   "cell_type": "code",
   "execution_count": null,
   "id": "cba2391f-eef4-4536-9316-0b89cd2137fd",
   "metadata": {},
   "outputs": [],
   "source": [
    "print(np.ndim(np.array([[[1]]])))\n",
    "print(np.itemsize * np.array([1, 2, 3]).nbytes // np.array([1, 2, 3]).size)"
   ]
  },
  {
   "cell_type": "code",
   "execution_count": null,
   "id": "85b475e8-623b-4627-980e-d89b259f90b8",
   "metadata": {},
   "outputs": [],
   "source": [
    "print(np.shape(np.array([[1, 2], [3, 4]])))\n",
    "print(np.size(np.array([[1, 2], [3, 4]])))"
   ]
  },
  {
   "cell_type": "code",
   "execution_count": null,
   "id": "790ea8b7-3114-486f-902e-55103d87a505",
   "metadata": {},
   "outputs": [],
   "source": [
    "print(np.array_equal([1, 2], [1, 2]))\n",
    "print(np.array_equiv([1, 2], [[1, 2], [1, 2]]))"
   ]
  },
  {
   "cell_type": "code",
   "execution_count": null,
   "id": "1df78e61-abf9-4b57-b756-89021e4cc7ec",
   "metadata": {},
   "outputs": [],
   "source": [
    "print(np.cross([1, 0, 0], [0, 1, 0]))\n",
    "print(np.tensordot([[1, 2], [3, 4]], [[5, 6], [7, 8]], axes=1))"
   ]
  },
  {
   "cell_type": "code",
   "execution_count": null,
   "id": "ab0455b8-b2f3-419c-b891-024ab325c813",
   "metadata": {},
   "outputs": [],
   "source": [
    "print(np.matmul([[1, 0], [0, 1]], [[4, 1], [2, 2]]))\n",
    "print(np.vdot([1+2j, 3+4j], [5+6j, 7+8j]))"
   ]
  },
  {
   "cell_type": "code",
   "execution_count": null,
   "id": "af74ff6d-b371-4d59-a12d-9e22a0fd9a0f",
   "metadata": {},
   "outputs": [],
   "source": [
    "print(np.inner([1, 2], [3, 4]))\n",
    "print(np.dot([1, 2], [3, 4]))"
   ]
  },
  {
   "cell_type": "code",
   "execution_count": null,
   "id": "4c4d20ab-eef7-4732-ba69-7f5a19b7d33c",
   "metadata": {},
   "outputs": [],
   "source": [
    "print(np.kron([[1, 2], [3, 4]], [[0, 5], [6, 7]]))\n",
    "print(np.outer([1, 2], [3, 4]))"
   ]
  },
  {
   "cell_type": "code",
   "execution_count": null,
   "id": "52e65078-3edf-4d00-9e78-c73e019ea0b9",
   "metadata": {},
   "outputs": [],
   "source": [
    "print(np.triu(np.ones((3, 3))))\n",
    "print(np.tril(np.ones((3, 3))))"
   ]
  },
  {
   "cell_type": "code",
   "execution_count": null,
   "id": "59759bcb-05e4-4ee3-9cb8-b97fca1ff58e",
   "metadata": {},
   "outputs": [],
   "source": [
    "print(np.linalg.solve([[2, 1], [1, 3]], [8, 13]))\n",
    "print(np.linalg.lstsq([[1, 1], [1, -1]], [2, 0], rcond=None)[0])"
   ]
  },
  {
   "cell_type": "code",
   "execution_count": null,
   "id": "1195870c-8f4d-4df8-9d33-16eb9d560daf",
   "metadata": {},
   "outputs": [],
   "source": [
    "print(np.linalg.eigvals([[1, -1], [1, 1]]))\n",
    "print(np.linalg.eig([[1, -1], [1, 1]]))"
   ]
  },
  {
   "cell_type": "code",
   "execution_count": null,
   "id": "615a7135-6638-47ee-b76a-72fca8d4714d",
   "metadata": {},
   "outputs": [],
   "source": [
    "print(np.trace(np.eye(3)))\n",
    "print(np.linalg.matrix_power([[2, 0], [0, 2]], 3))"
   ]
  },
  {
   "cell_type": "code",
   "execution_count": null,
   "id": "b17d333f-5596-46a1-8dbc-4fbe588b50c7",
   "metadata": {},
   "outputs": [],
   "source": [
    "print(np.flipud([[1, 2], [3, 4]]))\n",
    "print(np.rot90([[1, 2], [3, 4]]))"
   ]
  },
  {
   "cell_type": "code",
   "execution_count": null,
   "id": "3d4f02dc-4120-4616-a73b-a93cfb99f8bb",
   "metadata": {},
   "outputs": [],
   "source": [
    "print(np.flip([1, 2, 3]))\n",
    "print(np.fliplr([[1, 2], [3, 4]]))"
   ]
  },
  {
   "cell_type": "code",
   "execution_count": null,
   "id": "c30f54a5-2cf5-4c8e-a7a7-b706ca35d7aa",
   "metadata": {},
   "outputs": [],
   "source": [
    "print(np.tile([1, 2], 3))\n",
    "print(np.roll([1, 2, 3, 4], 2))"
   ]
  },
  {
   "cell_type": "code",
   "execution_count": null,
   "id": "5abd0251-fab1-438f-a8ea-a60bfa3d93cc",
   "metadata": {},
   "outputs": [],
   "source": [
    "print(np.resize([1, 2], (2, 3)))\n",
    "print(np.repeat([1, 2, 3], 2))"
   ]
  },
  {
   "cell_type": "code",
   "execution_count": null,
   "id": "006e93ff-8503-45f5-be10-26cc471916b9",
   "metadata": {},
   "outputs": [],
   "source": [
    "print(np.percentile([1, 2, 3, 4, 5], 50))\n",
    "print(np.quantile([1, 2, 3, 4, 5], 0.75))"
   ]
  },
  {
   "cell_type": "code",
   "execution_count": null,
   "id": "431ebf05-30a5-4473-acf0-e88311787cd6",
   "metadata": {},
   "outputs": [],
   "source": [
    "print(np.bincount([1, 1, 2, 2, 2, 3]))\n",
    "print(np.histogram_bin_edges([1, 2, 1, 3, 4, 5]))\n"
   ]
  },
  {
   "cell_type": "code",
   "execution_count": null,
   "id": "6376e6d2-4b5b-467a-99a8-d675b2848380",
   "metadata": {},
   "outputs": [],
   "source": [
    "print(np.trim_zeros([0, 0, 1, 2, 0, 0]))\n",
    "print(np.unique([1, 2, 2, 3, 3, 3]))"
   ]
  },
  {
   "cell_type": "code",
   "execution_count": null,
   "id": "c61f6c28-97f8-4575-aad6-1e9f6f32ef96",
   "metadata": {},
   "outputs": [],
   "source": [
    "print(np.diff([1, 2, 4, 7]))\n",
    "print(np.ediff1d([1, 2, 4, 7]))"
   ]
  },
  {
   "cell_type": "code",
   "execution_count": null,
   "id": "e41fc796-2af6-476a-bd4a-57ffe2aa3393",
   "metadata": {},
   "outputs": [],
   "source": [
    "print(np.cumsum([1, 2, 3]))\n",
    "print(np.cumprod([1, 2, 3, 4]))\n"
   ]
  }
 ],
 "metadata": {
  "kernelspec": {
   "display_name": "Python 3 (ipykernel)",
   "language": "python",
   "name": "python3"
  },
  "language_info": {
   "codemirror_mode": {
    "name": "ipython",
    "version": 3
   },
   "file_extension": ".py",
   "mimetype": "text/x-python",
   "name": "python",
   "nbconvert_exporter": "python",
   "pygments_lexer": "ipython3",
   "version": "3.11.13"
  }
 },
 "nbformat": 4,
 "nbformat_minor": 5
}

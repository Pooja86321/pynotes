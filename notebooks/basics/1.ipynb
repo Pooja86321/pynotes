{
 "cells": [
  {
   "cell_type": "code",
   "execution_count": null,
   "id": "7d477ec7-292f-434e-b91d-4ac1c60207ca",
   "metadata": {},
   "outputs": [],
   "source": [
    "import numpy as np"
   ]
  },
  {
   "cell_type": "code",
   "execution_count": null,
   "id": "9875f3e2-3d3c-40cb-a5ce-0861024d84b5",
   "metadata": {},
   "outputs": [],
   "source": [
    "print(np.array([1.5, 2.3, 3.7]).astype(int))\n",
    "print(np.datetime64('today', 'D'))\n",
    "print(np.arange('2025-01', '2026-01', dtype='datetime64[M]'))\n",
    "print(np.diff(np.arange('2025-01', '2025-04', dtype='datetime64[M]')))\n",
    "print(np.arange(1000000) * 2)\n",
    "print(np.where(np.array([1, 2, 3]) > 2, 100, 0))\n",
    "print(np.arange(10).view().base is np.arange(10))"
   ]
  },
  {
   "cell_type": "code",
   "execution_count": null,
   "id": "8542a3a3-4a0c-4cdb-a2ff-5259022eb389",
   "metadata": {},
   "outputs": [],
   "source": [
    "a = np.array([1, 2, 3])\n",
    "b = a.view()\n",
    "b[0] = 100\n",
    "print(a)"
   ]
  },
  {
   "cell_type": "code",
   "execution_count": null,
   "id": "80290cb9-9dc8-4754-b24e-879541bb5d2a",
   "metadata": {},
   "outputs": [],
   "source": [
    "print(np.arange(1000000)[::100])"
   ]
  },
  {
   "cell_type": "code",
   "execution_count": null,
   "id": "fedbc09c-9dc5-4a1a-8254-645fa570146b",
   "metadata": {},
   "outputs": [],
   "source": [
    "x = np.array([1, 2, 3])\n",
    "x *= 2\n",
    "print(x)"
   ]
  },
  {
   "cell_type": "code",
   "execution_count": null,
   "id": "2f86ab02-b887-49ee-a9fe-3e7de4421ac8",
   "metadata": {},
   "outputs": [],
   "source": [
    "x = np.array([1.0, 2.0, 3.0])\n",
    "y = np.empty_like(x)\n",
    "np.add(x, x, out=y)\n",
    "print(y)"
   ]
  },
  {
   "cell_type": "code",
   "execution_count": null,
   "id": "4a8187e4-1e19-43d0-8d2f-cbc6dc5f4208",
   "metadata": {},
   "outputs": [],
   "source": [
    "print(np.allclose(np.array([1.00001, 1.00002]), np.array([1.00002, 1.00001]), atol=1e-4))"
   ]
  },
  {
   "cell_type": "code",
   "execution_count": null,
   "id": "9ab48025-7dd9-4084-b701-ec0b5643c3a0",
   "metadata": {},
   "outputs": [],
   "source": [
    "print(np.arange(12).reshape(3, 4).sum(axis=0))"
   ]
  },
  {
   "cell_type": "code",
   "execution_count": null,
   "id": "4be69d6d-c80d-437e-a1c6-3a415353abb2",
   "metadata": {},
   "outputs": [],
   "source": [
    "print(np.random.rand(5).argmax())"
   ]
  },
  {
   "cell_type": "code",
   "execution_count": null,
   "id": "f2f8cb3a-b9bf-4dcf-afd3-5a5a67d49def",
   "metadata": {},
   "outputs": [],
   "source": [
    "print(np.sort(np.random.randint(1, 10, size=5)))"
   ]
  },
  {
   "cell_type": "code",
   "execution_count": null,
   "id": "8d216aa7-23cb-48f3-bce1-f4c53e3e0202",
   "metadata": {},
   "outputs": [],
   "source": [
    "print(np.linspace(0, 10, 5))"
   ]
  },
  {
   "cell_type": "code",
   "execution_count": null,
   "id": "6a8987b5-3a5b-412e-a5be-a8d60b51e59f",
   "metadata": {},
   "outputs": [],
   "source": [
    "print(np.dot(np.array([[1, 2], [3, 4]]), np.array([[5, 6], [7, 8]])))"
   ]
  },
  {
   "cell_type": "code",
   "execution_count": null,
   "id": "e03fdb9c-dd73-4a4a-895c-a65f01b68d00",
   "metadata": {},
   "outputs": [],
   "source": [
    "print(np.cumsum(np.array([1, 2, 3, 4, 5])))"
   ]
  },
  {
   "cell_type": "code",
   "execution_count": null,
   "id": "2c59ce31-fad9-4a46-8e1a-274c13fb45ee",
   "metadata": {},
   "outputs": [],
   "source": [
    "print(np.diff(np.array([1, 2, 3, 4, 5])))"
   ]
  },
  {
   "cell_type": "code",
   "execution_count": null,
   "id": "49a077ab-23d6-4a05-91ab-a17dd0c2e0be",
   "metadata": {},
   "outputs": [],
   "source": [
    "print(np.cross(np.array([1, 2, 3]), np.array([4, 5, 6])))\n"
   ]
  },
  {
   "cell_type": "code",
   "execution_count": null,
   "id": "b3aaa767-bb75-4d5a-9d3c-b2503e8e7905",
   "metadata": {},
   "outputs": [],
   "source": [
    "print(np.median(np.array([1, 2, 3, 4, 5])))\n"
   ]
  },
  {
   "cell_type": "code",
   "execution_count": null,
   "id": "038ebd7c-0a3c-4fc6-8e7a-ec70ff5c7376",
   "metadata": {},
   "outputs": [],
   "source": [
    "print(np.mean(np.array([1, 2, 3, 4, 5])))\n"
   ]
  },
  {
   "cell_type": "code",
   "execution_count": null,
   "id": "5156d3bb-eba4-4338-accb-4628ec2dea41",
   "metadata": {},
   "outputs": [],
   "source": [
    "print(np.std(np.array([1, 2, 3, 4, 5])))\n"
   ]
  },
  {
   "cell_type": "code",
   "execution_count": null,
   "id": "497e9a96-d1f5-40ce-9202-fee8b179eb2d",
   "metadata": {},
   "outputs": [],
   "source": [
    "print(np.var(np.array([1, 2, 3, 4, 5])))\n"
   ]
  },
  {
   "cell_type": "code",
   "execution_count": null,
   "id": "66620b5b-487d-489a-ab80-a2f271f2e652",
   "metadata": {},
   "outputs": [],
   "source": [
    "print(np.ptp(np.array([1, 2, 3, 4, 5])))\n"
   ]
  },
  {
   "cell_type": "code",
   "execution_count": null,
   "id": "5483d6e1-375b-4eaf-ac01-0dfcde7fa7d0",
   "metadata": {},
   "outputs": [],
   "source": [
    "print(np.percentile(np.array([1, 2, 3, 4, 5]), 50))\n"
   ]
  },
  {
   "cell_type": "code",
   "execution_count": null,
   "id": "cb6bde38-d8f8-431c-b759-a867e3cb205f",
   "metadata": {},
   "outputs": [],
   "source": [
    "print(np.unique(np.array([1, 2, 2, 3, 3, 3])))\n"
   ]
  },
  {
   "cell_type": "code",
   "execution_count": null,
   "id": "62efc9d7-1f9c-4c1e-ae5d-52f6cd8caf69",
   "metadata": {},
   "outputs": [],
   "source": [
    "print(np.bincount(np.array([1, 2, 2, 3, 3, 3])))\n"
   ]
  },
  {
   "cell_type": "code",
   "execution_count": null,
   "id": "8f31ad6e-0d25-4937-bbd6-a86a550567da",
   "metadata": {},
   "outputs": [],
   "source": [
    "print(np.flip(np.array([1, 2, 3, 4, 5])))\n"
   ]
  },
  {
   "cell_type": "code",
   "execution_count": null,
   "id": "37cd63ce-1a3c-43dd-a187-9d57e6d01e49",
   "metadata": {},
   "outputs": [],
   "source": [
    "print(np.transpose(np.array([[1, 2], [3, 4]])))\n"
   ]
  },
  {
   "cell_type": "code",
   "execution_count": null,
   "id": "d9d0d6eb-8807-4e42-a1ca-e2f89a6e7d9e",
   "metadata": {},
   "outputs": [],
   "source": [
    "print(np.nonzero(np.array([1, 2, 3, 4, 5]) > 3))\n"
   ]
  },
  {
   "cell_type": "code",
   "execution_count": null,
   "id": "0461a0b5-3451-4ca7-8670-37d8016f55c2",
   "metadata": {},
   "outputs": [],
   "source": [
    "print(np.where(np.array([1, 2, 3, 4, 5]) % 2 == 0))\n"
   ]
  },
  {
   "cell_type": "code",
   "execution_count": null,
   "id": "f62876b1-e7b7-445d-8bd0-054ebdd905fd",
   "metadata": {},
   "outputs": [],
   "source": [
    "print(np.clip(np.array([1, 2, 3, 4, 5]), 2, 4))\n"
   ]
  },
  {
   "cell_type": "code",
   "execution_count": null,
   "id": "747d7b94-33ea-4410-ba72-2179957e71a9",
   "metadata": {},
   "outputs": [],
   "source": [
    "print(np.round(np.array([1, 2, 3, 4, 5]) / 2))\n"
   ]
  },
  {
   "cell_type": "code",
   "execution_count": null,
   "id": "4e3fd837-a930-4b2e-a91d-1be4c192ad20",
   "metadata": {},
   "outputs": [],
   "source": [
    "print(np.logical_and(np.array([True, False, True]), [False, False, True]))\n"
   ]
  },
  {
   "cell_type": "code",
   "execution_count": null,
   "id": "3e8d91d9-cc2f-40cf-99eb-d2b97cfb3567",
   "metadata": {},
   "outputs": [],
   "source": [
    "print(np.logical_or(np.array([True, False, True]), [False, False, True]))\n"
   ]
  },
  {
   "cell_type": "code",
   "execution_count": null,
   "id": "3eb8da34-f8b5-470a-a45d-c6ba541d7326",
   "metadata": {},
   "outputs": [],
   "source": [
    "print(np.argmax(np.array([[1, 2, 3], [4, 5, 6]]), axis=1))\n"
   ]
  },
  {
   "cell_type": "code",
   "execution_count": null,
   "id": "5a3d9aa6-2b1c-4f39-a2fe-2f05ff129e2c",
   "metadata": {},
   "outputs": [],
   "source": [
    "\n",
    "print(np.argmin(np.array([[1, 2, 3], [4, 5, 6]]), axis=0))\n"
   ]
  },
  {
   "cell_type": "code",
   "execution_count": null,
   "id": "ee2073f8-7a2e-409a-ab44-e71de016be53",
   "metadata": {},
   "outputs": [],
   "source": [
    "print(np.concatenate([np.array([1, 2, 3]), np.array([4, 5, 6])]))\n"
   ]
  },
  {
   "cell_type": "code",
   "execution_count": null,
   "id": "4973b97f-a847-42ab-9e29-f2033bd56596",
   "metadata": {},
   "outputs": [],
   "source": [
    "print(np.vstack([np.array([1, 2, 3]), np.array([4, 5, 6])]))\n"
   ]
  },
  {
   "cell_type": "code",
   "execution_count": null,
   "id": "de18e6d7-1536-47a3-97a8-2f302ff16ebb",
   "metadata": {},
   "outputs": [],
   "source": [
    "print(np.hstack([np.array([1, 2, 3]), np.array([4, 5, 6])]))\n"
   ]
  },
  {
   "cell_type": "code",
   "execution_count": null,
   "id": "03d621e8-d55c-4d34-a15e-5bf95aec8ec4",
   "metadata": {},
   "outputs": [],
   "source": [
    "print(np.split(np.arange(10), 2))\n"
   ]
  },
  {
   "cell_type": "code",
   "execution_count": null,
   "id": "4a06a24f-76dd-4d5a-aeb4-095a0223d19e",
   "metadata": {},
   "outputs": [],
   "source": [
    "print(np.array_split(np.arange(10), 3))\n"
   ]
  },
  {
   "cell_type": "code",
   "execution_count": null,
   "id": "d9360e0d-e201-4522-b947-26a0c8e743be",
   "metadata": {},
   "outputs": [],
   "source": [
    "print(np.repeat(np.array([1, 2, 3]), 3))\n"
   ]
  },
  {
   "cell_type": "code",
   "execution_count": null,
   "id": "90ac19f2-b0dc-401b-a057-1b51c7a26d18",
   "metadata": {},
   "outputs": [],
   "source": [
    "print(np.tile(np.array([1, 2, 3]), 3))\n"
   ]
  },
  {
   "cell_type": "code",
   "execution_count": null,
   "id": "b8aa2ba5-8e9d-4fb1-b4a8-58a6afa33066",
   "metadata": {},
   "outputs": [],
   "source": [
    "print(np.roll(np.array([1, 2, 3, 4, 5]), 2))\n"
   ]
  },
  {
   "cell_type": "code",
   "execution_count": null,
   "id": "c80c45fe-c5d9-401a-88c7-482ea6e2d149",
   "metadata": {},
   "outputs": [],
   "source": [
    "print(np.power(np.array([1, 2, 3]), 3))\n"
   ]
  },
  {
   "cell_type": "code",
   "execution_count": null,
   "id": "73f6a1b5-a063-45df-b7da-1c4a14416afc",
   "metadata": {},
   "outputs": [],
   "source": [
    "print(np.mod(np.array([10, 11, 12]), 5))\n"
   ]
  },
  {
   "cell_type": "code",
   "execution_count": null,
   "id": "f4ddc23f-f3c0-4901-9f00-c944f3e15af7",
   "metadata": {},
   "outputs": [],
   "source": [
    "print(np.remainder(np.array([10, 11, 12]), 5))\n"
   ]
  },
  {
   "cell_type": "code",
   "execution_count": null,
   "id": "010b9e81-735e-4201-9ae8-27e0911d1fca",
   "metadata": {},
   "outputs": [],
   "source": [
    "print(np.remainder(np.array([10, 11, 12]), 5))\n"
   ]
  },
  {
   "cell_type": "code",
   "execution_count": null,
   "id": "1c81e6da-e959-4131-9253-69773e11764a",
   "metadata": {},
   "outputs": [],
   "source": [
    "print(np.sign(np.array([-3, 0, 3])))\n"
   ]
  },
  {
   "cell_type": "code",
   "execution_count": null,
   "id": "41db71ae-06ea-4e7c-b089-d67788ec943c",
   "metadata": {},
   "outputs": [],
   "source": [
    "print(np.abs(np.array([-3, 0, 3])))\n"
   ]
  },
  {
   "cell_type": "code",
   "execution_count": null,
   "id": "db57967c-d220-4bb4-8ce3-cf38604d4d1f",
   "metadata": {},
   "outputs": [],
   "source": [
    "print(np.sqrt(np.array([1, 4, 9, 16])))\n"
   ]
  },
  {
   "cell_type": "code",
   "execution_count": null,
   "id": "fd5e9aa8-0342-4954-bc31-09f090de6063",
   "metadata": {},
   "outputs": [],
   "source": [
    "print(np.cbrt(np.array([1, 8, 27, 64])))\n"
   ]
  },
  {
   "cell_type": "code",
   "execution_count": null,
   "id": "c5ac62a5-fda0-48a2-8f48-b8b2b3ade6ca",
   "metadata": {},
   "outputs": [],
   "source": [
    "print(np.exp(np.array([0, 1, 2])))\n"
   ]
  },
  {
   "cell_type": "code",
   "execution_count": null,
   "id": "0d714f27-706f-4fd1-b677-4798b0251dc3",
   "metadata": {},
   "outputs": [],
   "source": [
    "print(np.log(np.array([1, np.e, np.e**2])))\n"
   ]
  },
  {
   "cell_type": "code",
   "execution_count": null,
   "id": "a0389935-6cbf-4ce6-8e69-25238daf9f1b",
   "metadata": {},
   "outputs": [],
   "source": [
    "print(np.log10(np.array([1, 10, 100])))\n"
   ]
  },
  {
   "cell_type": "code",
   "execution_count": null,
   "id": "e2771ad6-33d4-4ecd-9ab2-56362f2ee96f",
   "metadata": {},
   "outputs": [],
   "source": [
    "print(np.log2(np.array([1, 2, 4])))\n"
   ]
  },
  {
   "cell_type": "code",
   "execution_count": null,
   "id": "a6e4f8a6-036b-4f10-a372-5101160736cc",
   "metadata": {},
   "outputs": [],
   "source": [
    "print(np.sin(np.array([0, np.pi/2, np.pi])))\n"
   ]
  },
  {
   "cell_type": "code",
   "execution_count": null,
   "id": "69e565f4-57ef-45fc-a12d-a209b79ec407",
   "metadata": {},
   "outputs": [],
   "source": [
    "print(np.cos(np.array([0, np.pi/2, np.pi])))\n"
   ]
  },
  {
   "cell_type": "code",
   "execution_count": null,
   "id": "34b94ec0-bc03-4cdb-9232-bbf8763d6bab",
   "metadata": {},
   "outputs": [],
   "source": [
    "print(np.tan(np.array([0, np.pi/4, np.pi/2])))\n"
   ]
  },
  {
   "cell_type": "code",
   "execution_count": null,
   "id": "1c2f4102-e147-478a-b6f6-218c9c0207d4",
   "metadata": {},
   "outputs": [],
   "source": [
    "print(np.arcsin(np.array([0, 0.5, 1])))\n"
   ]
  },
  {
   "cell_type": "code",
   "execution_count": null,
   "id": "b3b59b59-2663-4596-a688-44cd8f2bacb5",
   "metadata": {},
   "outputs": [],
   "source": [
    "print(np.arccos(np.array([1, 0.5, 0])))\n"
   ]
  },
  {
   "cell_type": "code",
   "execution_count": null,
   "id": "4b1f9e0c-a6ab-4491-ae3f-f70980dc66a3",
   "metadata": {},
   "outputs": [],
   "source": [
    "print(np.arctan(np.array([0, 1, np.inf])))\n"
   ]
  },
  {
   "cell_type": "code",
   "execution_count": null,
   "id": "c03a780a-14e5-4b87-a245-83560e5cb575",
   "metadata": {},
   "outputs": [],
   "source": [
    "print(np.deg2rad(np.array([0, 90, 180])))\n"
   ]
  },
  {
   "cell_type": "code",
   "execution_count": null,
   "id": "379db4b3-3a4a-4b4e-98b8-033e62a31a9a",
   "metadata": {},
   "outputs": [],
   "source": [
    "print(np.rad2deg(np.array([0, np.pi/2, np.pi])))\n"
   ]
  },
  {
   "cell_type": "code",
   "execution_count": null,
   "id": "417d8dfe-72bb-4ede-aa43-24581e897990",
   "metadata": {},
   "outputs": [],
   "source": [
    "print(np.sinh(np.array([0, 1, 2])))\n"
   ]
  },
  {
   "cell_type": "code",
   "execution_count": null,
   "id": "f95ff5ba-e945-4c6f-b561-3910719c01e4",
   "metadata": {},
   "outputs": [],
   "source": [
    "print(np.cosh(np.array([0, 1, 2])))\n"
   ]
  },
  {
   "cell_type": "code",
   "execution_count": null,
   "id": "ce5435c8-d9a7-44af-a0ad-16ae4770b237",
   "metadata": {},
   "outputs": [],
   "source": [
    "print(np.tanh(np.array([0, 1, 2])))\n"
   ]
  },
  {
   "cell_type": "code",
   "execution_count": null,
   "id": "857ed921-2b57-4458-af9a-280042c39330",
   "metadata": {},
   "outputs": [],
   "source": [
    "print(np.arcsinh(np.array([0, 1, 2])))\n"
   ]
  },
  {
   "cell_type": "code",
   "execution_count": null,
   "id": "0207959b-69db-4739-9770-96224255aac9",
   "metadata": {},
   "outputs": [],
   "source": [
    "print(np.arccosh(np.array([1, 2, 3])))\n"
   ]
  },
  {
   "cell_type": "code",
   "execution_count": null,
   "id": "8cc0854d-de7b-487d-a7e5-f50e92544dd8",
   "metadata": {},
   "outputs": [],
   "source": [
    "print(np.arctanh(np.array([0, 0.5, 0.9])))\n"
   ]
  },
  {
   "cell_type": "code",
   "execution_count": null,
   "id": "998b4212-e5d0-40db-8ca1-fe8c1a2a9b39",
   "metadata": {},
   "outputs": [],
   "source": [
    "print(np.isnan(np.array([1, np.nan, 3])))\n"
   ]
  },
  {
   "cell_type": "code",
   "execution_count": null,
   "id": "509f0a56-c301-4a0c-9a0a-dbfc0e710e02",
   "metadata": {},
   "outputs": [],
   "source": [
    "print(np.isfinite(np.array([1, np.inf, 3])))\n"
   ]
  },
  {
   "cell_type": "code",
   "execution_count": null,
   "id": "9766ba90-c309-4a6e-b808-7649bd71049b",
   "metadata": {},
   "outputs": [],
   "source": [
    "print(np.isinf(np.array([1, np.inf, -np.inf])))\n"
   ]
  },
  {
   "cell_type": "code",
   "execution_count": null,
   "id": "ae756a9c-7e1a-459e-985b-4df53d8380bf",
   "metadata": {},
   "outputs": [],
   "source": [
    "print(np.round(np.array([1.2345, 2.3456]), decimals=2))\n"
   ]
  },
  {
   "cell_type": "code",
   "execution_count": null,
   "id": "ee538130-fc36-4201-8a84-9e25f43aa016",
   "metadata": {},
   "outputs": [],
   "source": [
    "print(np.fix(np.array([1.7, -1.7])))\n"
   ]
  },
  {
   "cell_type": "code",
   "execution_count": null,
   "id": "85a32f0b-3bd5-49c0-b3f2-b377ce32dcce",
   "metadata": {},
   "outputs": [],
   "source": [
    "print(np.floor(np.array([1.7, -1.7])))\n"
   ]
  },
  {
   "cell_type": "code",
   "execution_count": null,
   "id": "22b301da-5188-4126-b6f7-415e336bba38",
   "metadata": {},
   "outputs": [],
   "source": [
    "print(np.ceil(np.array([1.7, -1.7])))\n"
   ]
  },
  {
   "cell_type": "code",
   "execution_count": null,
   "id": "9a52e2c1-727b-4679-85f0-d7ab1522108a",
   "metadata": {},
   "outputs": [],
   "source": [
    "print(np.trunc(np.array([1.7, -1.7])))\n"
   ]
  },
  {
   "cell_type": "code",
   "execution_count": null,
   "id": "fd9f9ec4-9ad6-493e-a1aa-ca72271036ac",
   "metadata": {},
   "outputs": [],
   "source": [
    "print(np.rint(np.array([1.5, 2.5, 3.5])))\n"
   ]
  },
  {
   "cell_type": "code",
   "execution_count": null,
   "id": "6907bdb7-0d79-4d6e-ae59-cce5d32677b2",
   "metadata": {},
   "outputs": [],
   "source": [
    "print(np.maximum(np.array([1, 5, 3]), np.array([3, 2, 4])))\n"
   ]
  },
  {
   "cell_type": "code",
   "execution_count": null,
   "id": "11c8c424-a323-41b6-b0b4-fcb344349250",
   "metadata": {},
   "outputs": [],
   "source": [
    "print(np.minimum(np.array([1, 5, 3]), np.array([3, 2, 4])))\n"
   ]
  },
  {
   "cell_type": "code",
   "execution_count": null,
   "id": "25d8e569-d4c6-4ce2-9d34-d0a12d1cc855",
   "metadata": {},
   "outputs": [],
   "source": [
    "print(np.gcd.reduce(np.array([24, 36, 18])))\n"
   ]
  },
  {
   "cell_type": "code",
   "execution_count": null,
   "id": "008b4bec-038b-4e15-bdd3-c3596254d3d8",
   "metadata": {},
   "outputs": [],
   "source": [
    "print(np.lcm.reduce(np.array([24, 36, 18])))\n"
   ]
  },
  {
   "cell_type": "code",
   "execution_count": null,
   "id": "1f8b790a-6e38-4adc-a511-b9bef2b5bde3",
   "metadata": {},
   "outputs": [],
   "source": [
    "print(np.mgrid[0:3, 0:3])\n"
   ]
  },
  {
   "cell_type": "code",
   "execution_count": null,
   "id": "390b056f-768b-458b-9d45-fd734426d16f",
   "metadata": {},
   "outputs": [],
   "source": [
    "print(np.ogrid[0:3, 0:3])\n"
   ]
  },
  {
   "cell_type": "code",
   "execution_count": null,
   "id": "12ce962e-9ad6-481c-aeee-18f560d19295",
   "metadata": {},
   "outputs": [],
   "source": [
    "print(np.meshgrid(np.array([1, 2, 3]), np.array([4, 5])))\n"
   ]
  },
  {
   "cell_type": "code",
   "execution_count": null,
   "id": "34899952-df75-4da2-9d7c-5b2505f4020a",
   "metadata": {},
   "outputs": [],
   "source": [
    "print(np.diag(np.array([1, 2, 3])))\n"
   ]
  },
  {
   "cell_type": "code",
   "execution_count": null,
   "id": "b947fd71-cbb3-4ff1-94f1-83cbc04a2de4",
   "metadata": {},
   "outputs": [],
   "source": [
    "print(np.trace(np.array([[1, 2], [3, 4]])))\n"
   ]
  },
  {
   "cell_type": "code",
   "execution_count": null,
   "id": "6a733038-7ad8-4a5b-80da-c929787dda66",
   "metadata": {},
   "outputs": [],
   "source": [
    "print(np.linalg.det(np.array([[1, 2], [3, 4]])))\n"
   ]
  },
  {
   "cell_type": "code",
   "execution_count": null,
   "id": "77758647-67fe-4850-9b69-24d67e057c91",
   "metadata": {},
   "outputs": [],
   "source": [
    "print(np.linalg.inv(np.array([[1, 2], [3, 4]])))\n"
   ]
  },
  {
   "cell_type": "code",
   "execution_count": null,
   "id": "8eafc1ea-34e1-49ed-a082-7b30d9bdfdd8",
   "metadata": {},
   "outputs": [],
   "source": [
    "print(np.linalg.eigvals(np.array([[1, 2], [3, 4]])))\n"
   ]
  },
  {
   "cell_type": "code",
   "execution_count": null,
   "id": "f0ff60a2-2172-4ab1-b82d-7c05008d32f6",
   "metadata": {},
   "outputs": [],
   "source": [
    "print(np.linalg.norm(np.array([1, 2, 3])))\n"
   ]
  },
  {
   "cell_type": "code",
   "execution_count": null,
   "id": "95f18d5e-98f8-4c22-a191-110c46b525c0",
   "metadata": {},
   "outputs": [],
   "source": [
    "\n",
    "print(np.linalg.solve(np.array([[3, 1], [1, 2]]), np.array([9, 8])))\n"
   ]
  },
  {
   "cell_type": "code",
   "execution_count": null,
   "id": "25724ecb-a123-46ba-8ae0-197fd0398872",
   "metadata": {},
   "outputs": [],
   "source": [
    "print(np.linalg.matrix_rank(np.array([[1, 2], [2, 4]])))\n"
   ]
  },
  {
   "cell_type": "code",
   "execution_count": null,
   "id": "c46a37f4-ca34-4b9b-9ebf-b2ffc4664f2b",
   "metadata": {},
   "outputs": [],
   "source": [
    "print(np.linalg.svd(np.array([[1, 2], [3, 4]])))\n"
   ]
  },
  {
   "cell_type": "code",
   "execution_count": null,
   "id": "15d07b77-9752-4281-828c-a50f6144c709",
   "metadata": {},
   "outputs": [],
   "source": [
    "print(np.linalg.cholesky(np.array([[4, 1], [1, 3]])))\n"
   ]
  },
  {
   "cell_type": "code",
   "execution_count": null,
   "id": "1add48d1-cf69-4c6c-8cc6-bca18207ebd8",
   "metadata": {},
   "outputs": [],
   "source": [
    "print(np.linalg.qr(np.array([[1, 2], [3, 4]])))\n"
   ]
  },
  {
   "cell_type": "code",
   "execution_count": null,
   "id": "446b09e2-cb24-41d5-8110-a5b5bdf2a0c5",
   "metadata": {},
   "outputs": [],
   "source": [
    "print(np.linalg.pinv(np.array([[1, 2], [3, 4]])))\n"
   ]
  },
  {
   "cell_type": "code",
   "execution_count": null,
   "id": "f2804e2f-c94f-4a61-870a-a0bafae16b6d",
   "metadata": {},
   "outputs": [],
   "source": [
    "print(np.polynomial.polynomial.polyval(3, [1, 2, 3]))\n"
   ]
  },
  {
   "cell_type": "code",
   "execution_count": null,
   "id": "41c4a6b1-8309-4410-9f54-b551df03cb80",
   "metadata": {},
   "outputs": [],
   "source": [
    "print(np.roots([1, -3, 2]))\n",
    "print(np.correlate(np.array([1, 2, 3]), np.array([0, 1, 0.5])))"
   ]
  },
  {
   "cell_type": "code",
   "execution_count": null,
   "id": "841c009b-152e-4f11-862b-24c97e439619",
   "metadata": {},
   "outputs": [],
   "source": [
    "print(np.convolve(np.array([1, 2, 3]), np.array([0, 1, 0.5])))\n"
   ]
  },
  {
   "cell_type": "code",
   "execution_count": null,
   "id": "f3d004ea-567e-46f0-a549-2cafd35a9651",
   "metadata": {},
   "outputs": [],
   "source": [
    "print(np.fft.fft(np.array([1, 2, 3, 4])))\n"
   ]
  },
  {
   "cell_type": "code",
   "execution_count": null,
   "id": "a8eaa986-fad9-44d2-8c05-2548488f5e43",
   "metadata": {},
   "outputs": [],
   "source": [
    "print(np.fft.ifft(np.fft.fft(np.array([1, 2, 3, 4]))))\n"
   ]
  },
  {
   "cell_type": "code",
   "execution_count": null,
   "id": "8a607760-e5e4-48d9-ac53-0ccf70e72c03",
   "metadata": {},
   "outputs": [],
   "source": [
    "print(np.gradient(np.array([1, 2, 4, 7, 11])))\n"
   ]
  },
  {
   "cell_type": "code",
   "execution_count": null,
   "id": "28ff1d82-9415-47cb-8ce9-3667fefc70fa",
   "metadata": {},
   "outputs": [],
   "source": [
    "print(np.diff(np.array([1, 2, 4, 7, 11])))\n"
   ]
  },
  {
   "cell_type": "code",
   "execution_count": null,
   "id": "38c7305a-b416-4173-9ccb-3072f043a72f",
   "metadata": {},
   "outputs": [],
   "source": [
    "print(np.histogram(np.array([1, 2, 1, 3, 4, 2, 1]), bins=3))\n"
   ]
  },
  {
   "cell_type": "code",
   "execution_count": null,
   "id": "ee9f9ff2-5bb1-4e93-bb63-e4d171bc499e",
   "metadata": {},
   "outputs": [],
   "source": [
    "print(np.random.seed(0))\n"
   ]
  },
  {
   "cell_type": "code",
   "execution_count": null,
   "id": "9bafe76d-9670-4622-9e47-583cd2444914",
   "metadata": {},
   "outputs": [],
   "source": [
    "print(np.random.rand())\n"
   ]
  },
  {
   "cell_type": "code",
   "execution_count": null,
   "id": "e14f2b3d-71af-41fd-9d23-283f1beaf7b7",
   "metadata": {},
   "outputs": [],
   "source": [
    "print(np.random.randint(0, 10, 5))\n"
   ]
  },
  {
   "cell_type": "code",
   "execution_count": null,
   "id": "8aeb28aa-7ee7-41c1-89e0-50d11a2a54a8",
   "metadata": {},
   "outputs": [],
   "source": [
    "print(np.random.normal(0, 1, 5))\n"
   ]
  },
  {
   "cell_type": "code",
   "execution_count": null,
   "id": "5b9d1ea9-22f1-4ae0-8802-e99cc9fba0f2",
   "metadata": {},
   "outputs": [],
   "source": [
    "print(np.random.choice([1, 2, 3, 4], 3))\n"
   ]
  },
  {
   "cell_type": "code",
   "execution_count": null,
   "id": "89db2502-615e-4ff7-9993-2736b06aeb09",
   "metadata": {},
   "outputs": [],
   "source": [
    "print(np.random.shuffle(np.arange(5)))\n"
   ]
  },
  {
   "cell_type": "code",
   "execution_count": null,
   "id": "829b8726-afb2-4e01-95a2-55591374cf23",
   "metadata": {},
   "outputs": [],
   "source": [
    "print(np.random.permutation(np.arange(5)))\n"
   ]
  },
  {
   "cell_type": "code",
   "execution_count": null,
   "id": "72eeda2f-1c95-4570-af23-5ed5e48052bf",
   "metadata": {},
   "outputs": [],
   "source": [
    "print(np.eye(3))\n"
   ]
  },
  {
   "cell_type": "code",
   "execution_count": null,
   "id": "c72337d0-00d6-4ccf-83aa-19118da14ff3",
   "metadata": {},
   "outputs": [],
   "source": [
    "print(np.identity(3))\n"
   ]
  },
  {
   "cell_type": "code",
   "execution_count": null,
   "id": "3ba7bb80-1b7d-45cc-88ef-c77555726cb6",
   "metadata": {},
   "outputs": [],
   "source": [
    "print(np.zeros((3, 3)))\n"
   ]
  },
  {
   "cell_type": "code",
   "execution_count": null,
   "id": "e33930b3-bced-4f4a-931b-a70f1fcb4ced",
   "metadata": {},
   "outputs": [],
   "source": [
    "print(np.full((3, 3), 7))\n"
   ]
  },
  {
   "cell_type": "code",
   "execution_count": null,
   "id": "29f7b2b2-3ddf-4e64-81f4-77b4a67b3265",
   "metadata": {},
   "outputs": [],
   "source": [
    "print(np.ones((3, 3)))"
   ]
  },
  {
   "cell_type": "code",
   "execution_count": null,
   "id": "054bcb02-ea7a-4407-8729-2c5febf00347",
   "metadata": {},
   "outputs": [],
   "source": [
    "print(np.empty((3, 3)))"
   ]
  },
  {
   "cell_type": "code",
   "execution_count": null,
   "id": "99edb70e-bcbb-426d-8c8c-6dbea2d8b44a",
   "metadata": {},
   "outputs": [],
   "source": [
    "print(np.diag(np.arange(3)))"
   ]
  },
  {
   "cell_type": "code",
   "execution_count": null,
   "id": "144e4525-7e9f-43be-8276-4505cb577ffd",
   "metadata": {},
   "outputs": [],
   "source": [
    "print(np.tril(np.ones((3, 3))))"
   ]
  },
  {
   "cell_type": "code",
   "execution_count": null,
   "id": "5b3e4c7a-cf11-451e-863f-ebff477189f8",
   "metadata": {},
   "outputs": [],
   "source": [
    "print(np.meshgrid(np.linspace(0, 1, 3), np.linspace(0, 1, 3)))"
   ]
  },
  {
   "cell_type": "code",
   "execution_count": null,
   "id": "56aed7bd-a31c-4ef0-8e91-a547f001bce7",
   "metadata": {},
   "outputs": [],
   "source": [
    "print(np.where(np.array([1, 2, 3, 4]) > 2))"
   ]
  },
  {
   "cell_type": "code",
   "execution_count": null,
   "id": "9d27e530-dccc-4f2a-9b13-2816b0dbe4e7",
   "metadata": {},
   "outputs": [],
   "source": [
    "print(np.select([np.array([1, 2, 3, 4]) < 3"
   ]
  }
 ],
 "metadata": {
  "kernelspec": {
   "display_name": "Python 3 (ipykernel)",
   "language": "python",
   "name": "python3"
  },
  "language_info": {
   "codemirror_mode": {
    "name": "ipython",
    "version": 3
   },
   "file_extension": ".py",
   "mimetype": "text/x-python",
   "name": "python",
   "nbconvert_exporter": "python",
   "pygments_lexer": "ipython3",
   "version": "3.11.13"
  }
 },
 "nbformat": 4,
 "nbformat_minor": 5
}

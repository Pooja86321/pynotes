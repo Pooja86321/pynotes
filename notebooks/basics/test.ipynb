{
 "cells": [
  {
   "cell_type": "code",
   "execution_count": null,
   "id": "66251837-dcff-4659-9f86-8914ad3c0415",
   "metadata": {},
   "outputs": [],
   "source": [
    "import pandas as pd\n",
    "import matplotlib.pyplot as plt\n",
    "import seaborn as sns"
   ]
  },
  {
   "cell_type": "markdown",
   "id": "1ac827c7-9b8b-421a-bb64-843a5944dea7",
   "metadata": {},
   "source": [
    "new code added"
   ]
  },
  {
   "cell_type": "code",
   "execution_count": null,
   "id": "ce06ba14-9a1d-4d5e-ba5a-50e3d49ba410",
   "metadata": {},
   "outputs": [],
   "source": [
    "df = pd.read_csv(r'C:\\Users\\HP\\Desktop\\amazon_products.csv')\n",
    "df"
   ]
  },
  {
   "cell_type": "code",
   "execution_count": null,
   "id": "d5114430-5620-4a0e-9065-99b838d85214",
   "metadata": {},
   "outputs": [],
   "source": [
    "df.info()"
   ]
  },
  {
   "cell_type": "code",
   "execution_count": null,
   "id": "1c50b355-f10a-4e77-bf9d-e45b43967416",
   "metadata": {},
   "outputs": [],
   "source": [
    "<class 'pandas.core.frame.DataFrame'>\n",
    "RangeIndex: 10 entries, 0 to 9\n",
    "Data columns (total 4 columns):\n",
    " #   Column   Non-Null Count  Dtype  \n",
    "---  ------   --------------  -----  \n",
    " 0   Product  10 non-null     object \n",
    " 1   Price    10 non-null     int64  \n",
    " 2   Rating   10 non-null     float64\n",
    " 3   Reviews  10 non-null     int64  \n",
    "dtypes: float64(1), int64(2), object(1)\n",
    "memory usage: 452.0+ byte"
   ]
  },
  {
   "cell_type": "code",
   "execution_count": null,
   "id": "e1e1b149-f1b3-4ce8-86cf-10824d9190b6",
   "metadata": {},
   "outputs": [],
   "source": [
    "df.describe()"
   ]
  },
  {
   "cell_type": "code",
   "execution_count": null,
   "id": "6ec2e937-a636-49b0-b7e5-2c50dbce3a3c",
   "metadata": {},
   "outputs": [],
   "source": [
    "deals = df[df[\"Price\"] <= 1000].sort_values(\"Price\")\n",
    "deals"
   ]
  },
  {
   "cell_type": "code",
   "execution_count": null,
   "id": "d7acac52-9d5a-43c0-a05e-43d77a17f46e",
   "metadata": {},
   "outputs": [],
   "source": [
    "top_reviews = df.sort_values(\"Reviews\", ascending=False).head(5)\n",
    "top_reviews"
   ]
  },
  {
   "cell_type": "code",
   "execution_count": null,
   "id": "aa149c98-58b2-445e-8f67-0bda0f00e5af",
   "metadata": {},
   "outputs": [],
   "source": [
    "plt.figure(figsize=(10,6))\n",
    "sns.scatterplot(data=df, x=\"Rating\", y=\"Price\", size=\"Reviews\", hue=\"Product\", legend=False)\n",
    "plt.title(\"Product Price vs Rating\")\n",
    "plt.xlabel(\"Rating\")\n",
    "plt.ylabel(\"Price\")\n",
    "plt.grid(True)\n",
    "plt.show()"
   ]
  },
  {
   "cell_type": "code",
   "execution_count": null,
   "id": "36375ceb-d69a-49aa-9145-d5b584262fda",
   "metadata": {},
   "outputs": [],
   "source": [
    "sns.scatterplot(data=df, x=\"Rating\", y=\"Price\", size=\"Reviews\", hue=\"Product\", legend=False)\n",
    "plt.title(\"Product Price vs Rating\")\n",
    "plt.xlabel(\"Rating\")\n",
    "plt.ylabel(\"Price\")\n",
    "plt.grid(True)\n",
    "plt.show()"
   ]
  },
  {
   "cell_type": "code",
   "execution_count": null,
   "id": "e599a494-52d6-4681-8399-f6c5d1cd3e6b",
   "metadata": {},
   "outputs": [],
   "source": [
    "plt.figure(figsize=(8,5))\n",
    "sns.histplot(df[\"Rating\"], bins=5, kde=True, color='skyblue')\n",
    "plt.title(\"Distribution of Product Ratings\")\n",
    "plt.xlabel(\"Rating\")\n",
    "plt.ylabel(\"Number of Products\")\n",
    "plt.grid(True)\n",
    "plt.show()"
   ]
  },
  {
   "cell_type": "code",
   "execution_count": null,
   "id": "99fb9a86-b68a-4155-ad16-7a76343b5462",
   "metadata": {},
   "outputs": [],
   "source": [
    "df[\"Price_per_rating\"] = df[\"Price\"] / df[\"Rating\"]\n",
    "df.sort_values(\"Price_per_rating\")"
   ]
  },
  {
   "cell_type": "code",
   "execution_count": null,
   "id": "0d768656-68d6-4b52-a7d4-a89273d28849",
   "metadata": {},
   "outputs": [],
   "source": []
  },
  {
   "cell_type": "code",
   "execution_count": null,
   "id": "e8e21380-ed1b-4c9f-a6f5-42acc8474b1c",
   "metadata": {},
   "outputs": [],
   "source": []
  },
  {
   "cell_type": "code",
   "execution_count": null,
   "id": "39afb4da-e585-492c-adc8-1a12dba1a61f",
   "metadata": {},
   "outputs": [],
   "source": []
  },
  {
   "cell_type": "code",
   "execution_count": null,
   "id": "99fa3d29-0968-4492-9075-9464ff29d6cf",
   "metadata": {},
   "outputs": [],
   "source": []
  }
 ],
 "metadata": {
  "kernelspec": {
   "display_name": "Python 3 (ipykernel)",
   "language": "python",
   "name": "python3"
  },
  "language_info": {
   "codemirror_mode": {
    "name": "ipython",
    "version": 3
   },
   "file_extension": ".py",
   "mimetype": "text/x-python",
   "name": "python",
   "nbconvert_exporter": "python",
   "pygments_lexer": "ipython3",
   "version": "3.11.13"
  }
 },
 "nbformat": 4,
 "nbformat_minor": 5
}

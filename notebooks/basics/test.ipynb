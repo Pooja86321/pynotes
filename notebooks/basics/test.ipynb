{
 "cells": [
  {
   "cell_type": "code",
   "execution_count": null,
   "id": "66251837-dcff-4659-9f86-8914ad3c0415",
   "metadata": {},
   "outputs": [],
   "source": [
    "print(\"hi\")"
   ]
  },
  {
   "cell_type": "markdown",
   "id": "1ac827c7-9b8b-421a-bb64-843a5944dea7",
   "metadata": {},
   "source": [
    "new code added"
   ]
  },
  {
   "cell_type": "code",
   "execution_count": null,
   "id": "ce06ba14-9a1d-4d5e-ba5a-50e3d49ba410",
   "metadata": {},
   "outputs": [],
   "source": []
  }
 ],
 "metadata": {
  "kernelspec": {
   "display_name": "Python 3 (ipykernel)",
   "language": "python",
   "name": "python3"
  },
  "language_info": {
   "codemirror_mode": {
    "name": "ipython",
    "version": 3
   },
   "file_extension": ".py",
   "mimetype": "text/x-python",
   "name": "python",
   "nbconvert_exporter": "python",
   "pygments_lexer": "ipython3",
   "version": "3.11.13"
  }
 },
 "nbformat": 4,
 "nbformat_minor": 5
}

{
 "cells": [
  {
   "cell_type": "code",
   "execution_count": null,
   "id": "9a11e18a-c3e6-4dac-bd9d-eb9a11307342",
   "metadata": {},
   "outputs": [],
   "source": [
    "import pandas as pd\n",
    "import numpy as np\n",
    "import matplotlib.pyplot as plt\n",
    "import seaborn as sns"
   ]
  },
  {
   "cell_type": "code",
   "execution_count": null,
   "id": "61a5fbdb-140b-47a8-9cee-0e1a4344706c",
   "metadata": {},
   "outputs": [],
   "source": [
    "# Step 1: Load the dataset\n",
    "# Assuming CSV contains columns like: Date, Store_ID, Product_ID, Sales, Quantity, Price\n",
    "df = pd.read_csv('retail_sales.csv', parse_dates=['Date'])"
   ]
  },
  {
   "cell_type": "code",
   "execution_count": null,
   "id": "aeac10bf-d7ff-4e37-bfa1-e8acbd67fb7c",
   "metadata": {},
   "outputs": [],
   "source": [
    "# Step 2: Inspect the data\n",
    "print(df.head())\n",
    "print(df.info())\n",
    "print(df.describe())"
   ]
  },
  {
   "cell_type": "code",
   "execution_count": null,
   "id": "ccdaad7d-77c8-4513-abe2-8abc612dea00",
   "metadata": {},
   "outputs": [],
   "source": [
    "# Step 3: Clean the data\n",
    "# Drop rows with missing values\n",
    "df.dropna(inplace=True)"
   ]
  },
  {
   "cell_type": "code",
   "execution_count": null,
   "id": "33ed1a43-2561-478e-95db-09b61b1ae6c0",
   "metadata": {},
   "outputs": [],
   "source": [
    "# Fix data types if necessary\n",
    "df['Store_ID'] = df['Store_ID'].astype(str)\n",
    "df['Product_ID'] = df['Product_ID'].astype(str)"
   ]
  },
  {
   "cell_type": "code",
   "execution_count": null,
   "id": "ebdfaa11-be87-442d-a05e-dbb7512193fb",
   "metadata": {},
   "outputs": [],
   "source": [
    "# Remove negative sales or quantities\n",
    "df = df[(df['Sales'] >= 0) & (df['Quantity'] > 0)]"
   ]
  },
  {
   "cell_type": "code",
   "execution_count": null,
   "id": "11f8411e-a87f-48ab-8857-77f6c1f42073",
   "metadata": {},
   "outputs": [],
   "source": [
    "# Step 4: Feature engineering\n",
    "# Add a 'Month' column\n",
    "df['Month'] = df['Date'].dt.to_period('M')"
   ]
  },
  {
   "cell_type": "code",
   "execution_count": null,
   "id": "d5c8b936-5c5e-448b-a594-b768e2563e0b",
   "metadata": {},
   "outputs": [],
   "source": [
    "# Calculate revenue (in case Sales and Price are different)\n",
    "df['Revenue'] = df['Quantity'] * df['Price']"
   ]
  },
  {
   "cell_type": "code",
   "execution_count": null,
   "id": "6df96a6b-fcc0-4411-b804-60e2f6ba2ed5",
   "metadata": {},
   "outputs": [],
   "source": [
    "# Step 5: Analyze total revenue per month\n",
    "monthly_revenue = df.groupby('Month')['Revenue'].sum().reset_index()"
   ]
  },
  {
   "cell_type": "code",
   "execution_count": null,
   "id": "b181a546-3c4e-4518-85b9-d83615c6699b",
   "metadata": {},
   "outputs": [],
   "source": [
    "# Step 6: Top 5 selling products by revenue\n",
    "top_products = df.groupby('Product_ID')['Revenue'].sum().nlargest(5).reset_index()"
   ]
  },
  {
   "cell_type": "code",
   "execution_count": null,
   "id": "2f268f40-710f-4a6b-8267-ebfe097e19de",
   "metadata": {},
   "outputs": [],
   "source": [
    "# Step 7: Revenue by store\n",
    "store_revenue = df.groupby('Store_ID')['Revenue'].sum().sort_values(ascending=False).reset_index()"
   ]
  },
  {
   "cell_type": "code",
   "execution_count": null,
   "id": "aca86cfe-2bda-496f-a2cd-b8bebc1a7a20",
   "metadata": {},
   "outputs": [],
   "source": [
    "# Monthly Revenue Trend\n",
    "plt.figure(figsize=(10,6))\n",
    "sns.lineplot(data=monthly_revenue, x='Month', y='Revenue', marker='o')\n",
    "plt.title('Monthly Revenue Trend')\n",
    "plt.xlabel('Month')\n",
    "plt.ylabel('Revenue')\n",
    "plt.xticks(rotation=45)\n",
    "plt.tight_layout()\n",
    "plt.show()"
   ]
  },
  {
   "cell_type": "code",
   "execution_count": null,
   "id": "247503f5-eafc-450d-a0f0-4c0ce5ad0344",
   "metadata": {},
   "outputs": [],
   "source": [
    "# Top Products by Revenue\n",
    "plt.figure(figsize=(8,6))\n",
    "sns.barplot(data=top_products, x='Product_ID', y='Revenue', palette='viridis')\n",
    "plt.title('Top 5 Products by Revenue')\n",
    "plt.xlabel('Product ID')\n",
    "plt.ylabel('Revenue')\n",
    "plt.tight_layout()\n",
    "plt.show()"
   ]
  },
  {
   "cell_type": "code",
   "execution_count": null,
   "id": "ea0ebf9f-5d6b-4787-a359-28da8e970625",
   "metadata": {},
   "outputs": [],
   "source": [
    "# Revenue by Store\n",
    "plt.figure(figsize=(12,6))\n",
    "sns.barplot(data=store_revenue, x='Store_ID', y='Revenue', palette='coolwarm')\n",
    "plt.title('Revenue by Store')\n",
    "plt.xlabel('Store ID')\n",
    "plt.ylabel('Revenue')\n",
    "plt.xticks(rotation=45)\n",
    "plt.tight_layout()\n",
    "plt.show()\n"
   ]
  },
  {
   "cell_type": "code",
   "execution_count": null,
   "id": "599e7ba9-9b12-4db3-87f1-016a83d0610f",
   "metadata": {},
   "outputs": [],
   "source": []
  },
  {
   "cell_type": "code",
   "execution_count": null,
   "id": "3e5b2e6b-42d9-4515-a7cd-fec125f7ee2d",
   "metadata": {},
   "outputs": [],
   "source": []
  },
  {
   "cell_type": "code",
   "execution_count": null,
   "id": "9f978172-0cbb-4112-ae9a-804a06a57701",
   "metadata": {},
   "outputs": [],
   "source": []
  },
  {
   "cell_type": "code",
   "execution_count": null,
   "id": "b8766460-502d-4df5-9653-a9460909966a",
   "metadata": {},
   "outputs": [],
   "source": []
  },
  {
   "cell_type": "code",
   "execution_count": null,
   "id": "3e86b58f-5bb9-494c-a422-3d274cf7788e",
   "metadata": {},
   "outputs": [],
   "source": []
  },
  {
   "cell_type": "code",
   "execution_count": null,
   "id": "387c3348-13bd-4727-9a6e-f12186b9cbe5",
   "metadata": {},
   "outputs": [],
   "source": []
  }
 ],
 "metadata": {
  "kernelspec": {
   "display_name": "Python 3 (ipykernel)",
   "language": "python",
   "name": "python3"
  },
  "language_info": {
   "codemirror_mode": {
    "name": "ipython",
    "version": 3
   },
   "file_extension": ".py",
   "mimetype": "text/x-python",
   "name": "python",
   "nbconvert_exporter": "python",
   "pygments_lexer": "ipython3",
   "version": "3.11.13"
  }
 },
 "nbformat": 4,
 "nbformat_minor": 5
}

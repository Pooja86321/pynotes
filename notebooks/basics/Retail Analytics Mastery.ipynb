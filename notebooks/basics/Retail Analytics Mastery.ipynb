{
 "cells": [
  {
   "cell_type": "code",
   "execution_count": null,
   "id": "69804e18-7172-414f-ba8c-5ce1d9863816",
   "metadata": {},
   "outputs": [],
   "source": [
    "import pandas as pd"
   ]
  },
  {
   "cell_type": "code",
   "execution_count": null,
   "id": "dd3924e1-c02f-42db-aef1-86517f578200",
   "metadata": {},
   "outputs": [],
   "source": [
    "import numpy as np"
   ]
  },
  {
   "cell_type": "code",
   "execution_count": null,
   "id": "37c8bda5-8a6a-4c76-bf22-66f64e47f77e",
   "metadata": {},
   "outputs": [],
   "source": [
    "import matplotlib.pyplot as plt"
   ]
  },
  {
   "cell_type": "code",
   "execution_count": null,
   "id": "1bcfac01-c3b7-4a40-8948-feffa998e7f8",
   "metadata": {},
   "outputs": [],
   "source": [
    "import seaborn as sns"
   ]
  },
  {
   "cell_type": "code",
   "execution_count": null,
   "id": "f6f5c1eb-5e97-45aa-8bd1-4b6f47164425",
   "metadata": {},
   "outputs": [],
   "source": [
    "from sklearn.model_selection import train_test_split"
   ]
  },
  {
   "cell_type": "code",
   "execution_count": null,
   "id": "c87f8544-6244-4cda-8db7-3563ffd2b157",
   "metadata": {},
   "outputs": [],
   "source": [
    "from sklearn.ensemble import RandomForestRegressor"
   ]
  },
  {
   "cell_type": "code",
   "execution_count": null,
   "id": "9e26084e-b130-4a3c-b359-9503b4a37708",
   "metadata": {},
   "outputs": [],
   "source": [
    "from sklearn.metrics import mean_squared_error, r2_score"
   ]
  },
  {
   "cell_type": "code",
   "execution_count": null,
   "id": "237f0f03-1973-4376-99af-a1363a478632",
   "metadata": {},
   "outputs": [],
   "source": [
    "from sklearn.cluster import KMeans"
   ]
  },
  {
   "cell_type": "code",
   "execution_count": null,
   "id": "4c0d32fb-d969-4e40-a59b-978724237fff",
   "metadata": {},
   "outputs": [],
   "source": [
    "from sklearn.preprocessing import StandardScaler"
   ]
  },
  {
   "cell_type": "code",
   "execution_count": null,
   "id": "8671e78d-461b-430e-b3d0-61aa46a12215",
   "metadata": {},
   "outputs": [],
   "source": [
    "import statsmodels.api as sm"
   ]
  },
  {
   "cell_type": "code",
   "execution_count": null,
   "id": "bd253e04-a31d-476c-87ad-b65fdee7b42b",
   "metadata": {},
   "outputs": [],
   "source": [
    "from statsmodels.tsa.seasonal import seasonal_decompose"
   ]
  },
  {
   "cell_type": "code",
   "execution_count": null,
   "id": "29218397-3277-4461-ba78-4d2a77a4cdda",
   "metadata": {},
   "outputs": [],
   "source": [
    "from statsmodels.tsa.holtwinters import ExponentialSmoothing"
   ]
  },
  {
   "cell_type": "code",
   "execution_count": null,
   "id": "b64df2de-ad0a-483a-92f0-429cf2cd17a7",
   "metadata": {},
   "outputs": [],
   "source": [
    "import warnings\n",
    "warnings.filterwarnings('ignore')\n",
    "sns.set(style='whitegrid')"
   ]
  },
  {
   "cell_type": "code",
   "execution_count": null,
   "id": "2d888b4f-b48c-4c3e-88bf-b3311e293692",
   "metadata": {},
   "outputs": [],
   "source": [
    "np.random.seed(42)\n",
    "dates = pd.date_range(start='2023-01-01', periods=730, freq='D')"
   ]
  },
  {
   "cell_type": "code",
   "execution_count": null,
   "id": "da9de91d-2bbf-4ffc-8db7-0d34b099de83",
   "metadata": {},
   "outputs": [],
   "source": [
    "n = len(dates)"
   ]
  },
  {
   "cell_type": "code",
   "execution_count": null,
   "id": "6c29c69e-099d-401d-ab7f-b1c0bb7fabb3",
   "metadata": {},
   "outputs": [],
   "source": [
    "df = pd.DataFrame({\n",
    "    'Date': dates,\n",
    "    'CustomerID': np.random.randint(1000, 1100, n),\n",
    "    'Region': np.random.choice(['North','South','East','West'],n),\n",
    "    'Category': np.random.choice(['Electronics','Furniture','Clothing'],n),\n",
    "    'Quantity': np.random.randint(1,15,n),\n",
    "    'UnitPrice': np.round(np.random.uniform(5,500,n),2)\n",
    "})"
   ]
  },
  {
   "cell_type": "code",
   "execution_count": null,
   "id": "81ef47bc-a7bb-41ea-bece-a27808afe1eb",
   "metadata": {},
   "outputs": [],
   "source": [
    "df['Total'] = df['Quantity'] * df['UnitPrice']"
   ]
  },
  {
   "cell_type": "code",
   "execution_count": null,
   "id": "4779aaec-59ab-48a8-b863-5af1cd7fce03",
   "metadata": {},
   "outputs": [],
   "source": [
    "df['Month'] = df['Date'].dt.month\n",
    "df['WeekOfYear'] = df['Date'].dt.isocalendar().week\n",
    "df['DayOfWeek'] = df['Date'].dt.day_name()"
   ]
  },
  {
   "cell_type": "code",
   "execution_count": null,
   "id": "84dbcf3f-5dfe-4844-90b4-b639201c0631",
   "metadata": {},
   "outputs": [],
   "source": []
  },
  {
   "cell_type": "code",
   "execution_count": null,
   "id": "6e59fac9-a100-4551-9cc9-a8fe38737a14",
   "metadata": {},
   "outputs": [],
   "source": []
  }
 ],
 "metadata": {
  "kernelspec": {
   "display_name": "Python 3 (ipykernel)",
   "language": "python",
   "name": "python3"
  },
  "language_info": {
   "codemirror_mode": {
    "name": "ipython",
    "version": 3
   },
   "file_extension": ".py",
   "mimetype": "text/x-python",
   "name": "python",
   "nbconvert_exporter": "python",
   "pygments_lexer": "ipython3",
   "version": "3.11.13"
  }
 },
 "nbformat": 4,
 "nbformat_minor": 5
}
